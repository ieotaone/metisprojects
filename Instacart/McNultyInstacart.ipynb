{
 "cells": [
  {
   "cell_type": "code",
   "execution_count": 1,
   "metadata": {
    "ExecuteTime": {
     "end_time": "2019-04-10T18:07:45.592133Z",
     "start_time": "2019-04-10T18:07:42.535483Z"
    }
   },
   "outputs": [
    {
     "name": "stdout",
     "output_type": "stream",
     "text": [
      "Populating the interactive namespace from numpy and matplotlib\n"
     ]
    }
   ],
   "source": [
    "import pandas as pd\n",
    "import psycopg2 as pg\n",
    "import pickle\n",
    "import numpy as np\n",
    "# visualization imports\n",
    "import matplotlib.pyplot as plt\n",
    "import seaborn as sns\n",
    "#plt.style.use('fivethirtyeight')\n",
    "from collections import OrderedDict \n",
    "\n",
    "%matplotlib inline\n",
    "\n",
    "%pylab inline\n",
    "%config InLineBackend.figure_formats=['retina']\n",
    "\n",
    "from sklearn.linear_model import LogisticRegression\n",
    "from sklearn.model_selection import train_test_split\n",
    "from sklearn.metrics import precision_score, recall_score, accuracy_score, roc_auc_score, f1_score\n",
    "from sklearn.metrics import confusion_matrix\n",
    "from sklearn.preprocessing import StandardScaler\n",
    "from sklearn.neighbors import KNeighborsClassifier\n",
    "from sklearn.ensemble import RandomForestClassifier\n",
    "from sklearn.model_selection import cross_val_score"
   ]
  },
  {
   "cell_type": "code",
   "execution_count": 2,
   "metadata": {
    "ExecuteTime": {
     "end_time": "2019-04-10T18:09:01.126068Z",
     "start_time": "2019-04-10T18:07:45.595759Z"
    }
   },
   "outputs": [
    {
     "ename": "OperationalError",
     "evalue": "could not connect to server: Operation timed out\n\tIs the server running on host \"3.17.201.157\" and accepting\n\tTCP/IP connections on port 5432?\n",
     "output_type": "error",
     "traceback": [
      "\u001b[0;31m---------------------------------------------------------------------------\u001b[0m",
      "\u001b[0;31mOperationalError\u001b[0m                          Traceback (most recent call last)",
      "\u001b[0;32m<ipython-input-2-cff1acecb060>\u001b[0m in \u001b[0;36m<module>\u001b[0;34m()\u001b[0m\n\u001b[1;32m      5\u001b[0m     \u001b[0;34m'port'\u001b[0m\u001b[0;34m:\u001b[0m \u001b[0;36m5432\u001b[0m             \u001b[0;31m# port we opened on AWS\u001b[0m\u001b[0;34m\u001b[0m\u001b[0;34m\u001b[0m\u001b[0m\n\u001b[1;32m      6\u001b[0m }\n\u001b[0;32m----> 7\u001b[0;31m \u001b[0mconnection\u001b[0m \u001b[0;34m=\u001b[0m \u001b[0mpg\u001b[0m\u001b[0;34m.\u001b[0m\u001b[0mconnect\u001b[0m\u001b[0;34m(\u001b[0m\u001b[0;34m**\u001b[0m\u001b[0mconnection_args\u001b[0m\u001b[0;34m)\u001b[0m\u001b[0;34m\u001b[0m\u001b[0;34m\u001b[0m\u001b[0m\n\u001b[0m",
      "\u001b[0;32m~/anaconda3/lib/python3.6/site-packages/psycopg2/__init__.py\u001b[0m in \u001b[0;36mconnect\u001b[0;34m(dsn, connection_factory, cursor_factory, **kwargs)\u001b[0m\n\u001b[1;32m    128\u001b[0m \u001b[0;34m\u001b[0m\u001b[0m\n\u001b[1;32m    129\u001b[0m     \u001b[0mdsn\u001b[0m \u001b[0;34m=\u001b[0m \u001b[0m_ext\u001b[0m\u001b[0;34m.\u001b[0m\u001b[0mmake_dsn\u001b[0m\u001b[0;34m(\u001b[0m\u001b[0mdsn\u001b[0m\u001b[0;34m,\u001b[0m \u001b[0;34m**\u001b[0m\u001b[0mkwargs\u001b[0m\u001b[0;34m)\u001b[0m\u001b[0;34m\u001b[0m\u001b[0;34m\u001b[0m\u001b[0m\n\u001b[0;32m--> 130\u001b[0;31m     \u001b[0mconn\u001b[0m \u001b[0;34m=\u001b[0m \u001b[0m_connect\u001b[0m\u001b[0;34m(\u001b[0m\u001b[0mdsn\u001b[0m\u001b[0;34m,\u001b[0m \u001b[0mconnection_factory\u001b[0m\u001b[0;34m=\u001b[0m\u001b[0mconnection_factory\u001b[0m\u001b[0;34m,\u001b[0m \u001b[0;34m**\u001b[0m\u001b[0mkwasync\u001b[0m\u001b[0;34m)\u001b[0m\u001b[0;34m\u001b[0m\u001b[0;34m\u001b[0m\u001b[0m\n\u001b[0m\u001b[1;32m    131\u001b[0m     \u001b[0;32mif\u001b[0m \u001b[0mcursor_factory\u001b[0m \u001b[0;32mis\u001b[0m \u001b[0;32mnot\u001b[0m \u001b[0;32mNone\u001b[0m\u001b[0;34m:\u001b[0m\u001b[0;34m\u001b[0m\u001b[0;34m\u001b[0m\u001b[0m\n\u001b[1;32m    132\u001b[0m         \u001b[0mconn\u001b[0m\u001b[0;34m.\u001b[0m\u001b[0mcursor_factory\u001b[0m \u001b[0;34m=\u001b[0m \u001b[0mcursor_factory\u001b[0m\u001b[0;34m\u001b[0m\u001b[0;34m\u001b[0m\u001b[0m\n",
      "\u001b[0;31mOperationalError\u001b[0m: could not connect to server: Operation timed out\n\tIs the server running on host \"3.17.201.157\" and accepting\n\tTCP/IP connections on port 5432?\n"
     ]
    }
   ],
   "source": [
    "connection_args = {\n",
    "    'host': '3.17.201.157',  # You will need to put the PUBLIC IP address of your AWS instance here\n",
    "    'user': 'ubuntu',    # your username on AWS is 'ubuntu'\n",
    "    'dbname': 'instacart',    # DB that we are connecting to\n",
    "    'port': 5432             # port we opened on AWS\n",
    "}\n",
    "connection = pg.connect(**connection_args)"
   ]
  },
  {
   "cell_type": "code",
   "execution_count": null,
   "metadata": {
    "ExecuteTime": {
     "end_time": "2019-04-10T18:09:01.127277Z",
     "start_time": "2019-04-10T18:07:44.223Z"
    }
   },
   "outputs": [],
   "source": [
    "cursor = connection.cursor()"
   ]
  },
  {
   "cell_type": "code",
   "execution_count": null,
   "metadata": {},
   "outputs": [],
   "source": [
    "cursor.execute('SELECT * FROM orders')\n",
    "new_list = list(cursor.fetchall())"
   ]
  },
  {
   "cell_type": "code",
   "execution_count": null,
   "metadata": {},
   "outputs": [],
   "source": [
    "orderdf = pd.DataFrame(new_list)"
   ]
  },
  {
   "cell_type": "code",
   "execution_count": null,
   "metadata": {},
   "outputs": [],
   "source": [
    "orderdf.head()"
   ]
  },
  {
   "cell_type": "code",
   "execution_count": null,
   "metadata": {},
   "outputs": [],
   "source": [
    "orderdf.columns=[\"order_id\",\"user_id\",\"eval_set\",\"order_number\", \"order_dow\",\"order_hour_of_day\",\"days_since_prior_order\"]"
   ]
  },
  {
   "cell_type": "code",
   "execution_count": null,
   "metadata": {},
   "outputs": [],
   "source": [
    "orderdf.head()"
   ]
  },
  {
   "cell_type": "code",
   "execution_count": null,
   "metadata": {},
   "outputs": [],
   "source": [
    "orderdf.info()"
   ]
  },
  {
   "cell_type": "code",
   "execution_count": null,
   "metadata": {},
   "outputs": [],
   "source": [
    "orderdf['order_id'] = orderdf['order_id'].astype(int)"
   ]
  },
  {
   "cell_type": "code",
   "execution_count": null,
   "metadata": {},
   "outputs": [],
   "source": [
    "orderdf['order_number'] = orderdf['order_number'].astype(int)"
   ]
  },
  {
   "cell_type": "code",
   "execution_count": null,
   "metadata": {},
   "outputs": [],
   "source": [
    "orderdf['user_id'] = orderdf['user_id'].astype(int)"
   ]
  },
  {
   "cell_type": "code",
   "execution_count": null,
   "metadata": {},
   "outputs": [],
   "source": [
    "orderdf['order_dow'] = orderdf['order_dow'].astype(int)"
   ]
  },
  {
   "cell_type": "code",
   "execution_count": null,
   "metadata": {},
   "outputs": [],
   "source": [
    "orderdf['order_hour_of_day'] = orderdf['order_hour_of_day'].astype(int)"
   ]
  },
  {
   "cell_type": "code",
   "execution_count": null,
   "metadata": {},
   "outputs": [],
   "source": [
    "orderdf=orderdf.fillna(30)"
   ]
  },
  {
   "cell_type": "code",
   "execution_count": null,
   "metadata": {},
   "outputs": [],
   "source": [
    "orderdf['days_since_prior_order'] = orderdf['days_since_prior_order'].astype(float)"
   ]
  },
  {
   "cell_type": "code",
   "execution_count": null,
   "metadata": {},
   "outputs": [],
   "source": [
    "orderdf.info()"
   ]
  },
  {
   "cell_type": "code",
   "execution_count": 3,
   "metadata": {},
   "outputs": [],
   "source": [
    "#with open('orderdf.pkl', 'wb') as picklefile:\n",
    " #     pickle.dump(orderdf, picklefile)\n",
    "with open(\"orderdf.pkl\", 'rb') as picklefile: \n",
    "      orderdf = pickle.load(picklefile)"
   ]
  },
  {
   "cell_type": "code",
   "execution_count": null,
   "metadata": {},
   "outputs": [],
   "source": [
    "orderdf.info()"
   ]
  },
  {
   "cell_type": "code",
   "execution_count": null,
   "metadata": {},
   "outputs": [],
   "source": [
    "cursor.execute('SELECT * FROM order_products_prior LIMIT 1048576')\n",
    "order_products_prior = list(cursor.fetchall())"
   ]
  },
  {
   "cell_type": "code",
   "execution_count": null,
   "metadata": {},
   "outputs": [],
   "source": [
    "#order_products_list"
   ]
  },
  {
   "cell_type": "code",
   "execution_count": null,
   "metadata": {},
   "outputs": [],
   "source": [
    "df_orderproductsprior = pd.DataFrame(order_products_prior)"
   ]
  },
  {
   "cell_type": "code",
   "execution_count": null,
   "metadata": {},
   "outputs": [],
   "source": [
    "df_orderproductsprior.head()"
   ]
  },
  {
   "cell_type": "code",
   "execution_count": null,
   "metadata": {},
   "outputs": [],
   "source": [
    "df_orderproductsprior.columns=['order_id','product_id','add_to_cart_order','reordered']"
   ]
  },
  {
   "cell_type": "code",
   "execution_count": null,
   "metadata": {},
   "outputs": [],
   "source": [
    "df_orderproductsprior['order_id'] = df_orderproductsprior['order_id'].astype(int)"
   ]
  },
  {
   "cell_type": "code",
   "execution_count": null,
   "metadata": {},
   "outputs": [],
   "source": [
    "df_orderproductsprior['product_id'] = df_orderproductsprior['product_id'].astype(int)"
   ]
  },
  {
   "cell_type": "code",
   "execution_count": null,
   "metadata": {},
   "outputs": [],
   "source": [
    "df_orderproductsprior['add_to_cart_order'] = df_orderproductsprior['add_to_cart_order'].astype(int)"
   ]
  },
  {
   "cell_type": "code",
   "execution_count": null,
   "metadata": {},
   "outputs": [],
   "source": [
    "df_orderproductsprior['reordered'] = df_orderproductsprior['reordered'].astype(int)"
   ]
  },
  {
   "cell_type": "code",
   "execution_count": null,
   "metadata": {},
   "outputs": [],
   "source": [
    "df_orderproductsprior.info()"
   ]
  },
  {
   "cell_type": "code",
   "execution_count": 4,
   "metadata": {},
   "outputs": [],
   "source": [
    "#with open('df_orderproductsprior.pkl', 'wb') as picklefile:\n",
    " #    pickle.dump(df_orderproductsprior, picklefile)\n",
    "with open(\"df_orderproductsprior.pkl\", 'rb') as picklefile: \n",
    "      df_orderproductsprior = pickle.load(picklefile)"
   ]
  },
  {
   "cell_type": "code",
   "execution_count": null,
   "metadata": {},
   "outputs": [],
   "source": [
    "df_orderproductsprior.head()"
   ]
  },
  {
   "cell_type": "code",
   "execution_count": null,
   "metadata": {},
   "outputs": [],
   "source": [
    "cursor.execute('SELECT * FROM order_products_train')\n",
    "order_products_train = list(cursor.fetchall())"
   ]
  },
  {
   "cell_type": "code",
   "execution_count": null,
   "metadata": {},
   "outputs": [],
   "source": [
    "order_products_train"
   ]
  },
  {
   "cell_type": "code",
   "execution_count": null,
   "metadata": {},
   "outputs": [],
   "source": [
    "df_orderproductstrain = pd.DataFrame(order_products_train)"
   ]
  },
  {
   "cell_type": "code",
   "execution_count": null,
   "metadata": {},
   "outputs": [],
   "source": [
    "df_orderproductstrain.head()"
   ]
  },
  {
   "cell_type": "code",
   "execution_count": null,
   "metadata": {},
   "outputs": [],
   "source": [
    "df_orderproductstrain.columns=['order_id','product_id','add_to_cart_order','reordered']"
   ]
  },
  {
   "cell_type": "code",
   "execution_count": null,
   "metadata": {},
   "outputs": [],
   "source": [
    "df_orderproductstrain.head()"
   ]
  },
  {
   "cell_type": "code",
   "execution_count": null,
   "metadata": {},
   "outputs": [],
   "source": [
    "df_orderproductstrain['order_id'] = df_orderproductstrain['order_id'].astype(int)"
   ]
  },
  {
   "cell_type": "code",
   "execution_count": null,
   "metadata": {},
   "outputs": [],
   "source": [
    "df_orderproductstrain['product_id'] = df_orderproductstrain['product_id'].astype(int)"
   ]
  },
  {
   "cell_type": "code",
   "execution_count": null,
   "metadata": {},
   "outputs": [],
   "source": [
    "df_orderproductstrain['add_to_cart_order'] = df_orderproductstrain['add_to_cart_order'].astype(int)"
   ]
  },
  {
   "cell_type": "code",
   "execution_count": null,
   "metadata": {},
   "outputs": [],
   "source": [
    "df_orderproductstrain['reordered'] = df_orderproductstrain['reordered'].astype(int)"
   ]
  },
  {
   "cell_type": "code",
   "execution_count": null,
   "metadata": {},
   "outputs": [],
   "source": [
    "df_orderproductstrain.info()"
   ]
  },
  {
   "cell_type": "code",
   "execution_count": 5,
   "metadata": {},
   "outputs": [],
   "source": [
    "#with open('df_orderproductstrain.pkl', 'wb') as picklefile:\n",
    " #    pickle.dump(df_orderproductstrain, picklefile)\n",
    "with open(\"df_orderproductstrain.pkl\", 'rb') as picklefile: \n",
    "      df_orderproductstrain = pickle.load(picklefile)"
   ]
  },
  {
   "cell_type": "code",
   "execution_count": null,
   "metadata": {},
   "outputs": [],
   "source": [
    "df_orderproductstrain.head()"
   ]
  },
  {
   "cell_type": "code",
   "execution_count": null,
   "metadata": {},
   "outputs": [],
   "source": [
    "cursor.execute('SELECT * FROM aisles')\n",
    "aisles = list(cursor.fetchall())"
   ]
  },
  {
   "cell_type": "code",
   "execution_count": null,
   "metadata": {},
   "outputs": [],
   "source": [
    "#cursor.execute('rollback;')\n"
   ]
  },
  {
   "cell_type": "code",
   "execution_count": null,
   "metadata": {},
   "outputs": [],
   "source": [
    "aislesdf = pd.DataFrame(aisles)"
   ]
  },
  {
   "cell_type": "code",
   "execution_count": null,
   "metadata": {},
   "outputs": [],
   "source": [
    "aislesdf.columns=['aisle_id','aisle']"
   ]
  },
  {
   "cell_type": "code",
   "execution_count": null,
   "metadata": {},
   "outputs": [],
   "source": [
    "aislesdf"
   ]
  },
  {
   "cell_type": "code",
   "execution_count": null,
   "metadata": {},
   "outputs": [],
   "source": [
    "aislesdf['aisle_id'] = aislesdf['aisle_id'].astype(int)"
   ]
  },
  {
   "cell_type": "code",
   "execution_count": null,
   "metadata": {},
   "outputs": [],
   "source": [
    "aislesdf.info()"
   ]
  },
  {
   "cell_type": "code",
   "execution_count": 6,
   "metadata": {},
   "outputs": [],
   "source": [
    "#with open('aislesdf.pkl', 'wb') as picklefile:\n",
    " #    pickle.dump(aislesdf, picklefile)\n",
    "with open(\"aislesdf.pkl\", 'rb') as picklefile: \n",
    "      aislesdf = pickle.load(picklefile)"
   ]
  },
  {
   "cell_type": "code",
   "execution_count": null,
   "metadata": {},
   "outputs": [],
   "source": [
    "aislesdf.head()"
   ]
  },
  {
   "cell_type": "code",
   "execution_count": null,
   "metadata": {},
   "outputs": [],
   "source": [
    "cursor.execute('SELECT * FROM departments')\n",
    "departments = list(cursor.fetchall())"
   ]
  },
  {
   "cell_type": "code",
   "execution_count": null,
   "metadata": {},
   "outputs": [],
   "source": [
    "departmentsdf = pd.DataFrame(departments)"
   ]
  },
  {
   "cell_type": "code",
   "execution_count": null,
   "metadata": {},
   "outputs": [],
   "source": [
    "departmentsdf.columns=['department_id','department']"
   ]
  },
  {
   "cell_type": "code",
   "execution_count": null,
   "metadata": {},
   "outputs": [],
   "source": [
    "departmentsdf.head()"
   ]
  },
  {
   "cell_type": "code",
   "execution_count": null,
   "metadata": {},
   "outputs": [],
   "source": [
    "departmentsdf['department_id'] = departmentsdf['department_id'].astype(int)"
   ]
  },
  {
   "cell_type": "code",
   "execution_count": 7,
   "metadata": {},
   "outputs": [],
   "source": [
    "#with open('departmentsdf.pkl', 'wb') as picklefile:\n",
    " #     pickle.dump(departmentsdf, picklefile)\n",
    "with open(\"departmentsdf.pkl\", 'rb') as picklefile: \n",
    "      departmentsdf = pickle.load(picklefile)"
   ]
  },
  {
   "cell_type": "code",
   "execution_count": null,
   "metadata": {},
   "outputs": [],
   "source": [
    "departmentsdf.head()"
   ]
  },
  {
   "cell_type": "code",
   "execution_count": null,
   "metadata": {},
   "outputs": [],
   "source": [
    "cursor.execute('SELECT * FROM products')\n",
    "products = list(cursor.fetchall())"
   ]
  },
  {
   "cell_type": "code",
   "execution_count": null,
   "metadata": {},
   "outputs": [],
   "source": [
    "productsdf = pd.DataFrame(products)"
   ]
  },
  {
   "cell_type": "code",
   "execution_count": null,
   "metadata": {},
   "outputs": [],
   "source": [
    "productsdf.columns=['product_id','product_name','aisle_id','department_id']"
   ]
  },
  {
   "cell_type": "code",
   "execution_count": null,
   "metadata": {},
   "outputs": [],
   "source": [
    "productsdf.head()"
   ]
  },
  {
   "cell_type": "code",
   "execution_count": null,
   "metadata": {},
   "outputs": [],
   "source": [
    "productsdf['product_id'] = productsdf['product_id'].astype(int)"
   ]
  },
  {
   "cell_type": "code",
   "execution_count": null,
   "metadata": {},
   "outputs": [],
   "source": [
    "productsdf['aisle_id'] = productsdf['aisle_id'].astype(int)"
   ]
  },
  {
   "cell_type": "code",
   "execution_count": null,
   "metadata": {},
   "outputs": [],
   "source": [
    "productsdf['department_id'] = productsdf['department_id'].astype(int)"
   ]
  },
  {
   "cell_type": "code",
   "execution_count": null,
   "metadata": {},
   "outputs": [],
   "source": []
  },
  {
   "cell_type": "code",
   "execution_count": 8,
   "metadata": {},
   "outputs": [],
   "source": [
    "#with open('productsdf.pkl', 'wb') as picklefile:\n",
    " #     pickle.dump(productsdf, picklefile)\n",
    "with open(\"productsdf.pkl\", 'rb') as picklefile: \n",
    "      productsdf = pickle.load(picklefile)"
   ]
  },
  {
   "cell_type": "code",
   "execution_count": null,
   "metadata": {},
   "outputs": [],
   "source": [
    "productsdf.head()"
   ]
  },
  {
   "cell_type": "code",
   "execution_count": null,
   "metadata": {},
   "outputs": [],
   "source": [
    "productsdf.info()"
   ]
  },
  {
   "cell_type": "markdown",
   "metadata": {
    "collapsed": true
   },
   "source": [
    "cursor.execute('SELECT * FROM order_products_prior')\n",
    "order_products_list = list(cursor.fetchall())"
   ]
  },
  {
   "cell_type": "code",
   "execution_count": null,
   "metadata": {},
   "outputs": [],
   "source": [
    "#order_products_list"
   ]
  },
  {
   "cell_type": "markdown",
   "metadata": {},
   "source": [
    "##ANALYSIS"
   ]
  },
  {
   "cell_type": "code",
   "execution_count": 9,
   "metadata": {},
   "outputs": [
    {
     "name": "stdout",
     "output_type": "stream",
     "text": [
      "<class 'pandas.core.frame.DataFrame'>\n",
      "Int64Index: 1384617 entries, 0 to 1384616\n",
      "Data columns (total 9 columns):\n",
      "order_id                  1384617 non-null int64\n",
      "product_id                1384617 non-null int64\n",
      "add_to_cart_order         1384617 non-null int64\n",
      "reordered                 1384617 non-null int64\n",
      "user_id                   1384617 non-null int64\n",
      "order_number              1384617 non-null int64\n",
      "order_dow                 1384617 non-null int64\n",
      "order_hour_of_day         1384617 non-null int64\n",
      "days_since_prior_order    1384617 non-null float64\n",
      "dtypes: float64(1), int64(8)\n",
      "memory usage: 105.6 MB\n"
     ]
    }
   ],
   "source": [
    "df_orderproductstrain = df_orderproductstrain.merge(orderdf.drop('eval_set', axis=1), on='order_id')\n",
    "df_orderproductsprior = df_orderproductsprior.merge(orderdf.drop('eval_set', axis=1), on='order_id')\n",
    "\n",
    "df_orderproductstrain.info()"
   ]
  },
  {
   "cell_type": "code",
   "execution_count": 10,
   "metadata": {},
   "outputs": [
    {
     "data": {
      "text/plain": [
       "30.0    407265\n",
       "7.0     106801\n",
       "6.0      72138\n",
       "8.0      61821\n",
       "5.0      54117\n",
       "14.0     51690\n",
       "4.0      45727\n",
       "9.0      43410\n",
       "13.0     39081\n",
       "3.0      36550\n",
       "10.0     35213\n",
       "12.0     33391\n",
       "15.0     33281\n",
       "11.0     32876\n",
       "21.0     29173\n",
       "2.0      27504\n",
       "16.0     24023\n",
       "20.0     23960\n",
       "28.0     21223\n",
       "17.0     20902\n",
       "19.0     20638\n",
       "22.0     20457\n",
       "18.0     20134\n",
       "1.0      19265\n",
       "0.0      17044\n",
       "23.0     15575\n",
       "27.0     15460\n",
       "29.0     15397\n",
       "25.0     14054\n",
       "24.0     13947\n",
       "26.0     12500\n",
       "Name: days_since_prior_order, dtype: int64"
      ]
     },
     "execution_count": 10,
     "metadata": {},
     "output_type": "execute_result"
    }
   ],
   "source": [
    "df_orderproductstrain['days_since_prior_order'].value_counts()"
   ]
  },
  {
   "cell_type": "code",
   "execution_count": 11,
   "metadata": {},
   "outputs": [
    {
     "data": {
      "text/html": [
       "<div>\n",
       "<style scoped>\n",
       "    .dataframe tbody tr th:only-of-type {\n",
       "        vertical-align: middle;\n",
       "    }\n",
       "\n",
       "    .dataframe tbody tr th {\n",
       "        vertical-align: top;\n",
       "    }\n",
       "\n",
       "    .dataframe thead th {\n",
       "        text-align: right;\n",
       "    }\n",
       "</style>\n",
       "<table border=\"1\" class=\"dataframe\">\n",
       "  <thead>\n",
       "    <tr style=\"text-align: right;\">\n",
       "      <th></th>\n",
       "      <th>order_id</th>\n",
       "      <th>product_id</th>\n",
       "      <th>add_to_cart_order</th>\n",
       "      <th>reordered</th>\n",
       "      <th>user_id</th>\n",
       "      <th>order_number</th>\n",
       "      <th>order_dow</th>\n",
       "      <th>order_hour_of_day</th>\n",
       "      <th>days_since_prior_order</th>\n",
       "    </tr>\n",
       "  </thead>\n",
       "  <tbody>\n",
       "    <tr>\n",
       "      <th>0</th>\n",
       "      <td>110604</td>\n",
       "      <td>44910</td>\n",
       "      <td>4</td>\n",
       "      <td>1</td>\n",
       "      <td>102133</td>\n",
       "      <td>38</td>\n",
       "      <td>4</td>\n",
       "      <td>19</td>\n",
       "      <td>1.0</td>\n",
       "    </tr>\n",
       "    <tr>\n",
       "      <th>1</th>\n",
       "      <td>110604</td>\n",
       "      <td>9839</td>\n",
       "      <td>5</td>\n",
       "      <td>1</td>\n",
       "      <td>102133</td>\n",
       "      <td>38</td>\n",
       "      <td>4</td>\n",
       "      <td>19</td>\n",
       "      <td>1.0</td>\n",
       "    </tr>\n",
       "    <tr>\n",
       "      <th>2</th>\n",
       "      <td>110604</td>\n",
       "      <td>45007</td>\n",
       "      <td>6</td>\n",
       "      <td>1</td>\n",
       "      <td>102133</td>\n",
       "      <td>38</td>\n",
       "      <td>4</td>\n",
       "      <td>19</td>\n",
       "      <td>1.0</td>\n",
       "    </tr>\n",
       "    <tr>\n",
       "      <th>3</th>\n",
       "      <td>110604</td>\n",
       "      <td>23165</td>\n",
       "      <td>7</td>\n",
       "      <td>1</td>\n",
       "      <td>102133</td>\n",
       "      <td>38</td>\n",
       "      <td>4</td>\n",
       "      <td>19</td>\n",
       "      <td>1.0</td>\n",
       "    </tr>\n",
       "    <tr>\n",
       "      <th>4</th>\n",
       "      <td>110604</td>\n",
       "      <td>36869</td>\n",
       "      <td>8</td>\n",
       "      <td>0</td>\n",
       "      <td>102133</td>\n",
       "      <td>38</td>\n",
       "      <td>4</td>\n",
       "      <td>19</td>\n",
       "      <td>1.0</td>\n",
       "    </tr>\n",
       "    <tr>\n",
       "      <th>5</th>\n",
       "      <td>110604</td>\n",
       "      <td>22416</td>\n",
       "      <td>9</td>\n",
       "      <td>0</td>\n",
       "      <td>102133</td>\n",
       "      <td>38</td>\n",
       "      <td>4</td>\n",
       "      <td>19</td>\n",
       "      <td>1.0</td>\n",
       "    </tr>\n",
       "    <tr>\n",
       "      <th>6</th>\n",
       "      <td>110604</td>\n",
       "      <td>26915</td>\n",
       "      <td>10</td>\n",
       "      <td>1</td>\n",
       "      <td>102133</td>\n",
       "      <td>38</td>\n",
       "      <td>4</td>\n",
       "      <td>19</td>\n",
       "      <td>1.0</td>\n",
       "    </tr>\n",
       "    <tr>\n",
       "      <th>7</th>\n",
       "      <td>110604</td>\n",
       "      <td>12745</td>\n",
       "      <td>11</td>\n",
       "      <td>1</td>\n",
       "      <td>102133</td>\n",
       "      <td>38</td>\n",
       "      <td>4</td>\n",
       "      <td>19</td>\n",
       "      <td>1.0</td>\n",
       "    </tr>\n",
       "    <tr>\n",
       "      <th>8</th>\n",
       "      <td>110604</td>\n",
       "      <td>17553</td>\n",
       "      <td>12</td>\n",
       "      <td>1</td>\n",
       "      <td>102133</td>\n",
       "      <td>38</td>\n",
       "      <td>4</td>\n",
       "      <td>19</td>\n",
       "      <td>1.0</td>\n",
       "    </tr>\n",
       "    <tr>\n",
       "      <th>9</th>\n",
       "      <td>110604</td>\n",
       "      <td>37947</td>\n",
       "      <td>13</td>\n",
       "      <td>1</td>\n",
       "      <td>102133</td>\n",
       "      <td>38</td>\n",
       "      <td>4</td>\n",
       "      <td>19</td>\n",
       "      <td>1.0</td>\n",
       "    </tr>\n",
       "  </tbody>\n",
       "</table>\n",
       "</div>"
      ],
      "text/plain": [
       "   order_id  product_id  add_to_cart_order  reordered  user_id  order_number  \\\n",
       "0    110604       44910                  4          1   102133            38   \n",
       "1    110604        9839                  5          1   102133            38   \n",
       "2    110604       45007                  6          1   102133            38   \n",
       "3    110604       23165                  7          1   102133            38   \n",
       "4    110604       36869                  8          0   102133            38   \n",
       "5    110604       22416                  9          0   102133            38   \n",
       "6    110604       26915                 10          1   102133            38   \n",
       "7    110604       12745                 11          1   102133            38   \n",
       "8    110604       17553                 12          1   102133            38   \n",
       "9    110604       37947                 13          1   102133            38   \n",
       "\n",
       "   order_dow  order_hour_of_day  days_since_prior_order  \n",
       "0          4                 19                     1.0  \n",
       "1          4                 19                     1.0  \n",
       "2          4                 19                     1.0  \n",
       "3          4                 19                     1.0  \n",
       "4          4                 19                     1.0  \n",
       "5          4                 19                     1.0  \n",
       "6          4                 19                     1.0  \n",
       "7          4                 19                     1.0  \n",
       "8          4                 19                     1.0  \n",
       "9          4                 19                     1.0  "
      ]
     },
     "execution_count": 11,
     "metadata": {},
     "output_type": "execute_result"
    }
   ],
   "source": [
    "df_orderproductsprior.head(10) #group user and product id and add up all the orders"
   ]
  },
  {
   "cell_type": "code",
   "execution_count": 12,
   "metadata": {},
   "outputs": [
    {
     "data": {
      "text/html": [
       "<div>\n",
       "<style scoped>\n",
       "    .dataframe tbody tr th:only-of-type {\n",
       "        vertical-align: middle;\n",
       "    }\n",
       "\n",
       "    .dataframe tbody tr th {\n",
       "        vertical-align: top;\n",
       "    }\n",
       "\n",
       "    .dataframe thead th {\n",
       "        text-align: right;\n",
       "    }\n",
       "</style>\n",
       "<table border=\"1\" class=\"dataframe\">\n",
       "  <thead>\n",
       "    <tr style=\"text-align: right;\">\n",
       "      <th></th>\n",
       "      <th>product_id</th>\n",
       "      <th>user_id</th>\n",
       "      <th>user_product_total_orders</th>\n",
       "    </tr>\n",
       "  </thead>\n",
       "  <tbody>\n",
       "    <tr>\n",
       "      <th>0</th>\n",
       "      <td>1</td>\n",
       "      <td>1494</td>\n",
       "      <td>1</td>\n",
       "    </tr>\n",
       "    <tr>\n",
       "      <th>1</th>\n",
       "      <td>1</td>\n",
       "      <td>1540</td>\n",
       "      <td>1</td>\n",
       "    </tr>\n",
       "    <tr>\n",
       "      <th>2</th>\n",
       "      <td>1</td>\n",
       "      <td>3904</td>\n",
       "      <td>1</td>\n",
       "    </tr>\n",
       "    <tr>\n",
       "      <th>4</th>\n",
       "      <td>1</td>\n",
       "      <td>15182</td>\n",
       "      <td>1</td>\n",
       "    </tr>\n",
       "    <tr>\n",
       "      <th>6</th>\n",
       "      <td>1</td>\n",
       "      <td>26613</td>\n",
       "      <td>1</td>\n",
       "    </tr>\n",
       "    <tr>\n",
       "      <th>9</th>\n",
       "      <td>1</td>\n",
       "      <td>37613</td>\n",
       "      <td>1</td>\n",
       "    </tr>\n",
       "    <tr>\n",
       "      <th>10</th>\n",
       "      <td>1</td>\n",
       "      <td>38457</td>\n",
       "      <td>1</td>\n",
       "    </tr>\n",
       "    <tr>\n",
       "      <th>11</th>\n",
       "      <td>1</td>\n",
       "      <td>52564</td>\n",
       "      <td>2</td>\n",
       "    </tr>\n",
       "    <tr>\n",
       "      <th>13</th>\n",
       "      <td>1</td>\n",
       "      <td>57585</td>\n",
       "      <td>1</td>\n",
       "    </tr>\n",
       "    <tr>\n",
       "      <th>14</th>\n",
       "      <td>1</td>\n",
       "      <td>57938</td>\n",
       "      <td>2</td>\n",
       "    </tr>\n",
       "  </tbody>\n",
       "</table>\n",
       "</div>"
      ],
      "text/plain": [
       "    product_id  user_id  user_product_total_orders\n",
       "0            1     1494                          1\n",
       "1            1     1540                          1\n",
       "2            1     3904                          1\n",
       "4            1    15182                          1\n",
       "6            1    26613                          1\n",
       "9            1    37613                          1\n",
       "10           1    38457                          1\n",
       "11           1    52564                          2\n",
       "13           1    57585                          1\n",
       "14           1    57938                          2"
      ]
     },
     "execution_count": 12,
     "metadata": {},
     "output_type": "execute_result"
    }
   ],
   "source": [
    "user_productdf = (df_orderproductsprior.groupby(['product_id','user_id'],as_index=False) \n",
    "                                          .agg({'order_id':'count'}) \n",
    "                                          .rename(columns={'order_id':'user_product_total_orders'}))\n",
    "train_ids = df_orderproductstrain['user_id'].unique()\n",
    "df_X = user_productdf[user_productdf['user_id'].isin(train_ids)]\n",
    "df_X.head(10)"
   ]
  },
  {
   "cell_type": "code",
   "execution_count": 13,
   "metadata": {},
   "outputs": [
    {
     "data": {
      "text/html": [
       "<div>\n",
       "<style scoped>\n",
       "    .dataframe tbody tr th:only-of-type {\n",
       "        vertical-align: middle;\n",
       "    }\n",
       "\n",
       "    .dataframe tbody tr th {\n",
       "        vertical-align: top;\n",
       "    }\n",
       "\n",
       "    .dataframe thead th {\n",
       "        text-align: right;\n",
       "    }\n",
       "</style>\n",
       "<table border=\"1\" class=\"dataframe\">\n",
       "  <thead>\n",
       "    <tr style=\"text-align: right;\">\n",
       "      <th></th>\n",
       "      <th>product_id</th>\n",
       "      <th>user_id</th>\n",
       "      <th>user_product_total_orders</th>\n",
       "      <th>latest_cart</th>\n",
       "      <th>in_cart</th>\n",
       "    </tr>\n",
       "  </thead>\n",
       "  <tbody>\n",
       "    <tr>\n",
       "      <th>0</th>\n",
       "      <td>1</td>\n",
       "      <td>1494</td>\n",
       "      <td>1</td>\n",
       "      <td>{44560}</td>\n",
       "      <td>0</td>\n",
       "    </tr>\n",
       "    <tr>\n",
       "      <th>1</th>\n",
       "      <td>1648</td>\n",
       "      <td>1494</td>\n",
       "      <td>1</td>\n",
       "      <td>{44560}</td>\n",
       "      <td>0</td>\n",
       "    </tr>\n",
       "    <tr>\n",
       "      <th>2</th>\n",
       "      <td>2745</td>\n",
       "      <td>1494</td>\n",
       "      <td>1</td>\n",
       "      <td>{44560}</td>\n",
       "      <td>0</td>\n",
       "    </tr>\n",
       "    <tr>\n",
       "      <th>3</th>\n",
       "      <td>4377</td>\n",
       "      <td>1494</td>\n",
       "      <td>1</td>\n",
       "      <td>{44560}</td>\n",
       "      <td>0</td>\n",
       "    </tr>\n",
       "    <tr>\n",
       "      <th>4</th>\n",
       "      <td>11081</td>\n",
       "      <td>1494</td>\n",
       "      <td>1</td>\n",
       "      <td>{44560}</td>\n",
       "      <td>0</td>\n",
       "    </tr>\n",
       "    <tr>\n",
       "      <th>5</th>\n",
       "      <td>13032</td>\n",
       "      <td>1494</td>\n",
       "      <td>1</td>\n",
       "      <td>{44560}</td>\n",
       "      <td>0</td>\n",
       "    </tr>\n",
       "    <tr>\n",
       "      <th>6</th>\n",
       "      <td>15848</td>\n",
       "      <td>1494</td>\n",
       "      <td>1</td>\n",
       "      <td>{44560}</td>\n",
       "      <td>0</td>\n",
       "    </tr>\n",
       "    <tr>\n",
       "      <th>7</th>\n",
       "      <td>24186</td>\n",
       "      <td>1494</td>\n",
       "      <td>1</td>\n",
       "      <td>{44560}</td>\n",
       "      <td>0</td>\n",
       "    </tr>\n",
       "    <tr>\n",
       "      <th>8</th>\n",
       "      <td>24852</td>\n",
       "      <td>1494</td>\n",
       "      <td>1</td>\n",
       "      <td>{44560}</td>\n",
       "      <td>0</td>\n",
       "    </tr>\n",
       "    <tr>\n",
       "      <th>9</th>\n",
       "      <td>27020</td>\n",
       "      <td>1494</td>\n",
       "      <td>1</td>\n",
       "      <td>{44560}</td>\n",
       "      <td>0</td>\n",
       "    </tr>\n",
       "    <tr>\n",
       "      <th>10</th>\n",
       "      <td>28204</td>\n",
       "      <td>1494</td>\n",
       "      <td>1</td>\n",
       "      <td>{44560}</td>\n",
       "      <td>0</td>\n",
       "    </tr>\n",
       "    <tr>\n",
       "      <th>11</th>\n",
       "      <td>29184</td>\n",
       "      <td>1494</td>\n",
       "      <td>1</td>\n",
       "      <td>{44560}</td>\n",
       "      <td>0</td>\n",
       "    </tr>\n",
       "    <tr>\n",
       "      <th>12</th>\n",
       "      <td>34160</td>\n",
       "      <td>1494</td>\n",
       "      <td>1</td>\n",
       "      <td>{44560}</td>\n",
       "      <td>0</td>\n",
       "    </tr>\n",
       "    <tr>\n",
       "      <th>13</th>\n",
       "      <td>35914</td>\n",
       "      <td>1494</td>\n",
       "      <td>1</td>\n",
       "      <td>{44560}</td>\n",
       "      <td>0</td>\n",
       "    </tr>\n",
       "    <tr>\n",
       "      <th>14</th>\n",
       "      <td>40199</td>\n",
       "      <td>1494</td>\n",
       "      <td>1</td>\n",
       "      <td>{44560}</td>\n",
       "      <td>0</td>\n",
       "    </tr>\n",
       "    <tr>\n",
       "      <th>15</th>\n",
       "      <td>40255</td>\n",
       "      <td>1494</td>\n",
       "      <td>1</td>\n",
       "      <td>{44560}</td>\n",
       "      <td>0</td>\n",
       "    </tr>\n",
       "    <tr>\n",
       "      <th>16</th>\n",
       "      <td>40633</td>\n",
       "      <td>1494</td>\n",
       "      <td>1</td>\n",
       "      <td>{44560}</td>\n",
       "      <td>0</td>\n",
       "    </tr>\n",
       "    <tr>\n",
       "      <th>17</th>\n",
       "      <td>41400</td>\n",
       "      <td>1494</td>\n",
       "      <td>1</td>\n",
       "      <td>{44560}</td>\n",
       "      <td>0</td>\n",
       "    </tr>\n",
       "    <tr>\n",
       "      <th>18</th>\n",
       "      <td>46266</td>\n",
       "      <td>1494</td>\n",
       "      <td>1</td>\n",
       "      <td>{44560}</td>\n",
       "      <td>0</td>\n",
       "    </tr>\n",
       "    <tr>\n",
       "      <th>19</th>\n",
       "      <td>46515</td>\n",
       "      <td>1494</td>\n",
       "      <td>1</td>\n",
       "      <td>{44560}</td>\n",
       "      <td>0</td>\n",
       "    </tr>\n",
       "    <tr>\n",
       "      <th>20</th>\n",
       "      <td>47611</td>\n",
       "      <td>1494</td>\n",
       "      <td>1</td>\n",
       "      <td>{44560}</td>\n",
       "      <td>0</td>\n",
       "    </tr>\n",
       "    <tr>\n",
       "      <th>21</th>\n",
       "      <td>1</td>\n",
       "      <td>1540</td>\n",
       "      <td>1</td>\n",
       "      <td>{37600, 1, 11266, 3298, 130, 30720, 10310, 401...</td>\n",
       "      <td>1</td>\n",
       "    </tr>\n",
       "    <tr>\n",
       "      <th>22</th>\n",
       "      <td>130</td>\n",
       "      <td>1540</td>\n",
       "      <td>2</td>\n",
       "      <td>{37600, 1, 11266, 3298, 130, 30720, 10310, 401...</td>\n",
       "      <td>1</td>\n",
       "    </tr>\n",
       "    <tr>\n",
       "      <th>23</th>\n",
       "      <td>10509</td>\n",
       "      <td>1540</td>\n",
       "      <td>2</td>\n",
       "      <td>{37600, 1, 11266, 3298, 130, 30720, 10310, 401...</td>\n",
       "      <td>0</td>\n",
       "    </tr>\n",
       "    <tr>\n",
       "      <th>24</th>\n",
       "      <td>16953</td>\n",
       "      <td>1540</td>\n",
       "      <td>1</td>\n",
       "      <td>{37600, 1, 11266, 3298, 130, 30720, 10310, 401...</td>\n",
       "      <td>0</td>\n",
       "    </tr>\n",
       "    <tr>\n",
       "      <th>25</th>\n",
       "      <td>21572</td>\n",
       "      <td>1540</td>\n",
       "      <td>2</td>\n",
       "      <td>{37600, 1, 11266, 3298, 130, 30720, 10310, 401...</td>\n",
       "      <td>0</td>\n",
       "    </tr>\n",
       "    <tr>\n",
       "      <th>26</th>\n",
       "      <td>21769</td>\n",
       "      <td>1540</td>\n",
       "      <td>1</td>\n",
       "      <td>{37600, 1, 11266, 3298, 130, 30720, 10310, 401...</td>\n",
       "      <td>1</td>\n",
       "    </tr>\n",
       "    <tr>\n",
       "      <th>27</th>\n",
       "      <td>30450</td>\n",
       "      <td>1540</td>\n",
       "      <td>1</td>\n",
       "      <td>{37600, 1, 11266, 3298, 130, 30720, 10310, 401...</td>\n",
       "      <td>0</td>\n",
       "    </tr>\n",
       "    <tr>\n",
       "      <th>28</th>\n",
       "      <td>30720</td>\n",
       "      <td>1540</td>\n",
       "      <td>2</td>\n",
       "      <td>{37600, 1, 11266, 3298, 130, 30720, 10310, 401...</td>\n",
       "      <td>1</td>\n",
       "    </tr>\n",
       "    <tr>\n",
       "      <th>29</th>\n",
       "      <td>35347</td>\n",
       "      <td>1540</td>\n",
       "      <td>1</td>\n",
       "      <td>{37600, 1, 11266, 3298, 130, 30720, 10310, 401...</td>\n",
       "      <td>0</td>\n",
       "    </tr>\n",
       "  </tbody>\n",
       "</table>\n",
       "</div>"
      ],
      "text/plain": [
       "    product_id  user_id  user_product_total_orders  \\\n",
       "0            1     1494                          1   \n",
       "1         1648     1494                          1   \n",
       "2         2745     1494                          1   \n",
       "3         4377     1494                          1   \n",
       "4        11081     1494                          1   \n",
       "5        13032     1494                          1   \n",
       "6        15848     1494                          1   \n",
       "7        24186     1494                          1   \n",
       "8        24852     1494                          1   \n",
       "9        27020     1494                          1   \n",
       "10       28204     1494                          1   \n",
       "11       29184     1494                          1   \n",
       "12       34160     1494                          1   \n",
       "13       35914     1494                          1   \n",
       "14       40199     1494                          1   \n",
       "15       40255     1494                          1   \n",
       "16       40633     1494                          1   \n",
       "17       41400     1494                          1   \n",
       "18       46266     1494                          1   \n",
       "19       46515     1494                          1   \n",
       "20       47611     1494                          1   \n",
       "21           1     1540                          1   \n",
       "22         130     1540                          2   \n",
       "23       10509     1540                          2   \n",
       "24       16953     1540                          1   \n",
       "25       21572     1540                          2   \n",
       "26       21769     1540                          1   \n",
       "27       30450     1540                          1   \n",
       "28       30720     1540                          2   \n",
       "29       35347     1540                          1   \n",
       "\n",
       "                                          latest_cart  in_cart  \n",
       "0                                             {44560}        0  \n",
       "1                                             {44560}        0  \n",
       "2                                             {44560}        0  \n",
       "3                                             {44560}        0  \n",
       "4                                             {44560}        0  \n",
       "5                                             {44560}        0  \n",
       "6                                             {44560}        0  \n",
       "7                                             {44560}        0  \n",
       "8                                             {44560}        0  \n",
       "9                                             {44560}        0  \n",
       "10                                            {44560}        0  \n",
       "11                                            {44560}        0  \n",
       "12                                            {44560}        0  \n",
       "13                                            {44560}        0  \n",
       "14                                            {44560}        0  \n",
       "15                                            {44560}        0  \n",
       "16                                            {44560}        0  \n",
       "17                                            {44560}        0  \n",
       "18                                            {44560}        0  \n",
       "19                                            {44560}        0  \n",
       "20                                            {44560}        0  \n",
       "21  {37600, 1, 11266, 3298, 130, 30720, 10310, 401...        1  \n",
       "22  {37600, 1, 11266, 3298, 130, 30720, 10310, 401...        1  \n",
       "23  {37600, 1, 11266, 3298, 130, 30720, 10310, 401...        0  \n",
       "24  {37600, 1, 11266, 3298, 130, 30720, 10310, 401...        0  \n",
       "25  {37600, 1, 11266, 3298, 130, 30720, 10310, 401...        0  \n",
       "26  {37600, 1, 11266, 3298, 130, 30720, 10310, 401...        1  \n",
       "27  {37600, 1, 11266, 3298, 130, 30720, 10310, 401...        0  \n",
       "28  {37600, 1, 11266, 3298, 130, 30720, 10310, 401...        1  \n",
       "29  {37600, 1, 11266, 3298, 130, 30720, 10310, 401...        0  "
      ]
     },
     "execution_count": 13,
     "metadata": {},
     "output_type": "execute_result"
    }
   ],
   "source": [
    "train_carts = (df_orderproductstrain.groupby('user_id',as_index=False) #more recent set of orders \n",
    "                                      .agg({'product_id':(lambda x: set(x))})#product of items, set so no dups\n",
    "                                      .rename(columns={'product_id':'latest_cart'}))\n",
    "\n",
    "df_X = df_X.merge(train_carts, on='user_id')\n",
    "df_X['in_cart'] = (df_X.apply(lambda row: row['product_id'] in row['latest_cart'], axis=1).astype(int))#1 if in cart, 0 if not\n",
    "\n",
    "\n",
    "df_X.head(30)\n"
   ]
  },
  {
   "cell_type": "code",
   "execution_count": null,
   "metadata": {},
   "outputs": [],
   "source": []
  },
  {
   "cell_type": "code",
   "execution_count": 14,
   "metadata": {},
   "outputs": [
    {
     "name": "stdout",
     "output_type": "stream",
     "text": [
      "0    0.811711\n",
      "1    0.188289\n",
      "Name: in_cart, dtype: float64\n"
     ]
    },
    {
     "data": {
      "text/plain": [
       "<matplotlib.axes._subplots.AxesSubplot at 0x7ff8240c4240>"
      ]
     },
     "execution_count": 14,
     "metadata": {},
     "output_type": "execute_result"
    },
    {
     "data": {
      "image/png": "[encoded data removed]",
      "text/plain": [
       "<Figure size 432x288 with 1 Axes>"
      ]
     },
     "metadata": {
      "needs_background": "light"
     },
     "output_type": "display_data"
    }
   ],
   "source": [
    "target_pcts = df_X.in_cart.value_counts(normalize=True)  # gives proporations of data that correspond to each class\n",
    "print(target_pcts) #can already see imbalance #normal will turn into a proporation instead of a value\n",
    "\n",
    "target_pcts.plot(kind='bar')"
   ]
  },
  {
   "cell_type": "code",
   "execution_count": 15,
   "metadata": {},
   "outputs": [
    {
     "name": "stderr",
     "output_type": "stream",
     "text": [
      "/home/ubuntu/anaconda3/lib/python3.5/site-packages/scipy/stats/stats.py:1713: FutureWarning: Using a non-tuple sequence for multidimensional indexing is deprecated; use `arr[tuple(seq)]` instead of `arr[seq]`. In the future this will be interpreted as an array index, `arr[np.array(seq)]`, which will result either in an error or a different result.\n",
      "  return np.add.reduce(sorted[indexer] * weights, axis=axis) / sumval\n",
      "/home/ubuntu/anaconda3/lib/python3.5/site-packages/statsmodels/nonparametric/kde.py:488: RuntimeWarning: invalid value encountered in true_divide\n",
      "  binned = fast_linbin(X, a, b, gridsize) / (delta * nobs)\n",
      "/home/ubuntu/anaconda3/lib/python3.5/site-packages/statsmodels/nonparametric/kdetools.py:34: RuntimeWarning: invalid value encountered in double_scalars\n",
      "  FAC1 = 2*(np.pi*bw/RANGE)**2\n",
      "/home/ubuntu/anaconda3/lib/python3.5/site-packages/numpy/core/fromnumeric.py:83: RuntimeWarning: invalid value encountered in reduce\n",
      "  return ufunc.reduce(obj, axis, dtype, out, **passkwargs)\n"
     ]
    },
    {
     "data": {
      "image/png": "[encoded data removed]",
      "text/plain": [
       "<Figure size 402.375x360 with 6 Axes>"
      ]
     },
     "metadata": {
      "needs_background": "light"
     },
     "output_type": "display_data"
    }
   ],
   "source": [
    "def plot_features(df, sample_size=500):\n",
    "    \n",
    "    sample = (df.drop(['product_id','user_id','latest_cart'],axis=1)\n",
    "                .sample(1000, random_state=44)) \n",
    "    sns.pairplot(sample,hue='in_cart', plot_kws=dict(alpha=.3, edgecolor='none'))\n",
    "\n",
    "plot_features(df_X)"
   ]
  },
  {
   "cell_type": "code",
   "execution_count": 16,
   "metadata": {},
   "outputs": [],
   "source": [
    "\n",
    "def get_user_split_data(df, test_size=.2, seed=42):\n",
    "\n",
    "    rs = np.random.RandomState(seed)\n",
    "    \n",
    "    total_users = df['user_id'].unique() \n",
    "    test_users = rs.choice(total_users, \n",
    "                           size=int(total_users.shape[0] * test_size), \n",
    "                           replace=False)\n",
    "\n",
    "    df_tr = df[~df['user_id'].isin(test_users)]\n",
    "    df_te = df[df['user_id'].isin(test_users)] \n",
    "\n",
    "    y_tr, y_te = df_tr['in_cart'], df_te['in_cart']\n",
    "    X_tr = df_tr.drop(['product_id','user_id','latest_cart','in_cart'],axis=1) \n",
    "    X_te = df_te.drop(['product_id','user_id','latest_cart','in_cart'],axis=1)\n",
    "\n",
    "    return X_tr, X_te, y_tr, y_te"
   ]
  },
  {
   "cell_type": "code",
   "execution_count": 17,
   "metadata": {},
   "outputs": [
    {
     "data": {
      "text/plain": [
       "0.011002601390251183"
      ]
     },
     "execution_count": 17,
     "metadata": {},
     "output_type": "execute_result"
    }
   ],
   "source": [
    "X_tr, X_te, y_tr, y_te = get_user_split_data(df_X)\n",
    "\n",
    "lr = LogisticRegression(solver='lbfgs') #solver parameter , gradient descent that runs the logistic regression model \n",
    "lr.fit(X_tr, y_tr)\n",
    "f1_score(lr.predict(X_te), y_te)"
   ]
  },
  {
   "cell_type": "code",
   "execution_count": 18,
   "metadata": {},
   "outputs": [
    {
     "data": {
      "text/plain": [
       "array([[0.75918306]])"
      ]
     },
     "execution_count": 18,
     "metadata": {},
     "output_type": "execute_result"
    }
   ],
   "source": [
    "lr.coef_ #higher number of past product orders is associated with higher likelihood of being in the next cart."
   ]
  },
  {
   "cell_type": "code",
   "execution_count": null,
   "metadata": {},
   "outputs": [],
   "source": [
    "#product level features"
   ]
  },
  {
   "cell_type": "code",
   "execution_count": 19,
   "metadata": {},
   "outputs": [
    {
     "data": {
      "text/html": [
       "<div>\n",
       "<style scoped>\n",
       "    .dataframe tbody tr th:only-of-type {\n",
       "        vertical-align: middle;\n",
       "    }\n",
       "\n",
       "    .dataframe tbody tr th {\n",
       "        vertical-align: top;\n",
       "    }\n",
       "\n",
       "    .dataframe thead th {\n",
       "        text-align: right;\n",
       "    }\n",
       "</style>\n",
       "<table border=\"1\" class=\"dataframe\">\n",
       "  <thead>\n",
       "    <tr style=\"text-align: right;\">\n",
       "      <th></th>\n",
       "      <th>product_id</th>\n",
       "      <th>product_total_orders</th>\n",
       "      <th>product_avg_add_to_cart_order</th>\n",
       "    </tr>\n",
       "  </thead>\n",
       "  <tbody>\n",
       "    <tr>\n",
       "      <th>0</th>\n",
       "      <td>1</td>\n",
       "      <td>47</td>\n",
       "      <td>6.255319</td>\n",
       "    </tr>\n",
       "    <tr>\n",
       "      <th>1</th>\n",
       "      <td>2</td>\n",
       "      <td>4</td>\n",
       "      <td>11.250000</td>\n",
       "    </tr>\n",
       "    <tr>\n",
       "      <th>2</th>\n",
       "      <td>3</td>\n",
       "      <td>5</td>\n",
       "      <td>4.000000</td>\n",
       "    </tr>\n",
       "    <tr>\n",
       "      <th>3</th>\n",
       "      <td>4</td>\n",
       "      <td>16</td>\n",
       "      <td>10.687500</td>\n",
       "    </tr>\n",
       "    <tr>\n",
       "      <th>4</th>\n",
       "      <td>8</td>\n",
       "      <td>5</td>\n",
       "      <td>13.200000</td>\n",
       "    </tr>\n",
       "  </tbody>\n",
       "</table>\n",
       "</div>"
      ],
      "text/plain": [
       "   product_id  product_total_orders  product_avg_add_to_cart_order\n",
       "0           1                    47                       6.255319\n",
       "1           2                     4                      11.250000\n",
       "2           3                     5                       4.000000\n",
       "3           4                    16                      10.687500\n",
       "4           8                     5                      13.200000"
      ]
     },
     "execution_count": 19,
     "metadata": {},
     "output_type": "execute_result"
    }
   ],
   "source": [
    "prod_features = ['product_total_orders','product_avg_add_to_cart_order']\n",
    "\n",
    "df_prod_features = (df_orderproductsprior.groupby(['product_id'],as_index=False)\n",
    "                                           .agg(OrderedDict(\n",
    "                                                   [('order_id','nunique'),\n",
    "                                                    ('add_to_cart_order','mean')])))\n",
    "df_prod_features.columns = ['product_id'] + prod_features\n",
    "df_prod_features.head()"
   ]
  },
  {
   "cell_type": "code",
   "execution_count": 20,
   "metadata": {},
   "outputs": [
    {
     "data": {
      "text/html": [
       "<div>\n",
       "<style scoped>\n",
       "    .dataframe tbody tr th:only-of-type {\n",
       "        vertical-align: middle;\n",
       "    }\n",
       "\n",
       "    .dataframe tbody tr th {\n",
       "        vertical-align: top;\n",
       "    }\n",
       "\n",
       "    .dataframe thead th {\n",
       "        text-align: right;\n",
       "    }\n",
       "</style>\n",
       "<table border=\"1\" class=\"dataframe\">\n",
       "  <thead>\n",
       "    <tr style=\"text-align: right;\">\n",
       "      <th></th>\n",
       "      <th>product_id</th>\n",
       "      <th>user_id</th>\n",
       "      <th>user_product_total_orders</th>\n",
       "      <th>latest_cart</th>\n",
       "      <th>in_cart</th>\n",
       "      <th>product_total_orders</th>\n",
       "      <th>product_avg_add_to_cart_order</th>\n",
       "    </tr>\n",
       "  </thead>\n",
       "  <tbody>\n",
       "    <tr>\n",
       "      <th>0</th>\n",
       "      <td>1</td>\n",
       "      <td>1494</td>\n",
       "      <td>1</td>\n",
       "      <td>{44560}</td>\n",
       "      <td>0</td>\n",
       "      <td>47</td>\n",
       "      <td>6.255319</td>\n",
       "    </tr>\n",
       "    <tr>\n",
       "      <th>1</th>\n",
       "      <td>1</td>\n",
       "      <td>1540</td>\n",
       "      <td>1</td>\n",
       "      <td>{37600, 1, 11266, 3298, 130, 30720, 10310, 401...</td>\n",
       "      <td>1</td>\n",
       "      <td>47</td>\n",
       "      <td>6.255319</td>\n",
       "    </tr>\n",
       "    <tr>\n",
       "      <th>2</th>\n",
       "      <td>1</td>\n",
       "      <td>3904</td>\n",
       "      <td>1</td>\n",
       "      <td>{6184, 20818, 21572, 32478}</td>\n",
       "      <td>0</td>\n",
       "      <td>47</td>\n",
       "      <td>6.255319</td>\n",
       "    </tr>\n",
       "    <tr>\n",
       "      <th>3</th>\n",
       "      <td>1</td>\n",
       "      <td>15182</td>\n",
       "      <td>1</td>\n",
       "      <td>{1, 4210, 30731, 19511}</td>\n",
       "      <td>1</td>\n",
       "      <td>47</td>\n",
       "      <td>6.255319</td>\n",
       "    </tr>\n",
       "    <tr>\n",
       "      <th>4</th>\n",
       "      <td>1</td>\n",
       "      <td>26613</td>\n",
       "      <td>1</td>\n",
       "      <td>{21288, 3265, 11759}</td>\n",
       "      <td>0</td>\n",
       "      <td>47</td>\n",
       "      <td>6.255319</td>\n",
       "    </tr>\n",
       "  </tbody>\n",
       "</table>\n",
       "</div>"
      ],
      "text/plain": [
       "   product_id  user_id  user_product_total_orders  \\\n",
       "0           1     1494                          1   \n",
       "1           1     1540                          1   \n",
       "2           1     3904                          1   \n",
       "3           1    15182                          1   \n",
       "4           1    26613                          1   \n",
       "\n",
       "                                         latest_cart  in_cart  \\\n",
       "0                                            {44560}        0   \n",
       "1  {37600, 1, 11266, 3298, 130, 30720, 10310, 401...        1   \n",
       "2                        {6184, 20818, 21572, 32478}        0   \n",
       "3                            {1, 4210, 30731, 19511}        1   \n",
       "4                               {21288, 3265, 11759}        0   \n",
       "\n",
       "   product_total_orders  product_avg_add_to_cart_order  \n",
       "0                    47                       6.255319  \n",
       "1                    47                       6.255319  \n",
       "2                    47                       6.255319  \n",
       "3                    47                       6.255319  \n",
       "4                    47                       6.255319  "
      ]
     },
     "execution_count": 20,
     "metadata": {},
     "output_type": "execute_result"
    }
   ],
   "source": [
    "df_X = df_X.merge(df_prod_features, on='product_id')\n",
    "\n",
    "df_X.head()"
   ]
  },
  {
   "cell_type": "code",
   "execution_count": 21,
   "metadata": {},
   "outputs": [
    {
     "data": {
      "text/plain": [
       "product_id                       606292\n",
       "user_id                          606292\n",
       "user_product_total_orders        606292\n",
       "latest_cart                      606292\n",
       "in_cart                          606292\n",
       "product_total_orders             606292\n",
       "product_avg_add_to_cart_order    606292\n",
       "dtype: int64"
      ]
     },
     "execution_count": 21,
     "metadata": {},
     "output_type": "execute_result"
    }
   ],
   "source": [
    "df_X.count()"
   ]
  },
  {
   "cell_type": "code",
   "execution_count": 22,
   "metadata": {},
   "outputs": [
    {
     "name": "stderr",
     "output_type": "stream",
     "text": [
      "/home/ubuntu/anaconda3/lib/python3.5/site-packages/scipy/stats/stats.py:1713: FutureWarning: Using a non-tuple sequence for multidimensional indexing is deprecated; use `arr[tuple(seq)]` instead of `arr[seq]`. In the future this will be interpreted as an array index, `arr[np.array(seq)]`, which will result either in an error or a different result.\n",
      "  return np.add.reduce(sorted[indexer] * weights, axis=axis) / sumval\n",
      "/home/ubuntu/anaconda3/lib/python3.5/site-packages/statsmodels/nonparametric/kde.py:488: RuntimeWarning: invalid value encountered in true_divide\n",
      "  binned = fast_linbin(X, a, b, gridsize) / (delta * nobs)\n",
      "/home/ubuntu/anaconda3/lib/python3.5/site-packages/statsmodels/nonparametric/kdetools.py:34: RuntimeWarning: invalid value encountered in double_scalars\n",
      "  FAC1 = 2*(np.pi*bw/RANGE)**2\n",
      "/home/ubuntu/anaconda3/lib/python3.5/site-packages/numpy/core/fromnumeric.py:83: RuntimeWarning: invalid value encountered in reduce\n",
      "  return ufunc.reduce(obj, axis, dtype, out, **passkwargs)\n"
     ]
    },
    {
     "data": {
      "image/png": "[encoded data removed]",
      "text/plain": [
       "<Figure size 762.375x720 with 20 Axes>"
      ]
     },
     "metadata": {
      "needs_background": "light"
     },
     "output_type": "display_data"
    }
   ],
   "source": [
    "plot_features(df_X)"
   ]
  },
  {
   "cell_type": "code",
   "execution_count": 23,
   "metadata": {},
   "outputs": [
    {
     "name": "stderr",
     "output_type": "stream",
     "text": [
      "/home/ubuntu/anaconda3/lib/python3.5/site-packages/sklearn/linear_model/logistic.py:432: FutureWarning: Default solver will be changed to 'lbfgs' in 0.22. Specify a solver to silence this warning.\n",
      "  FutureWarning)\n"
     ]
    },
    {
     "data": {
      "text/plain": [
       "0.09238352679281285"
      ]
     },
     "execution_count": 23,
     "metadata": {},
     "output_type": "execute_result"
    }
   ],
   "source": [
    "X_tr, X_te, y_tr, y_te = get_user_split_data(df_X)\n",
    "\n",
    "lr = LogisticRegression()\n",
    "lr.fit(X_tr, y_tr)\n",
    "f1_score(lr.predict(X_te), y_te)"
   ]
  },
  {
   "cell_type": "code",
   "execution_count": 24,
   "metadata": {},
   "outputs": [
    {
     "data": {
      "text/html": [
       "<div>\n",
       "<style scoped>\n",
       "    .dataframe tbody tr th:only-of-type {\n",
       "        vertical-align: middle;\n",
       "    }\n",
       "\n",
       "    .dataframe tbody tr th {\n",
       "        vertical-align: top;\n",
       "    }\n",
       "\n",
       "    .dataframe thead th {\n",
       "        text-align: right;\n",
       "    }\n",
       "</style>\n",
       "<table border=\"1\" class=\"dataframe\">\n",
       "  <thead>\n",
       "    <tr style=\"text-align: right;\">\n",
       "      <th></th>\n",
       "      <th>user_id</th>\n",
       "      <th>user_total_orders</th>\n",
       "      <th>user_avg_cartsize</th>\n",
       "      <th>user_total_products</th>\n",
       "      <th>user_avg_days_since_prior_order</th>\n",
       "    </tr>\n",
       "  </thead>\n",
       "  <tbody>\n",
       "    <tr>\n",
       "      <th>0</th>\n",
       "      <td>5</td>\n",
       "      <td>1</td>\n",
       "      <td>12.0</td>\n",
       "      <td>12</td>\n",
       "      <td>19.0</td>\n",
       "    </tr>\n",
       "    <tr>\n",
       "      <th>1</th>\n",
       "      <td>7</td>\n",
       "      <td>1</td>\n",
       "      <td>24.0</td>\n",
       "      <td>24</td>\n",
       "      <td>30.0</td>\n",
       "    </tr>\n",
       "    <tr>\n",
       "      <th>2</th>\n",
       "      <td>15</td>\n",
       "      <td>1</td>\n",
       "      <td>5.0</td>\n",
       "      <td>5</td>\n",
       "      <td>14.0</td>\n",
       "    </tr>\n",
       "    <tr>\n",
       "      <th>3</th>\n",
       "      <td>20</td>\n",
       "      <td>1</td>\n",
       "      <td>4.0</td>\n",
       "      <td>4</td>\n",
       "      <td>2.0</td>\n",
       "    </tr>\n",
       "    <tr>\n",
       "      <th>4</th>\n",
       "      <td>21</td>\n",
       "      <td>1</td>\n",
       "      <td>4.0</td>\n",
       "      <td>4</td>\n",
       "      <td>14.0</td>\n",
       "    </tr>\n",
       "  </tbody>\n",
       "</table>\n",
       "</div>"
      ],
      "text/plain": [
       "   user_id  user_total_orders  user_avg_cartsize  user_total_products  \\\n",
       "0        5                  1               12.0                   12   \n",
       "1        7                  1               24.0                   24   \n",
       "2       15                  1                5.0                    5   \n",
       "3       20                  1                4.0                    4   \n",
       "4       21                  1                4.0                    4   \n",
       "\n",
       "   user_avg_days_since_prior_order  \n",
       "0                             19.0  \n",
       "1                             30.0  \n",
       "2                             14.0  \n",
       "3                              2.0  \n",
       "4                             14.0  "
      ]
     },
     "execution_count": 24,
     "metadata": {},
     "output_type": "execute_result"
    }
   ],
   "source": [
    "user_features = ['user_total_orders','user_avg_cartsize','user_total_products','user_avg_days_since_prior_order']\n",
    "\n",
    "df_user_features = (df_orderproductsprior.groupby(['user_id'],as_index=False) #lambda#rows/#orders for that user \n",
    "                                           .agg(OrderedDict(#shape 0, total number of orders they ever ordered\n",
    "                                                   [('order_id',['nunique', (lambda x: x.shape[0] / x.nunique())]),\n",
    "                                                    ('product_id','nunique'), #nunique - orders\n",
    "                                                    ('days_since_prior_order','mean')])))\n",
    "\n",
    "df_user_features.columns = ['user_id'] + user_features\n",
    "df_user_features.head()"
   ]
  },
  {
   "cell_type": "code",
   "execution_count": 25,
   "metadata": {},
   "outputs": [
    {
     "data": {
      "text/html": [
       "<div>\n",
       "<style scoped>\n",
       "    .dataframe tbody tr th:only-of-type {\n",
       "        vertical-align: middle;\n",
       "    }\n",
       "\n",
       "    .dataframe tbody tr th {\n",
       "        vertical-align: top;\n",
       "    }\n",
       "\n",
       "    .dataframe thead th {\n",
       "        text-align: right;\n",
       "    }\n",
       "</style>\n",
       "<table border=\"1\" class=\"dataframe\">\n",
       "  <thead>\n",
       "    <tr style=\"text-align: right;\">\n",
       "      <th></th>\n",
       "      <th>product_id</th>\n",
       "      <th>user_id</th>\n",
       "      <th>user_product_total_orders</th>\n",
       "      <th>latest_cart</th>\n",
       "      <th>in_cart</th>\n",
       "      <th>product_total_orders</th>\n",
       "      <th>product_avg_add_to_cart_order</th>\n",
       "      <th>user_total_orders</th>\n",
       "      <th>user_avg_cartsize</th>\n",
       "      <th>user_total_products</th>\n",
       "      <th>user_avg_days_since_prior_order</th>\n",
       "    </tr>\n",
       "  </thead>\n",
       "  <tbody>\n",
       "    <tr>\n",
       "      <th>0</th>\n",
       "      <td>1</td>\n",
       "      <td>1494</td>\n",
       "      <td>1</td>\n",
       "      <td>{44560}</td>\n",
       "      <td>0</td>\n",
       "      <td>47</td>\n",
       "      <td>6.255319</td>\n",
       "      <td>1</td>\n",
       "      <td>21.0</td>\n",
       "      <td>21</td>\n",
       "      <td>6.0</td>\n",
       "    </tr>\n",
       "  </tbody>\n",
       "</table>\n",
       "</div>"
      ],
      "text/plain": [
       "   product_id  user_id  user_product_total_orders latest_cart  in_cart  \\\n",
       "0           1     1494                          1     {44560}        0   \n",
       "\n",
       "   product_total_orders  product_avg_add_to_cart_order  user_total_orders  \\\n",
       "0                    47                       6.255319                  1   \n",
       "\n",
       "   user_avg_cartsize  user_total_products  user_avg_days_since_prior_order  \n",
       "0               21.0                   21                              6.0  "
      ]
     },
     "execution_count": 25,
     "metadata": {},
     "output_type": "execute_result"
    }
   ],
   "source": [
    "df_X = df_X.merge(df_user_features, on='user_id')\n",
    "df_X = df_X.dropna() # note that this is naive NaN handling for simplicity\n",
    "df_X.head(1)"
   ]
  },
  {
   "cell_type": "code",
   "execution_count": 26,
   "metadata": {},
   "outputs": [
    {
     "data": {
      "text/plain": [
       "product_id                         606292\n",
       "user_id                            606292\n",
       "user_product_total_orders          606292\n",
       "latest_cart                        606292\n",
       "in_cart                            606292\n",
       "product_total_orders               606292\n",
       "product_avg_add_to_cart_order      606292\n",
       "user_total_orders                  606292\n",
       "user_avg_cartsize                  606292\n",
       "user_total_products                606292\n",
       "user_avg_days_since_prior_order    606292\n",
       "dtype: int64"
      ]
     },
     "execution_count": 26,
     "metadata": {},
     "output_type": "execute_result"
    }
   ],
   "source": [
    "df_X.count()"
   ]
  },
  {
   "cell_type": "code",
   "execution_count": null,
   "metadata": {},
   "outputs": [],
   "source": [
    "plot_features(df_X)"
   ]
  },
  {
   "cell_type": "code",
   "execution_count": 27,
   "metadata": {},
   "outputs": [
    {
     "name": "stderr",
     "output_type": "stream",
     "text": [
      "/home/ubuntu/anaconda3/lib/python3.5/site-packages/sklearn/linear_model/logistic.py:432: FutureWarning: Default solver will be changed to 'lbfgs' in 0.22. Specify a solver to silence this warning.\n",
      "  FutureWarning)\n"
     ]
    },
    {
     "data": {
      "text/plain": [
       "0.09272159500360316"
      ]
     },
     "execution_count": 27,
     "metadata": {},
     "output_type": "execute_result"
    }
   ],
   "source": [
    "X_tr, X_te, y_tr, y_te = get_user_split_data(df_X)\n",
    "\n",
    "lr = LogisticRegression(C=1)\n",
    "lr.fit(X_tr, y_tr)\n",
    "f1_score(lr.predict(X_te), y_te)"
   ]
  },
  {
   "cell_type": "code",
   "execution_count": null,
   "metadata": {},
   "outputs": [],
   "source": [
    "#Here we want to get a sense of how much priority each user places on each product by looking at the \n",
    "#typical add_to_cart_order for that user-product combination. \n",
    "\n",
    "#We also want to get a feature for % of times a product occurs across all of a user's orders -- \n",
    "#we'll do that at the end by taking the original user_product_total_orders feature we grabbed \n",
    "#and dividing it by the user_total_orders feature we derived in the user features section."
   ]
  },
  {
   "cell_type": "code",
   "execution_count": 28,
   "metadata": {},
   "outputs": [
    {
     "data": {
      "text/html": [
       "<div>\n",
       "<style scoped>\n",
       "    .dataframe tbody tr th:only-of-type {\n",
       "        vertical-align: middle;\n",
       "    }\n",
       "\n",
       "    .dataframe tbody tr th {\n",
       "        vertical-align: top;\n",
       "    }\n",
       "\n",
       "    .dataframe thead th {\n",
       "        text-align: right;\n",
       "    }\n",
       "</style>\n",
       "<table border=\"1\" class=\"dataframe\">\n",
       "  <thead>\n",
       "    <tr style=\"text-align: right;\">\n",
       "      <th></th>\n",
       "      <th>product_id</th>\n",
       "      <th>user_id</th>\n",
       "      <th>user_product_avg_add_to_cart_order</th>\n",
       "    </tr>\n",
       "  </thead>\n",
       "  <tbody>\n",
       "    <tr>\n",
       "      <th>0</th>\n",
       "      <td>1</td>\n",
       "      <td>1494</td>\n",
       "      <td>18.0</td>\n",
       "    </tr>\n",
       "    <tr>\n",
       "      <th>1</th>\n",
       "      <td>1</td>\n",
       "      <td>1540</td>\n",
       "      <td>10.0</td>\n",
       "    </tr>\n",
       "    <tr>\n",
       "      <th>2</th>\n",
       "      <td>1</td>\n",
       "      <td>3904</td>\n",
       "      <td>2.0</td>\n",
       "    </tr>\n",
       "    <tr>\n",
       "      <th>3</th>\n",
       "      <td>1</td>\n",
       "      <td>7981</td>\n",
       "      <td>2.0</td>\n",
       "    </tr>\n",
       "    <tr>\n",
       "      <th>4</th>\n",
       "      <td>1</td>\n",
       "      <td>15182</td>\n",
       "      <td>3.0</td>\n",
       "    </tr>\n",
       "  </tbody>\n",
       "</table>\n",
       "</div>"
      ],
      "text/plain": [
       "   product_id  user_id  user_product_avg_add_to_cart_order\n",
       "0           1     1494                                18.0\n",
       "1           1     1540                                10.0\n",
       "2           1     3904                                 2.0\n",
       "3           1     7981                                 2.0\n",
       "4           1    15182                                 3.0"
      ]
     },
     "execution_count": 28,
     "metadata": {},
     "output_type": "execute_result"
    }
   ],
   "source": [
    "user_prod_features = ['user_product_avg_add_to_cart_order']\n",
    "\n",
    "df_user_prod_features = (df_orderproductsprior.groupby(['product_id','user_id'],as_index=False) \\\n",
    "                                                .agg(OrderedDict(\n",
    "                                                     [('add_to_cart_order','mean')])))\n",
    "\n",
    "df_user_prod_features.columns = ['product_id','user_id'] + user_prod_features \n",
    "df_user_prod_features.head()"
   ]
  },
  {
   "cell_type": "code",
   "execution_count": 29,
   "metadata": {},
   "outputs": [
    {
     "data": {
      "text/html": [
       "<div>\n",
       "<style scoped>\n",
       "    .dataframe tbody tr th:only-of-type {\n",
       "        vertical-align: middle;\n",
       "    }\n",
       "\n",
       "    .dataframe tbody tr th {\n",
       "        vertical-align: top;\n",
       "    }\n",
       "\n",
       "    .dataframe thead th {\n",
       "        text-align: right;\n",
       "    }\n",
       "</style>\n",
       "<table border=\"1\" class=\"dataframe\">\n",
       "  <thead>\n",
       "    <tr style=\"text-align: right;\">\n",
       "      <th></th>\n",
       "      <th>product_id</th>\n",
       "      <th>user_id</th>\n",
       "      <th>user_product_total_orders</th>\n",
       "      <th>latest_cart</th>\n",
       "      <th>in_cart</th>\n",
       "      <th>product_total_orders</th>\n",
       "      <th>product_avg_add_to_cart_order</th>\n",
       "      <th>user_total_orders</th>\n",
       "      <th>user_avg_cartsize</th>\n",
       "      <th>user_total_products</th>\n",
       "      <th>user_avg_days_since_prior_order</th>\n",
       "      <th>user_product_avg_add_to_cart_order</th>\n",
       "      <th>user_product_order_freq</th>\n",
       "    </tr>\n",
       "  </thead>\n",
       "  <tbody>\n",
       "    <tr>\n",
       "      <th>0</th>\n",
       "      <td>1</td>\n",
       "      <td>1494</td>\n",
       "      <td>1</td>\n",
       "      <td>{44560}</td>\n",
       "      <td>0</td>\n",
       "      <td>47</td>\n",
       "      <td>6.255319</td>\n",
       "      <td>1</td>\n",
       "      <td>21.0</td>\n",
       "      <td>21</td>\n",
       "      <td>6.0</td>\n",
       "      <td>18.0</td>\n",
       "      <td>1.0</td>\n",
       "    </tr>\n",
       "  </tbody>\n",
       "</table>\n",
       "</div>"
      ],
      "text/plain": [
       "   product_id  user_id  user_product_total_orders latest_cart  in_cart  \\\n",
       "0           1     1494                          1     {44560}        0   \n",
       "\n",
       "   product_total_orders  product_avg_add_to_cart_order  user_total_orders  \\\n",
       "0                    47                       6.255319                  1   \n",
       "\n",
       "   user_avg_cartsize  user_total_products  user_avg_days_since_prior_order  \\\n",
       "0               21.0                   21                              6.0   \n",
       "\n",
       "   user_product_avg_add_to_cart_order  user_product_order_freq  \n",
       "0                                18.0                      1.0  "
      ]
     },
     "execution_count": 29,
     "metadata": {},
     "output_type": "execute_result"
    }
   ],
   "source": [
    "df_X = df_X.merge(df_user_prod_features,on=['user_id','product_id'])\n",
    "df_X['user_product_order_freq'] = df_X['user_product_total_orders'] / df_X['user_total_orders'] \n",
    "df_X.head(1)"
   ]
  },
  {
   "cell_type": "code",
   "execution_count": 30,
   "metadata": {},
   "outputs": [
    {
     "data": {
      "text/plain": [
       "product_id                            606292\n",
       "user_id                               606292\n",
       "user_product_total_orders             606292\n",
       "latest_cart                           606292\n",
       "in_cart                               606292\n",
       "product_total_orders                  606292\n",
       "product_avg_add_to_cart_order         606292\n",
       "user_total_orders                     606292\n",
       "user_avg_cartsize                     606292\n",
       "user_total_products                   606292\n",
       "user_avg_days_since_prior_order       606292\n",
       "user_product_avg_add_to_cart_order    606292\n",
       "user_product_order_freq               606292\n",
       "dtype: int64"
      ]
     },
     "execution_count": 30,
     "metadata": {},
     "output_type": "execute_result"
    }
   ],
   "source": [
    "df_X.count()"
   ]
  },
  {
   "cell_type": "code",
   "execution_count": null,
   "metadata": {},
   "outputs": [],
   "source": [
    "#plot_features(df_X)\n",
    "#omitted because it slows performance"
   ]
  },
  {
   "cell_type": "code",
   "execution_count": 31,
   "metadata": {},
   "outputs": [
    {
     "name": "stderr",
     "output_type": "stream",
     "text": [
      "/home/ubuntu/anaconda3/lib/python3.5/site-packages/sklearn/linear_model/logistic.py:432: FutureWarning: Default solver will be changed to 'lbfgs' in 0.22. Specify a solver to silence this warning.\n",
      "  FutureWarning)\n"
     ]
    },
    {
     "data": {
      "text/plain": [
       "0.0965952181375484"
      ]
     },
     "execution_count": 31,
     "metadata": {},
     "output_type": "execute_result"
    }
   ],
   "source": [
    "X_tr, X_te, y_tr, y_te = get_user_split_data(df_X)\n",
    "\n",
    "lr = LogisticRegression(C=1)\n",
    "lr.fit(X_tr, y_tr)\n",
    "f1_score(lr.predict(X_te), y_te)"
   ]
  },
  {
   "cell_type": "code",
   "execution_count": null,
   "metadata": {},
   "outputs": [],
   "source": [
    "#df_X.to_csv('instacart_df_X_features.csv', index=False)"
   ]
  },
  {
   "cell_type": "code",
   "execution_count": null,
   "metadata": {},
   "outputs": [],
   "source": [
    "df_X=pd.read_csv('instacart_df_X_features.csv')"
   ]
  },
  {
   "cell_type": "code",
   "execution_count": 32,
   "metadata": {},
   "outputs": [
    {
     "data": {
      "text/html": [
       "<div>\n",
       "<style scoped>\n",
       "    .dataframe tbody tr th:only-of-type {\n",
       "        vertical-align: middle;\n",
       "    }\n",
       "\n",
       "    .dataframe tbody tr th {\n",
       "        vertical-align: top;\n",
       "    }\n",
       "\n",
       "    .dataframe thead th {\n",
       "        text-align: right;\n",
       "    }\n",
       "</style>\n",
       "<table border=\"1\" class=\"dataframe\">\n",
       "  <thead>\n",
       "    <tr style=\"text-align: right;\">\n",
       "      <th></th>\n",
       "      <th>product_id</th>\n",
       "      <th>user_id</th>\n",
       "      <th>user_product_total_orders</th>\n",
       "      <th>in_cart</th>\n",
       "      <th>product_total_orders</th>\n",
       "      <th>product_avg_add_to_cart_order</th>\n",
       "      <th>user_total_orders</th>\n",
       "      <th>user_avg_cartsize</th>\n",
       "      <th>user_total_products</th>\n",
       "      <th>user_avg_days_since_prior_order</th>\n",
       "      <th>user_product_avg_add_to_cart_order</th>\n",
       "      <th>user_product_order_freq</th>\n",
       "    </tr>\n",
       "  </thead>\n",
       "  <tbody>\n",
       "    <tr>\n",
       "      <th>product_id</th>\n",
       "      <td>1.000000</td>\n",
       "      <td>0.000593</td>\n",
       "      <td>-0.000093</td>\n",
       "      <td>-0.000591</td>\n",
       "      <td>0.018828</td>\n",
       "      <td>0.009376</td>\n",
       "      <td>0.001424</td>\n",
       "      <td>0.008015</td>\n",
       "      <td>0.007144</td>\n",
       "      <td>-0.001265</td>\n",
       "      <td>0.002188</td>\n",
       "      <td>-0.001194</td>\n",
       "    </tr>\n",
       "    <tr>\n",
       "      <th>user_id</th>\n",
       "      <td>0.000593</td>\n",
       "      <td>1.000000</td>\n",
       "      <td>0.001144</td>\n",
       "      <td>-0.005092</td>\n",
       "      <td>-0.001397</td>\n",
       "      <td>-0.002341</td>\n",
       "      <td>-0.000995</td>\n",
       "      <td>-0.000145</td>\n",
       "      <td>0.001101</td>\n",
       "      <td>0.006294</td>\n",
       "      <td>0.001464</td>\n",
       "      <td>-0.000201</td>\n",
       "    </tr>\n",
       "    <tr>\n",
       "      <th>user_product_total_orders</th>\n",
       "      <td>-0.000093</td>\n",
       "      <td>0.001144</td>\n",
       "      <td>1.000000</td>\n",
       "      <td>0.133166</td>\n",
       "      <td>0.086325</td>\n",
       "      <td>-0.091586</td>\n",
       "      <td>0.318166</td>\n",
       "      <td>-0.006671</td>\n",
       "      <td>0.188661</td>\n",
       "      <td>-0.098209</td>\n",
       "      <td>-0.060112</td>\n",
       "      <td>0.054534</td>\n",
       "    </tr>\n",
       "    <tr>\n",
       "      <th>in_cart</th>\n",
       "      <td>-0.000591</td>\n",
       "      <td>-0.005092</td>\n",
       "      <td>0.133166</td>\n",
       "      <td>1.000000</td>\n",
       "      <td>0.145909</td>\n",
       "      <td>-0.144004</td>\n",
       "      <td>-0.063888</td>\n",
       "      <td>0.025750</td>\n",
       "      <td>-0.035046</td>\n",
       "      <td>0.019884</td>\n",
       "      <td>-0.078001</td>\n",
       "      <td>0.122847</td>\n",
       "    </tr>\n",
       "    <tr>\n",
       "      <th>product_total_orders</th>\n",
       "      <td>0.018828</td>\n",
       "      <td>-0.001397</td>\n",
       "      <td>0.086325</td>\n",
       "      <td>0.145909</td>\n",
       "      <td>1.000000</td>\n",
       "      <td>-0.300661</td>\n",
       "      <td>-0.008546</td>\n",
       "      <td>-0.025775</td>\n",
       "      <td>-0.029414</td>\n",
       "      <td>-0.009605</td>\n",
       "      <td>-0.089902</td>\n",
       "      <td>0.043537</td>\n",
       "    </tr>\n",
       "    <tr>\n",
       "      <th>product_avg_add_to_cart_order</th>\n",
       "      <td>0.009376</td>\n",
       "      <td>-0.002341</td>\n",
       "      <td>-0.091586</td>\n",
       "      <td>-0.144004</td>\n",
       "      <td>-0.300661</td>\n",
       "      <td>1.000000</td>\n",
       "      <td>0.016289</td>\n",
       "      <td>0.209820</td>\n",
       "      <td>0.180700</td>\n",
       "      <td>0.001372</td>\n",
       "      <td>0.297273</td>\n",
       "      <td>-0.054419</td>\n",
       "    </tr>\n",
       "    <tr>\n",
       "      <th>user_total_orders</th>\n",
       "      <td>0.001424</td>\n",
       "      <td>-0.000995</td>\n",
       "      <td>0.318166</td>\n",
       "      <td>-0.063888</td>\n",
       "      <td>-0.008546</td>\n",
       "      <td>0.016289</td>\n",
       "      <td>1.000000</td>\n",
       "      <td>-0.137521</td>\n",
       "      <td>0.571424</td>\n",
       "      <td>-0.320980</td>\n",
       "      <td>-0.002976</td>\n",
       "      <td>-0.824656</td>\n",
       "    </tr>\n",
       "    <tr>\n",
       "      <th>user_avg_cartsize</th>\n",
       "      <td>0.008015</td>\n",
       "      <td>-0.000145</td>\n",
       "      <td>-0.006671</td>\n",
       "      <td>0.025750</td>\n",
       "      <td>-0.025775</td>\n",
       "      <td>0.209820</td>\n",
       "      <td>-0.137521</td>\n",
       "      <td>1.000000</td>\n",
       "      <td>0.646844</td>\n",
       "      <td>0.113946</td>\n",
       "      <td>0.620689</td>\n",
       "      <td>0.148532</td>\n",
       "    </tr>\n",
       "    <tr>\n",
       "      <th>user_total_products</th>\n",
       "      <td>0.007144</td>\n",
       "      <td>0.001101</td>\n",
       "      <td>0.188661</td>\n",
       "      <td>-0.035046</td>\n",
       "      <td>-0.029414</td>\n",
       "      <td>0.180700</td>\n",
       "      <td>0.571424</td>\n",
       "      <td>0.646844</td>\n",
       "      <td>1.000000</td>\n",
       "      <td>-0.139248</td>\n",
       "      <td>0.476503</td>\n",
       "      <td>-0.501345</td>\n",
       "    </tr>\n",
       "    <tr>\n",
       "      <th>user_avg_days_since_prior_order</th>\n",
       "      <td>-0.001265</td>\n",
       "      <td>0.006294</td>\n",
       "      <td>-0.098209</td>\n",
       "      <td>0.019884</td>\n",
       "      <td>-0.009605</td>\n",
       "      <td>0.001372</td>\n",
       "      <td>-0.320980</td>\n",
       "      <td>0.113946</td>\n",
       "      <td>-0.139248</td>\n",
       "      <td>1.000000</td>\n",
       "      <td>0.044733</td>\n",
       "      <td>0.306244</td>\n",
       "    </tr>\n",
       "    <tr>\n",
       "      <th>user_product_avg_add_to_cart_order</th>\n",
       "      <td>0.002188</td>\n",
       "      <td>0.001464</td>\n",
       "      <td>-0.060112</td>\n",
       "      <td>-0.078001</td>\n",
       "      <td>-0.089902</td>\n",
       "      <td>0.297273</td>\n",
       "      <td>-0.002976</td>\n",
       "      <td>0.620689</td>\n",
       "      <td>0.476503</td>\n",
       "      <td>0.044733</td>\n",
       "      <td>1.000000</td>\n",
       "      <td>-0.027187</td>\n",
       "    </tr>\n",
       "    <tr>\n",
       "      <th>user_product_order_freq</th>\n",
       "      <td>-0.001194</td>\n",
       "      <td>-0.000201</td>\n",
       "      <td>0.054534</td>\n",
       "      <td>0.122847</td>\n",
       "      <td>0.043537</td>\n",
       "      <td>-0.054419</td>\n",
       "      <td>-0.824656</td>\n",
       "      <td>0.148532</td>\n",
       "      <td>-0.501345</td>\n",
       "      <td>0.306244</td>\n",
       "      <td>-0.027187</td>\n",
       "      <td>1.000000</td>\n",
       "    </tr>\n",
       "  </tbody>\n",
       "</table>\n",
       "</div>"
      ],
      "text/plain": [
       "                                    product_id   user_id  \\\n",
       "product_id                            1.000000  0.000593   \n",
       "user_id                               0.000593  1.000000   \n",
       "user_product_total_orders            -0.000093  0.001144   \n",
       "in_cart                              -0.000591 -0.005092   \n",
       "product_total_orders                  0.018828 -0.001397   \n",
       "product_avg_add_to_cart_order         0.009376 -0.002341   \n",
       "user_total_orders                     0.001424 -0.000995   \n",
       "user_avg_cartsize                     0.008015 -0.000145   \n",
       "user_total_products                   0.007144  0.001101   \n",
       "user_avg_days_since_prior_order      -0.001265  0.006294   \n",
       "user_product_avg_add_to_cart_order    0.002188  0.001464   \n",
       "user_product_order_freq              -0.001194 -0.000201   \n",
       "\n",
       "                                    user_product_total_orders   in_cart  \\\n",
       "product_id                                          -0.000093 -0.000591   \n",
       "user_id                                              0.001144 -0.005092   \n",
       "user_product_total_orders                            1.000000  0.133166   \n",
       "in_cart                                              0.133166  1.000000   \n",
       "product_total_orders                                 0.086325  0.145909   \n",
       "product_avg_add_to_cart_order                       -0.091586 -0.144004   \n",
       "user_total_orders                                    0.318166 -0.063888   \n",
       "user_avg_cartsize                                   -0.006671  0.025750   \n",
       "user_total_products                                  0.188661 -0.035046   \n",
       "user_avg_days_since_prior_order                     -0.098209  0.019884   \n",
       "user_product_avg_add_to_cart_order                  -0.060112 -0.078001   \n",
       "user_product_order_freq                              0.054534  0.122847   \n",
       "\n",
       "                                    product_total_orders  \\\n",
       "product_id                                      0.018828   \n",
       "user_id                                        -0.001397   \n",
       "user_product_total_orders                       0.086325   \n",
       "in_cart                                         0.145909   \n",
       "product_total_orders                            1.000000   \n",
       "product_avg_add_to_cart_order                  -0.300661   \n",
       "user_total_orders                              -0.008546   \n",
       "user_avg_cartsize                              -0.025775   \n",
       "user_total_products                            -0.029414   \n",
       "user_avg_days_since_prior_order                -0.009605   \n",
       "user_product_avg_add_to_cart_order             -0.089902   \n",
       "user_product_order_freq                         0.043537   \n",
       "\n",
       "                                    product_avg_add_to_cart_order  \\\n",
       "product_id                                               0.009376   \n",
       "user_id                                                 -0.002341   \n",
       "user_product_total_orders                               -0.091586   \n",
       "in_cart                                                 -0.144004   \n",
       "product_total_orders                                    -0.300661   \n",
       "product_avg_add_to_cart_order                            1.000000   \n",
       "user_total_orders                                        0.016289   \n",
       "user_avg_cartsize                                        0.209820   \n",
       "user_total_products                                      0.180700   \n",
       "user_avg_days_since_prior_order                          0.001372   \n",
       "user_product_avg_add_to_cart_order                       0.297273   \n",
       "user_product_order_freq                                 -0.054419   \n",
       "\n",
       "                                    user_total_orders  user_avg_cartsize  \\\n",
       "product_id                                   0.001424           0.008015   \n",
       "user_id                                     -0.000995          -0.000145   \n",
       "user_product_total_orders                    0.318166          -0.006671   \n",
       "in_cart                                     -0.063888           0.025750   \n",
       "product_total_orders                        -0.008546          -0.025775   \n",
       "product_avg_add_to_cart_order                0.016289           0.209820   \n",
       "user_total_orders                            1.000000          -0.137521   \n",
       "user_avg_cartsize                           -0.137521           1.000000   \n",
       "user_total_products                          0.571424           0.646844   \n",
       "user_avg_days_since_prior_order             -0.320980           0.113946   \n",
       "user_product_avg_add_to_cart_order          -0.002976           0.620689   \n",
       "user_product_order_freq                     -0.824656           0.148532   \n",
       "\n",
       "                                    user_total_products  \\\n",
       "product_id                                     0.007144   \n",
       "user_id                                        0.001101   \n",
       "user_product_total_orders                      0.188661   \n",
       "in_cart                                       -0.035046   \n",
       "product_total_orders                          -0.029414   \n",
       "product_avg_add_to_cart_order                  0.180700   \n",
       "user_total_orders                              0.571424   \n",
       "user_avg_cartsize                              0.646844   \n",
       "user_total_products                            1.000000   \n",
       "user_avg_days_since_prior_order               -0.139248   \n",
       "user_product_avg_add_to_cart_order             0.476503   \n",
       "user_product_order_freq                       -0.501345   \n",
       "\n",
       "                                    user_avg_days_since_prior_order  \\\n",
       "product_id                                                -0.001265   \n",
       "user_id                                                    0.006294   \n",
       "user_product_total_orders                                 -0.098209   \n",
       "in_cart                                                    0.019884   \n",
       "product_total_orders                                      -0.009605   \n",
       "product_avg_add_to_cart_order                              0.001372   \n",
       "user_total_orders                                         -0.320980   \n",
       "user_avg_cartsize                                          0.113946   \n",
       "user_total_products                                       -0.139248   \n",
       "user_avg_days_since_prior_order                            1.000000   \n",
       "user_product_avg_add_to_cart_order                         0.044733   \n",
       "user_product_order_freq                                    0.306244   \n",
       "\n",
       "                                    user_product_avg_add_to_cart_order  \\\n",
       "product_id                                                    0.002188   \n",
       "user_id                                                       0.001464   \n",
       "user_product_total_orders                                    -0.060112   \n",
       "in_cart                                                      -0.078001   \n",
       "product_total_orders                                         -0.089902   \n",
       "product_avg_add_to_cart_order                                 0.297273   \n",
       "user_total_orders                                            -0.002976   \n",
       "user_avg_cartsize                                             0.620689   \n",
       "user_total_products                                           0.476503   \n",
       "user_avg_days_since_prior_order                               0.044733   \n",
       "user_product_avg_add_to_cart_order                            1.000000   \n",
       "user_product_order_freq                                      -0.027187   \n",
       "\n",
       "                                    user_product_order_freq  \n",
       "product_id                                        -0.001194  \n",
       "user_id                                           -0.000201  \n",
       "user_product_total_orders                          0.054534  \n",
       "in_cart                                            0.122847  \n",
       "product_total_orders                               0.043537  \n",
       "product_avg_add_to_cart_order                     -0.054419  \n",
       "user_total_orders                                 -0.824656  \n",
       "user_avg_cartsize                                  0.148532  \n",
       "user_total_products                               -0.501345  \n",
       "user_avg_days_since_prior_order                    0.306244  \n",
       "user_product_avg_add_to_cart_order                -0.027187  \n",
       "user_product_order_freq                            1.000000  "
      ]
     },
     "execution_count": 32,
     "metadata": {},
     "output_type": "execute_result"
    }
   ],
   "source": [
    "df_X.corr()"
   ]
  },
  {
   "cell_type": "code",
   "execution_count": 33,
   "metadata": {},
   "outputs": [
    {
     "data": {
      "text/plain": [
       "product_id                            606292\n",
       "user_id                               606292\n",
       "user_product_total_orders             606292\n",
       "latest_cart                           606292\n",
       "in_cart                               606292\n",
       "product_total_orders                  606292\n",
       "product_avg_add_to_cart_order         606292\n",
       "user_total_orders                     606292\n",
       "user_avg_cartsize                     606292\n",
       "user_total_products                   606292\n",
       "user_avg_days_since_prior_order       606292\n",
       "user_product_avg_add_to_cart_order    606292\n",
       "user_product_order_freq               606292\n",
       "dtype: int64"
      ]
     },
     "execution_count": 33,
     "metadata": {},
     "output_type": "execute_result"
    }
   ],
   "source": [
    "df_X.count()"
   ]
  },
  {
   "cell_type": "code",
   "execution_count": null,
   "metadata": {},
   "outputs": [],
   "source": [
    "#add product category and aisle information as features"
   ]
  },
  {
   "cell_type": "markdown",
   "metadata": {},
   "source": [
    "prod_aisle = ['product_aisle']\n",
    "\n",
    "#aisle table join product table on product id\n",
    "\n",
    "df_prod_features = (df_orderproductsprior1.groupby(['product_id'],as_index=False)\n",
    "                                           .agg(OrderedDict(\n",
    "                                                   [('order_id','nunique'),\n",
    "                                                    ('add_to_cart_order','mean')])))\n",
    "df_prod_features.columns = ['product_id'] + prod_features\n",
    "df_prod_features.head()"
   ]
  },
  {
   "cell_type": "code",
   "execution_count": 34,
   "metadata": {},
   "outputs": [],
   "source": [
    "df_X = df_X.merge(productsdf.drop('product_name', axis=1),on=['product_id'])"
   ]
  },
  {
   "cell_type": "code",
   "execution_count": 35,
   "metadata": {},
   "outputs": [
    {
     "data": {
      "text/plain": [
       "product_id                            606292\n",
       "user_id                               606292\n",
       "user_product_total_orders             606292\n",
       "latest_cart                           606292\n",
       "in_cart                               606292\n",
       "product_total_orders                  606292\n",
       "product_avg_add_to_cart_order         606292\n",
       "user_total_orders                     606292\n",
       "user_avg_cartsize                     606292\n",
       "user_total_products                   606292\n",
       "user_avg_days_since_prior_order       606292\n",
       "user_product_avg_add_to_cart_order    606292\n",
       "user_product_order_freq               606292\n",
       "aisle_id                              606292\n",
       "department_id                         606292\n",
       "dtype: int64"
      ]
     },
     "execution_count": 35,
     "metadata": {},
     "output_type": "execute_result"
    }
   ],
   "source": [
    "df_X.count()"
   ]
  },
  {
   "cell_type": "code",
   "execution_count": null,
   "metadata": {},
   "outputs": [],
   "source": [
    "#df_X.drop(columns=['aisle_id'],inplace=True)"
   ]
  },
  {
   "cell_type": "code",
   "execution_count": 36,
   "metadata": {},
   "outputs": [
    {
     "name": "stdout",
     "output_type": "stream",
     "text": [
      "<class 'pandas.core.frame.DataFrame'>\n",
      "Int64Index: 606292 entries, 0 to 606291\n",
      "Data columns (total 15 columns):\n",
      "product_id                            606292 non-null int64\n",
      "user_id                               606292 non-null int64\n",
      "user_product_total_orders             606292 non-null int64\n",
      "latest_cart                           606292 non-null object\n",
      "in_cart                               606292 non-null int64\n",
      "product_total_orders                  606292 non-null int64\n",
      "product_avg_add_to_cart_order         606292 non-null float64\n",
      "user_total_orders                     606292 non-null int64\n",
      "user_avg_cartsize                     606292 non-null float64\n",
      "user_total_products                   606292 non-null int64\n",
      "user_avg_days_since_prior_order       606292 non-null float64\n",
      "user_product_avg_add_to_cart_order    606292 non-null float64\n",
      "user_product_order_freq               606292 non-null float64\n",
      "aisle_id                              606292 non-null int64\n",
      "department_id                         606292 non-null int64\n",
      "dtypes: float64(5), int64(9), object(1)\n",
      "memory usage: 74.0+ MB\n"
     ]
    }
   ],
   "source": [
    "df_X.info()"
   ]
  },
  {
   "cell_type": "code",
   "execution_count": 37,
   "metadata": {},
   "outputs": [],
   "source": [
    "df_X=df_X.join(pd.get_dummies(df_X['department_id']))"
   ]
  },
  {
   "cell_type": "code",
   "execution_count": 38,
   "metadata": {},
   "outputs": [
    {
     "name": "stdout",
     "output_type": "stream",
     "text": [
      "<class 'pandas.core.frame.DataFrame'>\n",
      "Int64Index: 606292 entries, 0 to 606291\n",
      "Data columns (total 36 columns):\n",
      "product_id                            606292 non-null int64\n",
      "user_id                               606292 non-null int64\n",
      "user_product_total_orders             606292 non-null int64\n",
      "latest_cart                           606292 non-null object\n",
      "in_cart                               606292 non-null int64\n",
      "product_total_orders                  606292 non-null int64\n",
      "product_avg_add_to_cart_order         606292 non-null float64\n",
      "user_total_orders                     606292 non-null int64\n",
      "user_avg_cartsize                     606292 non-null float64\n",
      "user_total_products                   606292 non-null int64\n",
      "user_avg_days_since_prior_order       606292 non-null float64\n",
      "user_product_avg_add_to_cart_order    606292 non-null float64\n",
      "user_product_order_freq               606292 non-null float64\n",
      "aisle_id                              606292 non-null int64\n",
      "department_id                         606292 non-null int64\n",
      "1                                     606292 non-null uint8\n",
      "2                                     606292 non-null uint8\n",
      "3                                     606292 non-null uint8\n",
      "4                                     606292 non-null uint8\n",
      "5                                     606292 non-null uint8\n",
      "6                                     606292 non-null uint8\n",
      "7                                     606292 non-null uint8\n",
      "8                                     606292 non-null uint8\n",
      "9                                     606292 non-null uint8\n",
      "10                                    606292 non-null uint8\n",
      "11                                    606292 non-null uint8\n",
      "12                                    606292 non-null uint8\n",
      "13                                    606292 non-null uint8\n",
      "14                                    606292 non-null uint8\n",
      "15                                    606292 non-null uint8\n",
      "16                                    606292 non-null uint8\n",
      "17                                    606292 non-null uint8\n",
      "18                                    606292 non-null uint8\n",
      "19                                    606292 non-null uint8\n",
      "20                                    606292 non-null uint8\n",
      "21                                    606292 non-null uint8\n",
      "dtypes: float64(5), int64(9), object(1), uint8(21)\n",
      "memory usage: 106.2+ MB\n"
     ]
    }
   ],
   "source": [
    "df_X.info()"
   ]
  },
  {
   "cell_type": "code",
   "execution_count": null,
   "metadata": {},
   "outputs": [],
   "source": [
    "#df_X.drop(columns=['department_id'],inplace=True)"
   ]
  },
  {
   "cell_type": "code",
   "execution_count": 39,
   "metadata": {},
   "outputs": [
    {
     "name": "stdout",
     "output_type": "stream",
     "text": [
      "<class 'pandas.core.frame.DataFrame'>\n",
      "Int64Index: 606292 entries, 0 to 606291\n",
      "Data columns (total 36 columns):\n",
      "product_id                            606292 non-null int64\n",
      "user_id                               606292 non-null int64\n",
      "user_product_total_orders             606292 non-null int64\n",
      "latest_cart                           606292 non-null object\n",
      "in_cart                               606292 non-null int64\n",
      "product_total_orders                  606292 non-null int64\n",
      "product_avg_add_to_cart_order         606292 non-null float64\n",
      "user_total_orders                     606292 non-null int64\n",
      "user_avg_cartsize                     606292 non-null float64\n",
      "user_total_products                   606292 non-null int64\n",
      "user_avg_days_since_prior_order       606292 non-null float64\n",
      "user_product_avg_add_to_cart_order    606292 non-null float64\n",
      "user_product_order_freq               606292 non-null float64\n",
      "aisle_id                              606292 non-null int64\n",
      "department_id                         606292 non-null int64\n",
      "1                                     606292 non-null uint8\n",
      "2                                     606292 non-null uint8\n",
      "3                                     606292 non-null uint8\n",
      "4                                     606292 non-null uint8\n",
      "5                                     606292 non-null uint8\n",
      "6                                     606292 non-null uint8\n",
      "7                                     606292 non-null uint8\n",
      "8                                     606292 non-null uint8\n",
      "9                                     606292 non-null uint8\n",
      "10                                    606292 non-null uint8\n",
      "11                                    606292 non-null uint8\n",
      "12                                    606292 non-null uint8\n",
      "13                                    606292 non-null uint8\n",
      "14                                    606292 non-null uint8\n",
      "15                                    606292 non-null uint8\n",
      "16                                    606292 non-null uint8\n",
      "17                                    606292 non-null uint8\n",
      "18                                    606292 non-null uint8\n",
      "19                                    606292 non-null uint8\n",
      "20                                    606292 non-null uint8\n",
      "21                                    606292 non-null uint8\n",
      "dtypes: float64(5), int64(9), object(1), uint8(21)\n",
      "memory usage: 106.2+ MB\n"
     ]
    }
   ],
   "source": [
    "df_X.info()"
   ]
  },
  {
   "cell_type": "code",
   "execution_count": 40,
   "metadata": {},
   "outputs": [],
   "source": [
    "\n",
    "def get_user_split_data1(df, test_size=.2, seed=42):\n",
    "\n",
    "    rs = np.random.RandomState(seed)\n",
    "    \n",
    "    total_users = df['user_id'].unique() \n",
    "    test_users = rs.choice(total_users, \n",
    "                           size=int(total_users.shape[0] * test_size), \n",
    "                           replace=False)\n",
    "\n",
    "    df_tr = df[~df['user_id'].isin(test_users)]\n",
    "    df_te = df[df['user_id'].isin(test_users)] \n",
    "\n",
    "    y_tr, y_te = df_tr['in_cart'], df_te['in_cart']\n",
    "    X_tr = df_tr.drop(['product_id','user_id','latest_cart','in_cart','aisle_id','department_id'],axis=1) \n",
    "    X_te = df_te.drop(['product_id','user_id','latest_cart','in_cart','aisle_id','department_id'],axis=1)\n",
    "\n",
    "    return X_tr, X_te, y_tr, y_te"
   ]
  },
  {
   "cell_type": "code",
   "execution_count": 41,
   "metadata": {},
   "outputs": [
    {
     "name": "stderr",
     "output_type": "stream",
     "text": [
      "/home/ubuntu/anaconda3/lib/python3.5/site-packages/sklearn/linear_model/logistic.py:432: FutureWarning: Default solver will be changed to 'lbfgs' in 0.22. Specify a solver to silence this warning.\n",
      "  FutureWarning)\n"
     ]
    },
    {
     "data": {
      "text/plain": [
       "0.09671010807374444"
      ]
     },
     "execution_count": 41,
     "metadata": {},
     "output_type": "execute_result"
    }
   ],
   "source": [
    "X_tr, X_te, y_tr, y_te = get_user_split_data1(df_X)\n",
    "\n",
    "lr = LogisticRegression(C=1)\n",
    "lr.fit(X_tr, y_tr)\n",
    "f1_score(lr.predict(X_te), y_te)"
   ]
  },
  {
   "cell_type": "code",
   "execution_count": 42,
   "metadata": {},
   "outputs": [
    {
     "data": {
      "text/plain": [
       "array([[ 9.91381687e-01,  7.24404063e-05, -1.08820980e-01,\n",
       "        -2.78030830e-01,  3.49086317e-02, -6.92132214e-03,\n",
       "        -8.45205875e-04, -3.52460892e-02, -2.35265446e-01,\n",
       "         4.16662696e-02, -5.59641721e-02,  2.51875810e-01,\n",
       "         1.07923005e-01, -1.42002955e-01, -1.81140239e-01,\n",
       "         3.26076374e-01, -4.99892967e-03, -1.95682176e-01,\n",
       "         5.29732231e-03, -5.33978001e-01, -7.51344490e-02,\n",
       "        -8.07310008e-01,  4.40451524e-02, -2.44999171e-01,\n",
       "         2.81650232e-01, -4.62066853e-01,  7.62989308e-02,\n",
       "         1.06087994e-01,  2.02462829e-01,  1.95486985e-02]])"
      ]
     },
     "execution_count": 42,
     "metadata": {},
     "output_type": "execute_result"
    }
   ],
   "source": [
    "lr.coef_ "
   ]
  },
  {
   "cell_type": "code",
   "execution_count": null,
   "metadata": {},
   "outputs": [],
   "source": [
    "# We haven't used the data on order time / day of week at all yet. We could use this to measure the typical times \n",
    "# products tend to be ordered (both generically and at the user-product level), and quantify the difference\n",
    "# between the time of the latest order and these typical times to pick up new signal around ordering patterns.\n",
    "\n",
    "# Modify the product and user-product features to compute average hour of day and day of week. Add these to df_X,\n",
    "# Then add features of the form user_product_avg_hod_delta that take the dif of the current order time and the avg."
   ]
  },
  {
   "cell_type": "code",
   "execution_count": 43,
   "metadata": {},
   "outputs": [
    {
     "data": {
      "text/html": [
       "<div>\n",
       "<style scoped>\n",
       "    .dataframe tbody tr th:only-of-type {\n",
       "        vertical-align: middle;\n",
       "    }\n",
       "\n",
       "    .dataframe tbody tr th {\n",
       "        vertical-align: top;\n",
       "    }\n",
       "\n",
       "    .dataframe thead th {\n",
       "        text-align: right;\n",
       "    }\n",
       "</style>\n",
       "<table border=\"1\" class=\"dataframe\">\n",
       "  <thead>\n",
       "    <tr style=\"text-align: right;\">\n",
       "      <th></th>\n",
       "      <th>product_id</th>\n",
       "      <th>user_id</th>\n",
       "      <th>user_product_avg_hour_of_day</th>\n",
       "      <th>user_product_avg_dow</th>\n",
       "    </tr>\n",
       "  </thead>\n",
       "  <tbody>\n",
       "    <tr>\n",
       "      <th>0</th>\n",
       "      <td>1</td>\n",
       "      <td>1494</td>\n",
       "      <td>8.0</td>\n",
       "      <td>2.0</td>\n",
       "    </tr>\n",
       "    <tr>\n",
       "      <th>1</th>\n",
       "      <td>1</td>\n",
       "      <td>1540</td>\n",
       "      <td>0.0</td>\n",
       "      <td>2.0</td>\n",
       "    </tr>\n",
       "    <tr>\n",
       "      <th>2</th>\n",
       "      <td>1</td>\n",
       "      <td>3904</td>\n",
       "      <td>14.0</td>\n",
       "      <td>1.0</td>\n",
       "    </tr>\n",
       "    <tr>\n",
       "      <th>3</th>\n",
       "      <td>1</td>\n",
       "      <td>7981</td>\n",
       "      <td>16.0</td>\n",
       "      <td>3.0</td>\n",
       "    </tr>\n",
       "    <tr>\n",
       "      <th>4</th>\n",
       "      <td>1</td>\n",
       "      <td>15182</td>\n",
       "      <td>19.0</td>\n",
       "      <td>1.0</td>\n",
       "    </tr>\n",
       "    <tr>\n",
       "      <th>5</th>\n",
       "      <td>1</td>\n",
       "      <td>23234</td>\n",
       "      <td>15.0</td>\n",
       "      <td>4.0</td>\n",
       "    </tr>\n",
       "    <tr>\n",
       "      <th>6</th>\n",
       "      <td>1</td>\n",
       "      <td>26613</td>\n",
       "      <td>12.0</td>\n",
       "      <td>6.0</td>\n",
       "    </tr>\n",
       "    <tr>\n",
       "      <th>7</th>\n",
       "      <td>1</td>\n",
       "      <td>30310</td>\n",
       "      <td>10.0</td>\n",
       "      <td>0.0</td>\n",
       "    </tr>\n",
       "    <tr>\n",
       "      <th>8</th>\n",
       "      <td>1</td>\n",
       "      <td>36640</td>\n",
       "      <td>18.0</td>\n",
       "      <td>3.0</td>\n",
       "    </tr>\n",
       "    <tr>\n",
       "      <th>9</th>\n",
       "      <td>1</td>\n",
       "      <td>37613</td>\n",
       "      <td>15.0</td>\n",
       "      <td>5.0</td>\n",
       "    </tr>\n",
       "  </tbody>\n",
       "</table>\n",
       "</div>"
      ],
      "text/plain": [
       "   product_id  user_id  user_product_avg_hour_of_day  user_product_avg_dow\n",
       "0           1     1494                           8.0                   2.0\n",
       "1           1     1540                           0.0                   2.0\n",
       "2           1     3904                          14.0                   1.0\n",
       "3           1     7981                          16.0                   3.0\n",
       "4           1    15182                          19.0                   1.0\n",
       "5           1    23234                          15.0                   4.0\n",
       "6           1    26613                          12.0                   6.0\n",
       "7           1    30310                          10.0                   0.0\n",
       "8           1    36640                          18.0                   3.0\n",
       "9           1    37613                          15.0                   5.0"
      ]
     },
     "execution_count": 43,
     "metadata": {},
     "output_type": "execute_result"
    }
   ],
   "source": [
    "user_prod_features1 = ['user_product_avg_hour_of_day','user_product_avg_dow']\n",
    "\n",
    "df_user_prod_features1 = (df_orderproductsprior.groupby(['product_id','user_id'],as_index=False) \\\n",
    "                                                .agg(OrderedDict(\n",
    "                                                     [('order_hour_of_day','mean'),\n",
    "                                                     ('order_dow','mean')])))\n",
    "\n",
    "df_user_prod_features1.columns = ['product_id','user_id'] + user_prod_features1 \n",
    "df_user_prod_features1.head(10)"
   ]
  },
  {
   "cell_type": "code",
   "execution_count": 44,
   "metadata": {},
   "outputs": [
    {
     "data": {
      "text/plain": [
       "product_id                      956278\n",
       "user_id                         956278\n",
       "user_product_avg_hour_of_day    956278\n",
       "user_product_avg_dow            956278\n",
       "dtype: int64"
      ]
     },
     "execution_count": 44,
     "metadata": {},
     "output_type": "execute_result"
    }
   ],
   "source": [
    "df_user_prod_features1.count()"
   ]
  },
  {
   "cell_type": "code",
   "execution_count": 45,
   "metadata": {},
   "outputs": [],
   "source": [
    "df_X = pd.merge(df_X, df_user_prod_features1,on=['user_id','product_id'], how='left')"
   ]
  },
  {
   "cell_type": "code",
   "execution_count": 46,
   "metadata": {},
   "outputs": [
    {
     "data": {
      "text/html": [
       "<div>\n",
       "<style scoped>\n",
       "    .dataframe tbody tr th:only-of-type {\n",
       "        vertical-align: middle;\n",
       "    }\n",
       "\n",
       "    .dataframe tbody tr th {\n",
       "        vertical-align: top;\n",
       "    }\n",
       "\n",
       "    .dataframe thead th {\n",
       "        text-align: right;\n",
       "    }\n",
       "</style>\n",
       "<table border=\"1\" class=\"dataframe\">\n",
       "  <thead>\n",
       "    <tr style=\"text-align: right;\">\n",
       "      <th></th>\n",
       "      <th>product_id</th>\n",
       "      <th>user_id</th>\n",
       "      <th>user_product_total_orders</th>\n",
       "      <th>latest_cart</th>\n",
       "      <th>in_cart</th>\n",
       "      <th>product_total_orders</th>\n",
       "      <th>product_avg_add_to_cart_order</th>\n",
       "      <th>user_total_orders</th>\n",
       "      <th>user_avg_cartsize</th>\n",
       "      <th>user_total_products</th>\n",
       "      <th>...</th>\n",
       "      <th>14</th>\n",
       "      <th>15</th>\n",
       "      <th>16</th>\n",
       "      <th>17</th>\n",
       "      <th>18</th>\n",
       "      <th>19</th>\n",
       "      <th>20</th>\n",
       "      <th>21</th>\n",
       "      <th>user_product_avg_hour_of_day</th>\n",
       "      <th>user_product_avg_dow</th>\n",
       "    </tr>\n",
       "  </thead>\n",
       "  <tbody>\n",
       "    <tr>\n",
       "      <th>0</th>\n",
       "      <td>1</td>\n",
       "      <td>1494</td>\n",
       "      <td>1</td>\n",
       "      <td>{44560}</td>\n",
       "      <td>0</td>\n",
       "      <td>47</td>\n",
       "      <td>6.255319</td>\n",
       "      <td>1</td>\n",
       "      <td>21.0</td>\n",
       "      <td>21</td>\n",
       "      <td>...</td>\n",
       "      <td>0</td>\n",
       "      <td>0</td>\n",
       "      <td>0</td>\n",
       "      <td>0</td>\n",
       "      <td>0</td>\n",
       "      <td>1</td>\n",
       "      <td>0</td>\n",
       "      <td>0</td>\n",
       "      <td>8.0</td>\n",
       "      <td>2.0</td>\n",
       "    </tr>\n",
       "    <tr>\n",
       "      <th>1</th>\n",
       "      <td>1</td>\n",
       "      <td>1540</td>\n",
       "      <td>1</td>\n",
       "      <td>{37600, 1, 11266, 3298, 130, 30720, 10310, 401...</td>\n",
       "      <td>1</td>\n",
       "      <td>47</td>\n",
       "      <td>6.255319</td>\n",
       "      <td>2</td>\n",
       "      <td>10.0</td>\n",
       "      <td>13</td>\n",
       "      <td>...</td>\n",
       "      <td>0</td>\n",
       "      <td>0</td>\n",
       "      <td>0</td>\n",
       "      <td>0</td>\n",
       "      <td>0</td>\n",
       "      <td>1</td>\n",
       "      <td>0</td>\n",
       "      <td>0</td>\n",
       "      <td>0.0</td>\n",
       "      <td>2.0</td>\n",
       "    </tr>\n",
       "    <tr>\n",
       "      <th>2</th>\n",
       "      <td>1</td>\n",
       "      <td>3904</td>\n",
       "      <td>1</td>\n",
       "      <td>{6184, 20818, 21572, 32478}</td>\n",
       "      <td>0</td>\n",
       "      <td>47</td>\n",
       "      <td>6.255319</td>\n",
       "      <td>1</td>\n",
       "      <td>3.0</td>\n",
       "      <td>3</td>\n",
       "      <td>...</td>\n",
       "      <td>0</td>\n",
       "      <td>0</td>\n",
       "      <td>0</td>\n",
       "      <td>0</td>\n",
       "      <td>0</td>\n",
       "      <td>1</td>\n",
       "      <td>0</td>\n",
       "      <td>0</td>\n",
       "      <td>14.0</td>\n",
       "      <td>1.0</td>\n",
       "    </tr>\n",
       "    <tr>\n",
       "      <th>3</th>\n",
       "      <td>1</td>\n",
       "      <td>15182</td>\n",
       "      <td>1</td>\n",
       "      <td>{1, 4210, 30731, 19511}</td>\n",
       "      <td>1</td>\n",
       "      <td>47</td>\n",
       "      <td>6.255319</td>\n",
       "      <td>2</td>\n",
       "      <td>2.5</td>\n",
       "      <td>3</td>\n",
       "      <td>...</td>\n",
       "      <td>0</td>\n",
       "      <td>0</td>\n",
       "      <td>0</td>\n",
       "      <td>0</td>\n",
       "      <td>0</td>\n",
       "      <td>1</td>\n",
       "      <td>0</td>\n",
       "      <td>0</td>\n",
       "      <td>19.0</td>\n",
       "      <td>1.0</td>\n",
       "    </tr>\n",
       "    <tr>\n",
       "      <th>4</th>\n",
       "      <td>1</td>\n",
       "      <td>26613</td>\n",
       "      <td>1</td>\n",
       "      <td>{21288, 3265, 11759}</td>\n",
       "      <td>0</td>\n",
       "      <td>47</td>\n",
       "      <td>6.255319</td>\n",
       "      <td>2</td>\n",
       "      <td>3.5</td>\n",
       "      <td>7</td>\n",
       "      <td>...</td>\n",
       "      <td>0</td>\n",
       "      <td>0</td>\n",
       "      <td>0</td>\n",
       "      <td>0</td>\n",
       "      <td>0</td>\n",
       "      <td>1</td>\n",
       "      <td>0</td>\n",
       "      <td>0</td>\n",
       "      <td>12.0</td>\n",
       "      <td>6.0</td>\n",
       "    </tr>\n",
       "  </tbody>\n",
       "</table>\n",
       "<p>5 rows × 38 columns</p>\n",
       "</div>"
      ],
      "text/plain": [
       "   product_id  user_id  user_product_total_orders  \\\n",
       "0           1     1494                          1   \n",
       "1           1     1540                          1   \n",
       "2           1     3904                          1   \n",
       "3           1    15182                          1   \n",
       "4           1    26613                          1   \n",
       "\n",
       "                                         latest_cart  in_cart  \\\n",
       "0                                            {44560}        0   \n",
       "1  {37600, 1, 11266, 3298, 130, 30720, 10310, 401...        1   \n",
       "2                        {6184, 20818, 21572, 32478}        0   \n",
       "3                            {1, 4210, 30731, 19511}        1   \n",
       "4                               {21288, 3265, 11759}        0   \n",
       "\n",
       "   product_total_orders  product_avg_add_to_cart_order  user_total_orders  \\\n",
       "0                    47                       6.255319                  1   \n",
       "1                    47                       6.255319                  2   \n",
       "2                    47                       6.255319                  1   \n",
       "3                    47                       6.255319                  2   \n",
       "4                    47                       6.255319                  2   \n",
       "\n",
       "   user_avg_cartsize  user_total_products          ...           14  15  16  \\\n",
       "0               21.0                   21          ...            0   0   0   \n",
       "1               10.0                   13          ...            0   0   0   \n",
       "2                3.0                    3          ...            0   0   0   \n",
       "3                2.5                    3          ...            0   0   0   \n",
       "4                3.5                    7          ...            0   0   0   \n",
       "\n",
       "   17  18  19  20  21  user_product_avg_hour_of_day  user_product_avg_dow  \n",
       "0   0   0   1   0   0                           8.0                   2.0  \n",
       "1   0   0   1   0   0                           0.0                   2.0  \n",
       "2   0   0   1   0   0                          14.0                   1.0  \n",
       "3   0   0   1   0   0                          19.0                   1.0  \n",
       "4   0   0   1   0   0                          12.0                   6.0  \n",
       "\n",
       "[5 rows x 38 columns]"
      ]
     },
     "execution_count": 46,
     "metadata": {},
     "output_type": "execute_result"
    }
   ],
   "source": [
    "df_X.head()"
   ]
  },
  {
   "cell_type": "code",
   "execution_count": 47,
   "metadata": {},
   "outputs": [
    {
     "data": {
      "text/plain": [
       "product_id                            606292\n",
       "user_id                               606292\n",
       "user_product_total_orders             606292\n",
       "latest_cart                           606292\n",
       "in_cart                               606292\n",
       "product_total_orders                  606292\n",
       "product_avg_add_to_cart_order         606292\n",
       "user_total_orders                     606292\n",
       "user_avg_cartsize                     606292\n",
       "user_total_products                   606292\n",
       "user_avg_days_since_prior_order       606292\n",
       "user_product_avg_add_to_cart_order    606292\n",
       "user_product_order_freq               606292\n",
       "aisle_id                              606292\n",
       "department_id                         606292\n",
       "1                                     606292\n",
       "2                                     606292\n",
       "3                                     606292\n",
       "4                                     606292\n",
       "5                                     606292\n",
       "6                                     606292\n",
       "7                                     606292\n",
       "8                                     606292\n",
       "9                                     606292\n",
       "10                                    606292\n",
       "11                                    606292\n",
       "12                                    606292\n",
       "13                                    606292\n",
       "14                                    606292\n",
       "15                                    606292\n",
       "16                                    606292\n",
       "17                                    606292\n",
       "18                                    606292\n",
       "19                                    606292\n",
       "20                                    606292\n",
       "21                                    606292\n",
       "user_product_avg_hour_of_day          606292\n",
       "user_product_avg_dow                  606292\n",
       "dtype: int64"
      ]
     },
     "execution_count": 47,
     "metadata": {},
     "output_type": "execute_result"
    }
   ],
   "source": [
    "df_X.count()"
   ]
  },
  {
   "cell_type": "code",
   "execution_count": 48,
   "metadata": {},
   "outputs": [
    {
     "name": "stderr",
     "output_type": "stream",
     "text": [
      "/home/ubuntu/anaconda3/lib/python3.5/site-packages/sklearn/linear_model/logistic.py:432: FutureWarning: Default solver will be changed to 'lbfgs' in 0.22. Specify a solver to silence this warning.\n",
      "  FutureWarning)\n"
     ]
    },
    {
     "data": {
      "text/plain": [
       "0.09535559358459028"
      ]
     },
     "execution_count": 48,
     "metadata": {},
     "output_type": "execute_result"
    }
   ],
   "source": [
    "X_tr, X_te, y_tr, y_te = get_user_split_data1(df_X)\n",
    "\n",
    "lr = LogisticRegression(C=1)\n",
    "lr.fit(X_tr, y_tr)\n",
    "f1_score(lr.predict(X_te), y_te)"
   ]
  },
  {
   "cell_type": "code",
   "execution_count": 49,
   "metadata": {},
   "outputs": [
    {
     "data": {
      "text/plain": [
       "array([[ 9.26103610e-01,  7.11631898e-05, -1.21929677e-01,\n",
       "        -2.73867622e-01,  3.26187077e-02, -5.25784379e-03,\n",
       "        -1.82611527e-03, -3.51170091e-02, -1.65344208e-01,\n",
       "         4.70695926e-02, -4.77663520e-02,  2.30818269e-01,\n",
       "         8.72163100e-02, -1.16985002e-01, -1.56747902e-01,\n",
       "         2.84285788e-01, -8.37663401e-05, -1.67412958e-01,\n",
       "         5.25260429e-03, -4.65724035e-01, -6.19171071e-02,\n",
       "        -7.36876506e-01,  4.40399768e-02, -2.12390256e-01,\n",
       "         2.80763612e-01, -4.07188650e-01,  7.04232117e-02,\n",
       "         1.10169410e-01,  1.88872537e-01,  1.81871314e-02,\n",
       "        -5.85531443e-03, -6.54546303e-03]])"
      ]
     },
     "execution_count": 49,
     "metadata": {},
     "output_type": "execute_result"
    }
   ],
   "source": [
    "lr.coef_ "
   ]
  },
  {
   "cell_type": "code",
   "execution_count": null,
   "metadata": {},
   "outputs": [],
   "source": [
    "#most recent order dow and hour of day by user/product"
   ]
  },
  {
   "cell_type": "code",
   "execution_count": 50,
   "metadata": {},
   "outputs": [
    {
     "data": {
      "text/html": [
       "<div>\n",
       "<style scoped>\n",
       "    .dataframe tbody tr th:only-of-type {\n",
       "        vertical-align: middle;\n",
       "    }\n",
       "\n",
       "    .dataframe tbody tr th {\n",
       "        vertical-align: top;\n",
       "    }\n",
       "\n",
       "    .dataframe thead th {\n",
       "        text-align: right;\n",
       "    }\n",
       "</style>\n",
       "<table border=\"1\" class=\"dataframe\">\n",
       "  <thead>\n",
       "    <tr style=\"text-align: right;\">\n",
       "      <th></th>\n",
       "      <th>product_id</th>\n",
       "      <th>user_id</th>\n",
       "      <th>most_recent_order_dow</th>\n",
       "      <th>most_recent_order_hour_of_day</th>\n",
       "      <th>most_recent_order_no</th>\n",
       "    </tr>\n",
       "  </thead>\n",
       "  <tbody>\n",
       "    <tr>\n",
       "      <th>0</th>\n",
       "      <td>1</td>\n",
       "      <td>751</td>\n",
       "      <td>2</td>\n",
       "      <td>6</td>\n",
       "      <td>63770</td>\n",
       "    </tr>\n",
       "    <tr>\n",
       "      <th>1</th>\n",
       "      <td>1</td>\n",
       "      <td>1540</td>\n",
       "      <td>1</td>\n",
       "      <td>1</td>\n",
       "      <td>6695</td>\n",
       "    </tr>\n",
       "    <tr>\n",
       "      <th>2</th>\n",
       "      <td>1</td>\n",
       "      <td>2221</td>\n",
       "      <td>5</td>\n",
       "      <td>19</td>\n",
       "      <td>767323</td>\n",
       "    </tr>\n",
       "    <tr>\n",
       "      <th>3</th>\n",
       "      <td>1</td>\n",
       "      <td>9694</td>\n",
       "      <td>4</td>\n",
       "      <td>11</td>\n",
       "      <td>304053</td>\n",
       "    </tr>\n",
       "    <tr>\n",
       "      <th>4</th>\n",
       "      <td>1</td>\n",
       "      <td>13916</td>\n",
       "      <td>3</td>\n",
       "      <td>9</td>\n",
       "      <td>1028477</td>\n",
       "    </tr>\n",
       "    <tr>\n",
       "      <th>5</th>\n",
       "      <td>1</td>\n",
       "      <td>14910</td>\n",
       "      <td>5</td>\n",
       "      <td>11</td>\n",
       "      <td>468768</td>\n",
       "    </tr>\n",
       "    <tr>\n",
       "      <th>6</th>\n",
       "      <td>1</td>\n",
       "      <td>15182</td>\n",
       "      <td>0</td>\n",
       "      <td>17</td>\n",
       "      <td>1372137</td>\n",
       "    </tr>\n",
       "    <tr>\n",
       "      <th>7</th>\n",
       "      <td>1</td>\n",
       "      <td>21054</td>\n",
       "      <td>3</td>\n",
       "      <td>14</td>\n",
       "      <td>253400</td>\n",
       "    </tr>\n",
       "    <tr>\n",
       "      <th>8</th>\n",
       "      <td>1</td>\n",
       "      <td>21395</td>\n",
       "      <td>5</td>\n",
       "      <td>22</td>\n",
       "      <td>2628526</td>\n",
       "    </tr>\n",
       "    <tr>\n",
       "      <th>9</th>\n",
       "      <td>1</td>\n",
       "      <td>21910</td>\n",
       "      <td>1</td>\n",
       "      <td>18</td>\n",
       "      <td>3044039</td>\n",
       "    </tr>\n",
       "  </tbody>\n",
       "</table>\n",
       "</div>"
      ],
      "text/plain": [
       "   product_id  user_id  most_recent_order_dow  most_recent_order_hour_of_day  \\\n",
       "0           1      751                      2                              6   \n",
       "1           1     1540                      1                              1   \n",
       "2           1     2221                      5                             19   \n",
       "3           1     9694                      4                             11   \n",
       "4           1    13916                      3                              9   \n",
       "5           1    14910                      5                             11   \n",
       "6           1    15182                      0                             17   \n",
       "7           1    21054                      3                             14   \n",
       "8           1    21395                      5                             22   \n",
       "9           1    21910                      1                             18   \n",
       "\n",
       "   most_recent_order_no  \n",
       "0                 63770  \n",
       "1                  6695  \n",
       "2                767323  \n",
       "3                304053  \n",
       "4               1028477  \n",
       "5                468768  \n",
       "6               1372137  \n",
       "7                253400  \n",
       "8               2628526  \n",
       "9               3044039  "
      ]
     },
     "execution_count": 50,
     "metadata": {},
     "output_type": "execute_result"
    }
   ],
   "source": [
    "user_prod_features2 = ['most_recent_order_no']\n",
    "\n",
    "df_user_prod_features2 = (df_orderproductstrain.groupby(['product_id','user_id','order_dow','order_hour_of_day'],as_index=False) \\\n",
    "                                                .agg(OrderedDict(\n",
    "                                                     [('order_id','max')])))\n",
    "\n",
    "df_user_prod_features2.columns = ['product_id','user_id','most_recent_order_dow','most_recent_order_hour_of_day'] + user_prod_features2 \n",
    "df_user_prod_features2.head(10)"
   ]
  },
  {
   "cell_type": "code",
   "execution_count": 51,
   "metadata": {},
   "outputs": [],
   "source": [
    "df_X = pd.merge(df_X, df_user_prod_features2[['product_id','user_id','most_recent_order_dow','most_recent_order_hour_of_day']],on=['user_id','product_id'], how='left')"
   ]
  },
  {
   "cell_type": "code",
   "execution_count": 52,
   "metadata": {},
   "outputs": [
    {
     "data": {
      "text/html": [
       "<div>\n",
       "<style scoped>\n",
       "    .dataframe tbody tr th:only-of-type {\n",
       "        vertical-align: middle;\n",
       "    }\n",
       "\n",
       "    .dataframe tbody tr th {\n",
       "        vertical-align: top;\n",
       "    }\n",
       "\n",
       "    .dataframe thead th {\n",
       "        text-align: right;\n",
       "    }\n",
       "</style>\n",
       "<table border=\"1\" class=\"dataframe\">\n",
       "  <thead>\n",
       "    <tr style=\"text-align: right;\">\n",
       "      <th></th>\n",
       "      <th>product_id</th>\n",
       "      <th>user_id</th>\n",
       "      <th>user_product_total_orders</th>\n",
       "      <th>latest_cart</th>\n",
       "      <th>in_cart</th>\n",
       "      <th>product_total_orders</th>\n",
       "      <th>product_avg_add_to_cart_order</th>\n",
       "      <th>user_total_orders</th>\n",
       "      <th>user_avg_cartsize</th>\n",
       "      <th>user_total_products</th>\n",
       "      <th>...</th>\n",
       "      <th>16</th>\n",
       "      <th>17</th>\n",
       "      <th>18</th>\n",
       "      <th>19</th>\n",
       "      <th>20</th>\n",
       "      <th>21</th>\n",
       "      <th>user_product_avg_hour_of_day</th>\n",
       "      <th>user_product_avg_dow</th>\n",
       "      <th>most_recent_order_dow</th>\n",
       "      <th>most_recent_order_hour_of_day</th>\n",
       "    </tr>\n",
       "  </thead>\n",
       "  <tbody>\n",
       "    <tr>\n",
       "      <th>0</th>\n",
       "      <td>1</td>\n",
       "      <td>1494</td>\n",
       "      <td>1</td>\n",
       "      <td>{44560}</td>\n",
       "      <td>0</td>\n",
       "      <td>47</td>\n",
       "      <td>6.255319</td>\n",
       "      <td>1</td>\n",
       "      <td>21.0</td>\n",
       "      <td>21</td>\n",
       "      <td>...</td>\n",
       "      <td>0</td>\n",
       "      <td>0</td>\n",
       "      <td>0</td>\n",
       "      <td>1</td>\n",
       "      <td>0</td>\n",
       "      <td>0</td>\n",
       "      <td>8.0</td>\n",
       "      <td>2.0</td>\n",
       "      <td>NaN</td>\n",
       "      <td>NaN</td>\n",
       "    </tr>\n",
       "  </tbody>\n",
       "</table>\n",
       "<p>1 rows × 40 columns</p>\n",
       "</div>"
      ],
      "text/plain": [
       "   product_id  user_id  user_product_total_orders latest_cart  in_cart  \\\n",
       "0           1     1494                          1     {44560}        0   \n",
       "\n",
       "   product_total_orders  product_avg_add_to_cart_order  user_total_orders  \\\n",
       "0                    47                       6.255319                  1   \n",
       "\n",
       "   user_avg_cartsize  user_total_products              ...                16  \\\n",
       "0               21.0                   21              ...                 0   \n",
       "\n",
       "   17  18  19  20  21  user_product_avg_hour_of_day  user_product_avg_dow  \\\n",
       "0   0   0   1   0   0                           8.0                   2.0   \n",
       "\n",
       "   most_recent_order_dow  most_recent_order_hour_of_day  \n",
       "0                    NaN                            NaN  \n",
       "\n",
       "[1 rows x 40 columns]"
      ]
     },
     "execution_count": 52,
     "metadata": {},
     "output_type": "execute_result"
    }
   ],
   "source": [
    "df_X.head(1)"
   ]
  },
  {
   "cell_type": "code",
   "execution_count": 53,
   "metadata": {},
   "outputs": [
    {
     "data": {
      "text/plain": [
       "product_id                            606292\n",
       "user_id                               606292\n",
       "user_product_total_orders             606292\n",
       "latest_cart                           606292\n",
       "in_cart                               606292\n",
       "product_total_orders                  606292\n",
       "product_avg_add_to_cart_order         606292\n",
       "user_total_orders                     606292\n",
       "user_avg_cartsize                     606292\n",
       "user_total_products                   606292\n",
       "user_avg_days_since_prior_order       606292\n",
       "user_product_avg_add_to_cart_order    606292\n",
       "user_product_order_freq               606292\n",
       "aisle_id                              606292\n",
       "department_id                         606292\n",
       "1                                     606292\n",
       "2                                     606292\n",
       "3                                     606292\n",
       "4                                     606292\n",
       "5                                     606292\n",
       "6                                     606292\n",
       "7                                     606292\n",
       "8                                     606292\n",
       "9                                     606292\n",
       "10                                    606292\n",
       "11                                    606292\n",
       "12                                    606292\n",
       "13                                    606292\n",
       "14                                    606292\n",
       "15                                    606292\n",
       "16                                    606292\n",
       "17                                    606292\n",
       "18                                    606292\n",
       "19                                    606292\n",
       "20                                    606292\n",
       "21                                    606292\n",
       "user_product_avg_hour_of_day          606292\n",
       "user_product_avg_dow                  606292\n",
       "most_recent_order_dow                 114158\n",
       "most_recent_order_hour_of_day         114158\n",
       "dtype: int64"
      ]
     },
     "execution_count": 53,
     "metadata": {},
     "output_type": "execute_result"
    }
   ],
   "source": [
    "df_X.count()"
   ]
  },
  {
   "cell_type": "code",
   "execution_count": 54,
   "metadata": {},
   "outputs": [
    {
     "name": "stdout",
     "output_type": "stream",
     "text": [
      "<class 'pandas.core.frame.DataFrame'>\n",
      "Int64Index: 606292 entries, 0 to 606291\n",
      "Data columns (total 40 columns):\n",
      "product_id                            606292 non-null int64\n",
      "user_id                               606292 non-null int64\n",
      "user_product_total_orders             606292 non-null int64\n",
      "latest_cart                           606292 non-null object\n",
      "in_cart                               606292 non-null int64\n",
      "product_total_orders                  606292 non-null int64\n",
      "product_avg_add_to_cart_order         606292 non-null float64\n",
      "user_total_orders                     606292 non-null int64\n",
      "user_avg_cartsize                     606292 non-null float64\n",
      "user_total_products                   606292 non-null int64\n",
      "user_avg_days_since_prior_order       606292 non-null float64\n",
      "user_product_avg_add_to_cart_order    606292 non-null float64\n",
      "user_product_order_freq               606292 non-null float64\n",
      "aisle_id                              606292 non-null int64\n",
      "department_id                         606292 non-null int64\n",
      "1                                     606292 non-null uint8\n",
      "2                                     606292 non-null uint8\n",
      "3                                     606292 non-null uint8\n",
      "4                                     606292 non-null uint8\n",
      "5                                     606292 non-null uint8\n",
      "6                                     606292 non-null uint8\n",
      "7                                     606292 non-null uint8\n",
      "8                                     606292 non-null uint8\n",
      "9                                     606292 non-null uint8\n",
      "10                                    606292 non-null uint8\n",
      "11                                    606292 non-null uint8\n",
      "12                                    606292 non-null uint8\n",
      "13                                    606292 non-null uint8\n",
      "14                                    606292 non-null uint8\n",
      "15                                    606292 non-null uint8\n",
      "16                                    606292 non-null uint8\n",
      "17                                    606292 non-null uint8\n",
      "18                                    606292 non-null uint8\n",
      "19                                    606292 non-null uint8\n",
      "20                                    606292 non-null uint8\n",
      "21                                    606292 non-null uint8\n",
      "user_product_avg_hour_of_day          606292 non-null float64\n",
      "user_product_avg_dow                  606292 non-null float64\n",
      "most_recent_order_dow                 114158 non-null float64\n",
      "most_recent_order_hour_of_day         114158 non-null float64\n",
      "dtypes: float64(9), int64(9), object(1), uint8(21)\n",
      "memory usage: 104.7+ MB\n"
     ]
    }
   ],
   "source": [
    "df_X.info()"
   ]
  },
  {
   "cell_type": "code",
   "execution_count": null,
   "metadata": {},
   "outputs": [],
   "source": [
    "#replace nan with mean of column "
   ]
  },
  {
   "cell_type": "code",
   "execution_count": null,
   "metadata": {},
   "outputs": [],
   "source": [
    "#df_X=df_X.replace(\"?\",np.nan)\n",
    "#df_X['most_recent_order_dow'].fillna(df_X['most_recent_order_dow'].mean(), inplace=True)"
   ]
  },
  {
   "cell_type": "code",
   "execution_count": null,
   "metadata": {},
   "outputs": [],
   "source": [
    "#df_X['most_recent_order_hour_of_day'].fillna(df_X['most_recent_order_hour_of_day'].mean(), inplace=True)"
   ]
  },
  {
   "cell_type": "code",
   "execution_count": 55,
   "metadata": {},
   "outputs": [],
   "source": [
    "df_X['most_recent_order_dow'].fillna(-9999, inplace=True)"
   ]
  },
  {
   "cell_type": "code",
   "execution_count": 56,
   "metadata": {},
   "outputs": [],
   "source": [
    "df_X['most_recent_order_hour_of_day'].fillna(-9999, inplace=True)"
   ]
  },
  {
   "cell_type": "code",
   "execution_count": 57,
   "metadata": {},
   "outputs": [
    {
     "data": {
      "text/html": [
       "<div>\n",
       "<style scoped>\n",
       "    .dataframe tbody tr th:only-of-type {\n",
       "        vertical-align: middle;\n",
       "    }\n",
       "\n",
       "    .dataframe tbody tr th {\n",
       "        vertical-align: top;\n",
       "    }\n",
       "\n",
       "    .dataframe thead th {\n",
       "        text-align: right;\n",
       "    }\n",
       "</style>\n",
       "<table border=\"1\" class=\"dataframe\">\n",
       "  <thead>\n",
       "    <tr style=\"text-align: right;\">\n",
       "      <th></th>\n",
       "      <th>product_id</th>\n",
       "      <th>user_id</th>\n",
       "      <th>user_product_total_orders</th>\n",
       "      <th>latest_cart</th>\n",
       "      <th>in_cart</th>\n",
       "      <th>product_total_orders</th>\n",
       "      <th>product_avg_add_to_cart_order</th>\n",
       "      <th>user_total_orders</th>\n",
       "      <th>user_avg_cartsize</th>\n",
       "      <th>user_total_products</th>\n",
       "      <th>...</th>\n",
       "      <th>16</th>\n",
       "      <th>17</th>\n",
       "      <th>18</th>\n",
       "      <th>19</th>\n",
       "      <th>20</th>\n",
       "      <th>21</th>\n",
       "      <th>user_product_avg_hour_of_day</th>\n",
       "      <th>user_product_avg_dow</th>\n",
       "      <th>most_recent_order_dow</th>\n",
       "      <th>most_recent_order_hour_of_day</th>\n",
       "    </tr>\n",
       "  </thead>\n",
       "  <tbody>\n",
       "    <tr>\n",
       "      <th>0</th>\n",
       "      <td>1</td>\n",
       "      <td>1494</td>\n",
       "      <td>1</td>\n",
       "      <td>{44560}</td>\n",
       "      <td>0</td>\n",
       "      <td>47</td>\n",
       "      <td>6.255319</td>\n",
       "      <td>1</td>\n",
       "      <td>21.0</td>\n",
       "      <td>21</td>\n",
       "      <td>...</td>\n",
       "      <td>0</td>\n",
       "      <td>0</td>\n",
       "      <td>0</td>\n",
       "      <td>1</td>\n",
       "      <td>0</td>\n",
       "      <td>0</td>\n",
       "      <td>8.0</td>\n",
       "      <td>2.0</td>\n",
       "      <td>-9999.0</td>\n",
       "      <td>-9999.0</td>\n",
       "    </tr>\n",
       "    <tr>\n",
       "      <th>1</th>\n",
       "      <td>1</td>\n",
       "      <td>1540</td>\n",
       "      <td>1</td>\n",
       "      <td>{37600, 1, 11266, 3298, 130, 30720, 10310, 401...</td>\n",
       "      <td>1</td>\n",
       "      <td>47</td>\n",
       "      <td>6.255319</td>\n",
       "      <td>2</td>\n",
       "      <td>10.0</td>\n",
       "      <td>13</td>\n",
       "      <td>...</td>\n",
       "      <td>0</td>\n",
       "      <td>0</td>\n",
       "      <td>0</td>\n",
       "      <td>1</td>\n",
       "      <td>0</td>\n",
       "      <td>0</td>\n",
       "      <td>0.0</td>\n",
       "      <td>2.0</td>\n",
       "      <td>1.0</td>\n",
       "      <td>1.0</td>\n",
       "    </tr>\n",
       "    <tr>\n",
       "      <th>2</th>\n",
       "      <td>1</td>\n",
       "      <td>3904</td>\n",
       "      <td>1</td>\n",
       "      <td>{6184, 20818, 21572, 32478}</td>\n",
       "      <td>0</td>\n",
       "      <td>47</td>\n",
       "      <td>6.255319</td>\n",
       "      <td>1</td>\n",
       "      <td>3.0</td>\n",
       "      <td>3</td>\n",
       "      <td>...</td>\n",
       "      <td>0</td>\n",
       "      <td>0</td>\n",
       "      <td>0</td>\n",
       "      <td>1</td>\n",
       "      <td>0</td>\n",
       "      <td>0</td>\n",
       "      <td>14.0</td>\n",
       "      <td>1.0</td>\n",
       "      <td>-9999.0</td>\n",
       "      <td>-9999.0</td>\n",
       "    </tr>\n",
       "    <tr>\n",
       "      <th>3</th>\n",
       "      <td>1</td>\n",
       "      <td>15182</td>\n",
       "      <td>1</td>\n",
       "      <td>{1, 4210, 30731, 19511}</td>\n",
       "      <td>1</td>\n",
       "      <td>47</td>\n",
       "      <td>6.255319</td>\n",
       "      <td>2</td>\n",
       "      <td>2.5</td>\n",
       "      <td>3</td>\n",
       "      <td>...</td>\n",
       "      <td>0</td>\n",
       "      <td>0</td>\n",
       "      <td>0</td>\n",
       "      <td>1</td>\n",
       "      <td>0</td>\n",
       "      <td>0</td>\n",
       "      <td>19.0</td>\n",
       "      <td>1.0</td>\n",
       "      <td>0.0</td>\n",
       "      <td>17.0</td>\n",
       "    </tr>\n",
       "    <tr>\n",
       "      <th>4</th>\n",
       "      <td>1</td>\n",
       "      <td>26613</td>\n",
       "      <td>1</td>\n",
       "      <td>{21288, 3265, 11759}</td>\n",
       "      <td>0</td>\n",
       "      <td>47</td>\n",
       "      <td>6.255319</td>\n",
       "      <td>2</td>\n",
       "      <td>3.5</td>\n",
       "      <td>7</td>\n",
       "      <td>...</td>\n",
       "      <td>0</td>\n",
       "      <td>0</td>\n",
       "      <td>0</td>\n",
       "      <td>1</td>\n",
       "      <td>0</td>\n",
       "      <td>0</td>\n",
       "      <td>12.0</td>\n",
       "      <td>6.0</td>\n",
       "      <td>-9999.0</td>\n",
       "      <td>-9999.0</td>\n",
       "    </tr>\n",
       "  </tbody>\n",
       "</table>\n",
       "<p>5 rows × 40 columns</p>\n",
       "</div>"
      ],
      "text/plain": [
       "   product_id  user_id  user_product_total_orders  \\\n",
       "0           1     1494                          1   \n",
       "1           1     1540                          1   \n",
       "2           1     3904                          1   \n",
       "3           1    15182                          1   \n",
       "4           1    26613                          1   \n",
       "\n",
       "                                         latest_cart  in_cart  \\\n",
       "0                                            {44560}        0   \n",
       "1  {37600, 1, 11266, 3298, 130, 30720, 10310, 401...        1   \n",
       "2                        {6184, 20818, 21572, 32478}        0   \n",
       "3                            {1, 4210, 30731, 19511}        1   \n",
       "4                               {21288, 3265, 11759}        0   \n",
       "\n",
       "   product_total_orders  product_avg_add_to_cart_order  user_total_orders  \\\n",
       "0                    47                       6.255319                  1   \n",
       "1                    47                       6.255319                  2   \n",
       "2                    47                       6.255319                  1   \n",
       "3                    47                       6.255319                  2   \n",
       "4                    47                       6.255319                  2   \n",
       "\n",
       "   user_avg_cartsize  user_total_products              ...                16  \\\n",
       "0               21.0                   21              ...                 0   \n",
       "1               10.0                   13              ...                 0   \n",
       "2                3.0                    3              ...                 0   \n",
       "3                2.5                    3              ...                 0   \n",
       "4                3.5                    7              ...                 0   \n",
       "\n",
       "   17  18  19  20  21  user_product_avg_hour_of_day  user_product_avg_dow  \\\n",
       "0   0   0   1   0   0                           8.0                   2.0   \n",
       "1   0   0   1   0   0                           0.0                   2.0   \n",
       "2   0   0   1   0   0                          14.0                   1.0   \n",
       "3   0   0   1   0   0                          19.0                   1.0   \n",
       "4   0   0   1   0   0                          12.0                   6.0   \n",
       "\n",
       "   most_recent_order_dow  most_recent_order_hour_of_day  \n",
       "0                -9999.0                        -9999.0  \n",
       "1                    1.0                            1.0  \n",
       "2                -9999.0                        -9999.0  \n",
       "3                    0.0                           17.0  \n",
       "4                -9999.0                        -9999.0  \n",
       "\n",
       "[5 rows x 40 columns]"
      ]
     },
     "execution_count": 57,
     "metadata": {},
     "output_type": "execute_result"
    }
   ],
   "source": [
    "df_X.head()"
   ]
  },
  {
   "cell_type": "code",
   "execution_count": 58,
   "metadata": {},
   "outputs": [
    {
     "name": "stdout",
     "output_type": "stream",
     "text": [
      "<class 'pandas.core.frame.DataFrame'>\n",
      "Int64Index: 606292 entries, 0 to 606291\n",
      "Data columns (total 40 columns):\n",
      "product_id                            606292 non-null int64\n",
      "user_id                               606292 non-null int64\n",
      "user_product_total_orders             606292 non-null int64\n",
      "latest_cart                           606292 non-null object\n",
      "in_cart                               606292 non-null int64\n",
      "product_total_orders                  606292 non-null int64\n",
      "product_avg_add_to_cart_order         606292 non-null float64\n",
      "user_total_orders                     606292 non-null int64\n",
      "user_avg_cartsize                     606292 non-null float64\n",
      "user_total_products                   606292 non-null int64\n",
      "user_avg_days_since_prior_order       606292 non-null float64\n",
      "user_product_avg_add_to_cart_order    606292 non-null float64\n",
      "user_product_order_freq               606292 non-null float64\n",
      "aisle_id                              606292 non-null int64\n",
      "department_id                         606292 non-null int64\n",
      "1                                     606292 non-null uint8\n",
      "2                                     606292 non-null uint8\n",
      "3                                     606292 non-null uint8\n",
      "4                                     606292 non-null uint8\n",
      "5                                     606292 non-null uint8\n",
      "6                                     606292 non-null uint8\n",
      "7                                     606292 non-null uint8\n",
      "8                                     606292 non-null uint8\n",
      "9                                     606292 non-null uint8\n",
      "10                                    606292 non-null uint8\n",
      "11                                    606292 non-null uint8\n",
      "12                                    606292 non-null uint8\n",
      "13                                    606292 non-null uint8\n",
      "14                                    606292 non-null uint8\n",
      "15                                    606292 non-null uint8\n",
      "16                                    606292 non-null uint8\n",
      "17                                    606292 non-null uint8\n",
      "18                                    606292 non-null uint8\n",
      "19                                    606292 non-null uint8\n",
      "20                                    606292 non-null uint8\n",
      "21                                    606292 non-null uint8\n",
      "user_product_avg_hour_of_day          606292 non-null float64\n",
      "user_product_avg_dow                  606292 non-null float64\n",
      "most_recent_order_dow                 606292 non-null float64\n",
      "most_recent_order_hour_of_day         606292 non-null float64\n",
      "dtypes: float64(9), int64(9), object(1), uint8(21)\n",
      "memory usage: 104.7+ MB\n"
     ]
    }
   ],
   "source": [
    "df_X.info()"
   ]
  },
  {
   "cell_type": "code",
   "execution_count": 59,
   "metadata": {},
   "outputs": [
    {
     "name": "stderr",
     "output_type": "stream",
     "text": [
      "/home/ubuntu/anaconda3/lib/python3.5/site-packages/sklearn/linear_model/logistic.py:432: FutureWarning: Default solver will be changed to 'lbfgs' in 0.22. Specify a solver to silence this warning.\n",
      "  FutureWarning)\n"
     ]
    },
    {
     "data": {
      "text/plain": [
       "1.0"
      ]
     },
     "execution_count": 59,
     "metadata": {},
     "output_type": "execute_result"
    }
   ],
   "source": [
    "X_tr, X_te, y_tr, y_te = get_user_split_data1(df_X)\n",
    "\n",
    "lr = LogisticRegression(C=1)\n",
    "lr.fit(X_tr, y_tr)\n",
    "f1_score(lr.predict(X_te), y_te)"
   ]
  },
  {
   "cell_type": "code",
   "execution_count": 60,
   "metadata": {},
   "outputs": [
    {
     "data": {
      "text/plain": [
       "array([[2.48080284e-03, 5.00554043e-02, 1.76389470e-02, 3.52081393e-03,\n",
       "        2.84723981e-02, 3.96122182e-02, 2.77035999e-02, 1.43651137e-02,\n",
       "        1.79064307e-03, 2.40863374e-04, 5.64018574e-06, 1.22161228e-04,\n",
       "        9.95976143e-05, 3.19380336e-05, 2.69888906e-05, 3.12337918e-04,\n",
       "        3.86463598e-05, 6.68603073e-05, 3.21454263e-06, 6.12130560e-05,\n",
       "        4.49673788e-05, 1.06194928e-04, 7.60818090e-05, 7.28784055e-05,\n",
       "        3.02279661e-04, 7.34744373e-05, 4.59850097e-05, 3.27639752e-04,\n",
       "        8.98546426e-05, 1.91686430e-05, 2.88192794e-02, 6.09103878e-03,\n",
       "        2.74772201e-02, 4.98963398e-02]])"
      ]
     },
     "execution_count": 60,
     "metadata": {},
     "output_type": "execute_result"
    }
   ],
   "source": [
    "lr.coef_ "
   ]
  },
  {
   "cell_type": "code",
   "execution_count": 61,
   "metadata": {},
   "outputs": [],
   "source": [
    "df_X['user_product_avg_hod_delta'] = df_X['most_recent_order_hour_of_day'] - df_X['user_product_avg_hour_of_day'] "
   ]
  },
  {
   "cell_type": "code",
   "execution_count": 62,
   "metadata": {},
   "outputs": [],
   "source": [
    "df_X['user_product_avg_hod_delta']=df_X['user_product_avg_hod_delta'].abs()"
   ]
  },
  {
   "cell_type": "code",
   "execution_count": 63,
   "metadata": {},
   "outputs": [
    {
     "data": {
      "text/plain": [
       "10009.000000    40963\n",
       "10010.000000    40581\n",
       "10014.000000    40159\n",
       "10011.000000    40109\n",
       "10012.000000    39221\n",
       "10013.000000    39220\n",
       "10015.000000    37416\n",
       "10008.000000    35072\n",
       "10016.000000    30865\n",
       "10007.000000    24636\n",
       "10017.000000    24039\n",
       "1.000000        18024\n",
       "10018.000000    17971\n",
       "2.000000        14848\n",
       "10019.000000    14370\n",
       "10006.000000    12735\n",
       "3.000000        12164\n",
       "10020.000000    11091\n",
       "0.000000        10539\n",
       "4.000000        10121\n",
       "10021.000000     9137\n",
       "5.000000         8389\n",
       "6.000000         7094\n",
       "10022.000000     5798\n",
       "7.000000         5617\n",
       "8.000000         4574\n",
       "10005.000000     4056\n",
       "9.000000         3496\n",
       "9999.000000      2888\n",
       "10.000000        2792\n",
       "                ...  \n",
       "12.666667           1\n",
       "13.750000           1\n",
       "2.833333            1\n",
       "3.166667            1\n",
       "10019.750000        1\n",
       "2.200000            1\n",
       "10019.250000        1\n",
       "2.200000            1\n",
       "0.714286            1\n",
       "3.714286            1\n",
       "19.333333           1\n",
       "10015.833333        1\n",
       "13.333333           1\n",
       "10014.166667        1\n",
       "4.166667            1\n",
       "10015.166667        1\n",
       "16.666667           1\n",
       "7.400000            1\n",
       "10013.166667        1\n",
       "10002.666667        1\n",
       "18.333333           1\n",
       "10.250000           1\n",
       "10007.166667        1\n",
       "0.142857            1\n",
       "1.714286            1\n",
       "21.500000           1\n",
       "8.400000            1\n",
       "10003.333333        1\n",
       "2.428571            1\n",
       "10009.400000        1\n",
       "Name: user_product_avg_hod_delta, Length: 345, dtype: int64"
      ]
     },
     "execution_count": 63,
     "metadata": {},
     "output_type": "execute_result"
    }
   ],
   "source": [
    "df_X['user_product_avg_hod_delta'].value_counts()"
   ]
  },
  {
   "cell_type": "code",
   "execution_count": 64,
   "metadata": {},
   "outputs": [
    {
     "name": "stdout",
     "output_type": "stream",
     "text": [
      "<class 'pandas.core.frame.DataFrame'>\n",
      "Int64Index: 606292 entries, 0 to 606291\n",
      "Data columns (total 41 columns):\n",
      "product_id                            606292 non-null int64\n",
      "user_id                               606292 non-null int64\n",
      "user_product_total_orders             606292 non-null int64\n",
      "latest_cart                           606292 non-null object\n",
      "in_cart                               606292 non-null int64\n",
      "product_total_orders                  606292 non-null int64\n",
      "product_avg_add_to_cart_order         606292 non-null float64\n",
      "user_total_orders                     606292 non-null int64\n",
      "user_avg_cartsize                     606292 non-null float64\n",
      "user_total_products                   606292 non-null int64\n",
      "user_avg_days_since_prior_order       606292 non-null float64\n",
      "user_product_avg_add_to_cart_order    606292 non-null float64\n",
      "user_product_order_freq               606292 non-null float64\n",
      "aisle_id                              606292 non-null int64\n",
      "department_id                         606292 non-null int64\n",
      "1                                     606292 non-null uint8\n",
      "2                                     606292 non-null uint8\n",
      "3                                     606292 non-null uint8\n",
      "4                                     606292 non-null uint8\n",
      "5                                     606292 non-null uint8\n",
      "6                                     606292 non-null uint8\n",
      "7                                     606292 non-null uint8\n",
      "8                                     606292 non-null uint8\n",
      "9                                     606292 non-null uint8\n",
      "10                                    606292 non-null uint8\n",
      "11                                    606292 non-null uint8\n",
      "12                                    606292 non-null uint8\n",
      "13                                    606292 non-null uint8\n",
      "14                                    606292 non-null uint8\n",
      "15                                    606292 non-null uint8\n",
      "16                                    606292 non-null uint8\n",
      "17                                    606292 non-null uint8\n",
      "18                                    606292 non-null uint8\n",
      "19                                    606292 non-null uint8\n",
      "20                                    606292 non-null uint8\n",
      "21                                    606292 non-null uint8\n",
      "user_product_avg_hour_of_day          606292 non-null float64\n",
      "user_product_avg_dow                  606292 non-null float64\n",
      "most_recent_order_dow                 606292 non-null float64\n",
      "most_recent_order_hour_of_day         606292 non-null float64\n",
      "user_product_avg_hod_delta            606292 non-null float64\n",
      "dtypes: float64(10), int64(9), object(1), uint8(21)\n",
      "memory usage: 109.3+ MB\n"
     ]
    }
   ],
   "source": [
    "df_X.info()"
   ]
  },
  {
   "cell_type": "code",
   "execution_count": 65,
   "metadata": {},
   "outputs": [
    {
     "name": "stderr",
     "output_type": "stream",
     "text": [
      "/home/ubuntu/anaconda3/lib/python3.5/site-packages/sklearn/linear_model/logistic.py:432: FutureWarning: Default solver will be changed to 'lbfgs' in 0.22. Specify a solver to silence this warning.\n",
      "  FutureWarning)\n"
     ]
    },
    {
     "data": {
      "text/plain": [
       "1.0"
      ]
     },
     "execution_count": 65,
     "metadata": {},
     "output_type": "execute_result"
    }
   ],
   "source": [
    "X_tr, X_te, y_tr, y_te = get_user_split_data1(df_X)\n",
    "\n",
    "lr = LogisticRegression(C=1)\n",
    "lr.fit(X_tr, y_tr)\n",
    "f1_score(lr.predict(X_te), y_te)"
   ]
  },
  {
   "cell_type": "code",
   "execution_count": 66,
   "metadata": {},
   "outputs": [
    {
     "data": {
      "text/plain": [
       "array([[ 1.99845962e-03,  3.28684062e-02,  1.39541148e-02,\n",
       "         2.77876798e-03,  2.02852854e-02,  2.74538638e-02,\n",
       "         2.16577861e-02,  1.02054784e-02,  1.47928021e-03,\n",
       "         1.95397551e-04,  6.02599917e-06,  9.45371052e-05,\n",
       "         7.05135712e-05,  3.26400303e-05,  2.35330311e-05,\n",
       "         2.63925038e-04,  3.90504453e-05,  5.46746918e-05,\n",
       "         2.86143968e-06,  6.34006580e-05,  3.53017578e-05,\n",
       "         9.05904135e-05,  5.87688953e-05,  5.93330402e-05,\n",
       "         2.21012265e-04,  6.44421769e-05,  3.43870520e-05,\n",
       "         2.69466720e-04,  7.00169701e-05,  1.84395162e-05,\n",
       "         2.33234042e-02,  5.00592540e-03,  1.51766898e-02,\n",
       "         3.31389750e-02, -2.85536600e-03]])"
      ]
     },
     "execution_count": 66,
     "metadata": {},
     "output_type": "execute_result"
    }
   ],
   "source": [
    "lr.coef_ "
   ]
  },
  {
   "cell_type": "code",
   "execution_count": 67,
   "metadata": {},
   "outputs": [
    {
     "name": "stderr",
     "output_type": "stream",
     "text": [
      "/home/ubuntu/anaconda3/lib/python3.5/site-packages/sklearn/preprocessing/data.py:617: DataConversionWarning: Data with input dtype uint8, int64, float64 were all converted to float64 by StandardScaler.\n",
      "  return self.partial_fit(X, y)\n",
      "/home/ubuntu/anaconda3/lib/python3.5/site-packages/sklearn/base.py:462: DataConversionWarning: Data with input dtype uint8, int64, float64 were all converted to float64 by StandardScaler.\n",
      "  return self.fit(X, **fit_params).transform(X)\n",
      "/home/ubuntu/anaconda3/lib/python3.5/site-packages/ipykernel/__main__.py:4: DataConversionWarning: Data with input dtype uint8, int64, float64 were all converted to float64 by StandardScaler.\n"
     ]
    }
   ],
   "source": [
    "X_tr, X_te, y_tr, y_te = get_user_split_data1(df_X)\n",
    "scaler = StandardScaler() #scales and brings it down to between 0 and 1, a quick transformation \n",
    "X_train_scaled = scaler.fit_transform(X_tr)\n",
    "X_test_scaled = scaler.transform(X_te)"
   ]
  },
  {
   "cell_type": "code",
   "execution_count": null,
   "metadata": {},
   "outputs": [],
   "source": [
    "#adding user prod avg hod delta drops the F1 score, so we will remove for now"
   ]
  },
  {
   "cell_type": "code",
   "execution_count": null,
   "metadata": {},
   "outputs": [],
   "source": [
    "#Handling class imbalance"
   ]
  },
  {
   "cell_type": "code",
   "execution_count": 68,
   "metadata": {},
   "outputs": [
    {
     "name": "stdout",
     "output_type": "stream",
     "text": [
      "Normal Logistic Regression Test F1: 1.000, Test AUC: 1.000\n",
      "Balanced class weights Logistic Regression Test F1: 1.000, Test AUC: 1.000\n",
      "3:1 class weights Logistic Regression Test F1: 1.000, Test AUC: 1.000\n"
     ]
    }
   ],
   "source": [
    "lr = LogisticRegression(solver='liblinear') \n",
    "lr_balanced = LogisticRegression(class_weight='balanced', solver='liblinear')\n",
    "lr_4x = LogisticRegression(class_weight={1 : 4, 0 : 1}, solver='liblinear')\n",
    "\n",
    "lr.fit(X_train_scaled, y_tr)\n",
    "print('Normal Logistic Regression Test F1: %.3f, Test AUC: %.3f' % \\\n",
    "      (f1_score(y_te, lr.predict(X_test_scaled)), roc_auc_score(y_te, lr.predict_proba(X_test_scaled)[:,1])))\n",
    "\n",
    "lr_balanced.fit(X_train_scaled, y_tr)\n",
    "print('Balanced class weights Logistic Regression Test F1: %.3f, Test AUC: %.3f' % \\\n",
    "      (f1_score(y_te, lr_balanced.predict(X_test_scaled)), roc_auc_score(y_te, lr_balanced.predict_proba(X_test_scaled)[:,1])))\n",
    "\n",
    "lr_4x.fit(X_train_scaled, y_tr)\n",
    "print('3:1 class weights Logistic Regression Test F1: %.3f, Test AUC: %.3f' % \\\n",
    "      (f1_score(y_te, lr_4x.predict(X_test_scaled)), roc_auc_score(y_te, lr_4x.predict_proba(X_test_scaled)[:,1])))"
   ]
  },
  {
   "cell_type": "code",
   "execution_count": 69,
   "metadata": {},
   "outputs": [
    {
     "name": "stdout",
     "output_type": "stream",
     "text": [
      "Precision: 1.0\n",
      "Recall: 1.0\n"
     ]
    }
   ],
   "source": [
    "from sklearn import metrics\n",
    "print(\"Precision:\",metrics.precision_score(y_te, lr_4x.predict(X_test_scaled))) # 48/51\n",
    "print(\"Recall:\",metrics.recall_score(y_te, lr_4x.predict(X_test_scaled)))#48/54"
   ]
  },
  {
   "cell_type": "code",
   "execution_count": 70,
   "metadata": {},
   "outputs": [],
   "source": [
    "from sklearn.metrics import roc_auc_score, roc_curve\n",
    "\n",
    "fpr, tpr, thresholds = roc_curve(y_te, lr_4x.predict_proba(X_test_scaled)[:,1])"
   ]
  },
  {
   "cell_type": "code",
   "execution_count": 71,
   "metadata": {},
   "outputs": [
    {
     "name": "stdout",
     "output_type": "stream",
     "text": [
      "ROC AUC score =  1.0\n"
     ]
    },
    {
     "data": {
      "image/png": "[encoded data removed]",
      "text/plain": [
       "<Figure size 432x288 with 1 Axes>"
      ]
     },
     "metadata": {
      "needs_background": "light"
     },
     "output_type": "display_data"
    }
   ],
   "source": [
    "plt.plot(fpr, tpr,lw=2)\n",
    "plt.plot([0,1],[0,1],c='violet',ls='--')\n",
    "plt.xlim([-0.05,1.05])\n",
    "plt.ylim([-0.05,1.05])\n",
    "\n",
    "\n",
    "plt.xlabel('False positive rate')\n",
    "plt.ylabel('True positive rate')\n",
    "plt.title('ROC curve');\n",
    "print(\"ROC AUC score = \", roc_auc_score(y_te, lr_4x.predict_proba(X_test_scaled)[:,1]))"
   ]
  },
  {
   "cell_type": "code",
   "execution_count": 72,
   "metadata": {},
   "outputs": [
    {
     "data": {
      "text/html": [
       "<div>\n",
       "<style scoped>\n",
       "    .dataframe tbody tr th:only-of-type {\n",
       "        vertical-align: middle;\n",
       "    }\n",
       "\n",
       "    .dataframe tbody tr th {\n",
       "        vertical-align: top;\n",
       "    }\n",
       "\n",
       "    .dataframe thead th {\n",
       "        text-align: right;\n",
       "    }\n",
       "</style>\n",
       "<table border=\"1\" class=\"dataframe\">\n",
       "  <thead>\n",
       "    <tr style=\"text-align: right;\">\n",
       "      <th></th>\n",
       "      <th>product_id</th>\n",
       "      <th>user_id</th>\n",
       "      <th>user_product_total_orders</th>\n",
       "      <th>latest_cart</th>\n",
       "      <th>in_cart</th>\n",
       "      <th>product_total_orders</th>\n",
       "      <th>product_avg_add_to_cart_order</th>\n",
       "      <th>user_total_orders</th>\n",
       "      <th>user_avg_cartsize</th>\n",
       "      <th>user_total_products</th>\n",
       "      <th>...</th>\n",
       "      <th>17</th>\n",
       "      <th>18</th>\n",
       "      <th>19</th>\n",
       "      <th>20</th>\n",
       "      <th>21</th>\n",
       "      <th>user_product_avg_hour_of_day</th>\n",
       "      <th>user_product_avg_dow</th>\n",
       "      <th>most_recent_order_dow</th>\n",
       "      <th>most_recent_order_hour_of_day</th>\n",
       "      <th>user_product_avg_hod_delta</th>\n",
       "    </tr>\n",
       "  </thead>\n",
       "  <tbody>\n",
       "    <tr>\n",
       "      <th>0</th>\n",
       "      <td>1</td>\n",
       "      <td>1494</td>\n",
       "      <td>1</td>\n",
       "      <td>{44560}</td>\n",
       "      <td>0</td>\n",
       "      <td>47</td>\n",
       "      <td>6.255319</td>\n",
       "      <td>1</td>\n",
       "      <td>21.0</td>\n",
       "      <td>21</td>\n",
       "      <td>...</td>\n",
       "      <td>0</td>\n",
       "      <td>0</td>\n",
       "      <td>1</td>\n",
       "      <td>0</td>\n",
       "      <td>0</td>\n",
       "      <td>8.0</td>\n",
       "      <td>2.0</td>\n",
       "      <td>-9999.0</td>\n",
       "      <td>-9999.0</td>\n",
       "      <td>10007.0</td>\n",
       "    </tr>\n",
       "    <tr>\n",
       "      <th>1</th>\n",
       "      <td>1</td>\n",
       "      <td>1540</td>\n",
       "      <td>1</td>\n",
       "      <td>{37600, 1, 11266, 3298, 130, 30720, 10310, 401...</td>\n",
       "      <td>1</td>\n",
       "      <td>47</td>\n",
       "      <td>6.255319</td>\n",
       "      <td>2</td>\n",
       "      <td>10.0</td>\n",
       "      <td>13</td>\n",
       "      <td>...</td>\n",
       "      <td>0</td>\n",
       "      <td>0</td>\n",
       "      <td>1</td>\n",
       "      <td>0</td>\n",
       "      <td>0</td>\n",
       "      <td>0.0</td>\n",
       "      <td>2.0</td>\n",
       "      <td>1.0</td>\n",
       "      <td>1.0</td>\n",
       "      <td>1.0</td>\n",
       "    </tr>\n",
       "    <tr>\n",
       "      <th>2</th>\n",
       "      <td>1</td>\n",
       "      <td>3904</td>\n",
       "      <td>1</td>\n",
       "      <td>{6184, 20818, 21572, 32478}</td>\n",
       "      <td>0</td>\n",
       "      <td>47</td>\n",
       "      <td>6.255319</td>\n",
       "      <td>1</td>\n",
       "      <td>3.0</td>\n",
       "      <td>3</td>\n",
       "      <td>...</td>\n",
       "      <td>0</td>\n",
       "      <td>0</td>\n",
       "      <td>1</td>\n",
       "      <td>0</td>\n",
       "      <td>0</td>\n",
       "      <td>14.0</td>\n",
       "      <td>1.0</td>\n",
       "      <td>-9999.0</td>\n",
       "      <td>-9999.0</td>\n",
       "      <td>10013.0</td>\n",
       "    </tr>\n",
       "    <tr>\n",
       "      <th>3</th>\n",
       "      <td>1</td>\n",
       "      <td>15182</td>\n",
       "      <td>1</td>\n",
       "      <td>{1, 4210, 30731, 19511}</td>\n",
       "      <td>1</td>\n",
       "      <td>47</td>\n",
       "      <td>6.255319</td>\n",
       "      <td>2</td>\n",
       "      <td>2.5</td>\n",
       "      <td>3</td>\n",
       "      <td>...</td>\n",
       "      <td>0</td>\n",
       "      <td>0</td>\n",
       "      <td>1</td>\n",
       "      <td>0</td>\n",
       "      <td>0</td>\n",
       "      <td>19.0</td>\n",
       "      <td>1.0</td>\n",
       "      <td>0.0</td>\n",
       "      <td>17.0</td>\n",
       "      <td>2.0</td>\n",
       "    </tr>\n",
       "    <tr>\n",
       "      <th>4</th>\n",
       "      <td>1</td>\n",
       "      <td>26613</td>\n",
       "      <td>1</td>\n",
       "      <td>{21288, 3265, 11759}</td>\n",
       "      <td>0</td>\n",
       "      <td>47</td>\n",
       "      <td>6.255319</td>\n",
       "      <td>2</td>\n",
       "      <td>3.5</td>\n",
       "      <td>7</td>\n",
       "      <td>...</td>\n",
       "      <td>0</td>\n",
       "      <td>0</td>\n",
       "      <td>1</td>\n",
       "      <td>0</td>\n",
       "      <td>0</td>\n",
       "      <td>12.0</td>\n",
       "      <td>6.0</td>\n",
       "      <td>-9999.0</td>\n",
       "      <td>-9999.0</td>\n",
       "      <td>10011.0</td>\n",
       "    </tr>\n",
       "  </tbody>\n",
       "</table>\n",
       "<p>5 rows × 41 columns</p>\n",
       "</div>"
      ],
      "text/plain": [
       "   product_id  user_id  user_product_total_orders  \\\n",
       "0           1     1494                          1   \n",
       "1           1     1540                          1   \n",
       "2           1     3904                          1   \n",
       "3           1    15182                          1   \n",
       "4           1    26613                          1   \n",
       "\n",
       "                                         latest_cart  in_cart  \\\n",
       "0                                            {44560}        0   \n",
       "1  {37600, 1, 11266, 3298, 130, 30720, 10310, 401...        1   \n",
       "2                        {6184, 20818, 21572, 32478}        0   \n",
       "3                            {1, 4210, 30731, 19511}        1   \n",
       "4                               {21288, 3265, 11759}        0   \n",
       "\n",
       "   product_total_orders  product_avg_add_to_cart_order  user_total_orders  \\\n",
       "0                    47                       6.255319                  1   \n",
       "1                    47                       6.255319                  2   \n",
       "2                    47                       6.255319                  1   \n",
       "3                    47                       6.255319                  2   \n",
       "4                    47                       6.255319                  2   \n",
       "\n",
       "   user_avg_cartsize  user_total_products             ...              17  18  \\\n",
       "0               21.0                   21             ...               0   0   \n",
       "1               10.0                   13             ...               0   0   \n",
       "2                3.0                    3             ...               0   0   \n",
       "3                2.5                    3             ...               0   0   \n",
       "4                3.5                    7             ...               0   0   \n",
       "\n",
       "   19  20  21  user_product_avg_hour_of_day  user_product_avg_dow  \\\n",
       "0   1   0   0                           8.0                   2.0   \n",
       "1   1   0   0                           0.0                   2.0   \n",
       "2   1   0   0                          14.0                   1.0   \n",
       "3   1   0   0                          19.0                   1.0   \n",
       "4   1   0   0                          12.0                   6.0   \n",
       "\n",
       "   most_recent_order_dow  most_recent_order_hour_of_day  \\\n",
       "0                -9999.0                        -9999.0   \n",
       "1                    1.0                            1.0   \n",
       "2                -9999.0                        -9999.0   \n",
       "3                    0.0                           17.0   \n",
       "4                -9999.0                        -9999.0   \n",
       "\n",
       "   user_product_avg_hod_delta  \n",
       "0                     10007.0  \n",
       "1                         1.0  \n",
       "2                     10013.0  \n",
       "3                         2.0  \n",
       "4                     10011.0  \n",
       "\n",
       "[5 rows x 41 columns]"
      ]
     },
     "execution_count": 72,
     "metadata": {},
     "output_type": "execute_result"
    }
   ],
   "source": [
    "df_X.head()"
   ]
  },
  {
   "cell_type": "code",
   "execution_count": 73,
   "metadata": {},
   "outputs": [
    {
     "data": {
      "image/png": "[encoded data removed]",
      "text/plain": [
       "<Figure size 900x600 with 2 Axes>"
      ]
     },
     "metadata": {
      "needs_background": "light"
     },
     "output_type": "display_data"
    }
   ],
   "source": [
    "lr_4x_confusion = confusion_matrix(y_te, lr_4x.predict(X_test_scaled))\n",
    "plt.figure(dpi=150)\n",
    "sns.heatmap(lr_4x_confusion, cmap=plt.cm.Blues, annot=True, square=True)\n",
    "         #  xticklabels=iris_dataset['target_names'],\n",
    "          # yticklabels=iris_dataset['target_names)\n",
    "\n",
    "plt.xlabel('Predicted item in next order')\n",
    "plt.ylabel('Actual item in next order')\n",
    "plt.title('lr_4x confusion matrix to predict which products will appear in a users next order');    \n"
   ]
  },
  {
   "cell_type": "code",
   "execution_count": null,
   "metadata": {},
   "outputs": [],
   "source": [
    "# Add another user-product feature that computes how many orders it's been since the user ordered that product "
   ]
  },
  {
   "cell_type": "code",
   "execution_count": 74,
   "metadata": {},
   "outputs": [],
   "source": [
    "##########\n",
    "user_prod_features3=['user_most_recent_orderno_withprod']\n",
    "\n",
    "df_user_prod_features3 = (df_orderproductsprior.groupby(['product_id','user_id'],as_index=False) \n",
    "                                          .agg(OrderedDict(\n",
    "                                                   [('order_id','max')])))\n",
    "df_user_prod_features3.columns = ['product_id','user_id'] + user_prod_features3 \n",
    "\n",
    "product_ids = df_orderproductstrain['product_id'].unique()\n"
   ]
  },
  {
   "cell_type": "code",
   "execution_count": 75,
   "metadata": {},
   "outputs": [
    {
     "data": {
      "text/html": [
       "<div>\n",
       "<style scoped>\n",
       "    .dataframe tbody tr th:only-of-type {\n",
       "        vertical-align: middle;\n",
       "    }\n",
       "\n",
       "    .dataframe tbody tr th {\n",
       "        vertical-align: top;\n",
       "    }\n",
       "\n",
       "    .dataframe thead th {\n",
       "        text-align: right;\n",
       "    }\n",
       "</style>\n",
       "<table border=\"1\" class=\"dataframe\">\n",
       "  <thead>\n",
       "    <tr style=\"text-align: right;\">\n",
       "      <th></th>\n",
       "      <th>product_id</th>\n",
       "      <th>user_id</th>\n",
       "      <th>user_most_recent_orderno_withprod</th>\n",
       "    </tr>\n",
       "  </thead>\n",
       "  <tbody>\n",
       "    <tr>\n",
       "      <th>0</th>\n",
       "      <td>1</td>\n",
       "      <td>1494</td>\n",
       "      <td>186761</td>\n",
       "    </tr>\n",
       "    <tr>\n",
       "      <th>1</th>\n",
       "      <td>1</td>\n",
       "      <td>1540</td>\n",
       "      <td>200390</td>\n",
       "    </tr>\n",
       "    <tr>\n",
       "      <th>2</th>\n",
       "      <td>1</td>\n",
       "      <td>3904</td>\n",
       "      <td>207661</td>\n",
       "    </tr>\n",
       "    <tr>\n",
       "      <th>3</th>\n",
       "      <td>1</td>\n",
       "      <td>7981</td>\n",
       "      <td>138748</td>\n",
       "    </tr>\n",
       "    <tr>\n",
       "      <th>4</th>\n",
       "      <td>1</td>\n",
       "      <td>15182</td>\n",
       "      <td>153011</td>\n",
       "    </tr>\n",
       "    <tr>\n",
       "      <th>5</th>\n",
       "      <td>1</td>\n",
       "      <td>23234</td>\n",
       "      <td>172436</td>\n",
       "    </tr>\n",
       "    <tr>\n",
       "      <th>6</th>\n",
       "      <td>1</td>\n",
       "      <td>26613</td>\n",
       "      <td>130646</td>\n",
       "    </tr>\n",
       "    <tr>\n",
       "      <th>7</th>\n",
       "      <td>1</td>\n",
       "      <td>30310</td>\n",
       "      <td>127530</td>\n",
       "    </tr>\n",
       "    <tr>\n",
       "      <th>8</th>\n",
       "      <td>1</td>\n",
       "      <td>36640</td>\n",
       "      <td>133612</td>\n",
       "    </tr>\n",
       "    <tr>\n",
       "      <th>9</th>\n",
       "      <td>1</td>\n",
       "      <td>37613</td>\n",
       "      <td>161433</td>\n",
       "    </tr>\n",
       "  </tbody>\n",
       "</table>\n",
       "</div>"
      ],
      "text/plain": [
       "   product_id  user_id  user_most_recent_orderno_withprod\n",
       "0           1     1494                             186761\n",
       "1           1     1540                             200390\n",
       "2           1     3904                             207661\n",
       "3           1     7981                             138748\n",
       "4           1    15182                             153011\n",
       "5           1    23234                             172436\n",
       "6           1    26613                             130646\n",
       "7           1    30310                             127530\n",
       "8           1    36640                             133612\n",
       "9           1    37613                             161433"
      ]
     },
     "execution_count": 75,
     "metadata": {},
     "output_type": "execute_result"
    }
   ],
   "source": [
    "df_user_prod_features3.head(10)"
   ]
  },
  {
   "cell_type": "code",
   "execution_count": 76,
   "metadata": {},
   "outputs": [
    {
     "name": "stdout",
     "output_type": "stream",
     "text": [
      "<class 'pandas.core.frame.DataFrame'>\n",
      "Int64Index: 956278 entries, 0 to 956277\n",
      "Data columns (total 3 columns):\n",
      "product_id                           956278 non-null int64\n",
      "user_id                              956278 non-null int64\n",
      "user_most_recent_orderno_withprod    956278 non-null int64\n",
      "dtypes: int64(3)\n",
      "memory usage: 29.2 MB\n"
     ]
    }
   ],
   "source": [
    "df_user_prod_features3.info()"
   ]
  },
  {
   "cell_type": "code",
   "execution_count": 77,
   "metadata": {},
   "outputs": [],
   "source": [
    "#get a list of users orders"
   ]
  },
  {
   "cell_type": "code",
   "execution_count": 78,
   "metadata": {},
   "outputs": [],
   "source": [
    "order_group = (df_orderproductsprior.groupby(['user_id','product_id'],as_index=False) #more recent set of orders \n",
    "                                      .agg({'order_id':(lambda x: set(x))})#product of items, set so no dups\n",
    "                                      .rename(columns={'order_id':'list_orders'}))\n",
    "\n",
    "                                           "
   ]
  },
  {
   "cell_type": "code",
   "execution_count": 79,
   "metadata": {},
   "outputs": [
    {
     "name": "stdout",
     "output_type": "stream",
     "text": [
      "<class 'pandas.core.frame.DataFrame'>\n",
      "Int64Index: 956278 entries, 0 to 956277\n",
      "Data columns (total 3 columns):\n",
      "user_id        956278 non-null int64\n",
      "product_id     956278 non-null int64\n",
      "list_orders    956278 non-null object\n",
      "dtypes: int64(2), object(1)\n",
      "memory usage: 29.2+ MB\n"
     ]
    }
   ],
   "source": [
    "order_group.info()"
   ]
  },
  {
   "cell_type": "code",
   "execution_count": null,
   "metadata": {},
   "outputs": [],
   "source": [
    "#omit for now\n",
    "#order_group['list_orders'] = order_group['list_orders'].map(lambda x: list(sorted(x)))"
   ]
  },
  {
   "cell_type": "code",
   "execution_count": 80,
   "metadata": {},
   "outputs": [],
   "source": [
    "order_group = pd.merge(order_group, df_user_prod_features3,on=['user_id','product_id'], how='inner')"
   ]
  },
  {
   "cell_type": "code",
   "execution_count": 81,
   "metadata": {},
   "outputs": [],
   "source": [
    "# Add another user-product feature that computes how many orders it's been since the user ordered that product "
   ]
  },
  {
   "cell_type": "code",
   "execution_count": 82,
   "metadata": {},
   "outputs": [
    {
     "data": {
      "text/html": [
       "<div>\n",
       "<style scoped>\n",
       "    .dataframe tbody tr th:only-of-type {\n",
       "        vertical-align: middle;\n",
       "    }\n",
       "\n",
       "    .dataframe tbody tr th {\n",
       "        vertical-align: top;\n",
       "    }\n",
       "\n",
       "    .dataframe thead th {\n",
       "        text-align: right;\n",
       "    }\n",
       "</style>\n",
       "<table border=\"1\" class=\"dataframe\">\n",
       "  <thead>\n",
       "    <tr style=\"text-align: right;\">\n",
       "      <th></th>\n",
       "      <th>user_id</th>\n",
       "      <th>product_id</th>\n",
       "      <th>list_orders</th>\n",
       "      <th>user_most_recent_orderno_withprod</th>\n",
       "    </tr>\n",
       "  </thead>\n",
       "  <tbody>\n",
       "    <tr>\n",
       "      <th>0</th>\n",
       "      <td>5</td>\n",
       "      <td>3376</td>\n",
       "      <td>{157374}</td>\n",
       "      <td>157374</td>\n",
       "    </tr>\n",
       "    <tr>\n",
       "      <th>1</th>\n",
       "      <td>5</td>\n",
       "      <td>5999</td>\n",
       "      <td>{157374}</td>\n",
       "      <td>157374</td>\n",
       "    </tr>\n",
       "    <tr>\n",
       "      <th>2</th>\n",
       "      <td>5</td>\n",
       "      <td>8518</td>\n",
       "      <td>{157374}</td>\n",
       "      <td>157374</td>\n",
       "    </tr>\n",
       "    <tr>\n",
       "      <th>3</th>\n",
       "      <td>5</td>\n",
       "      <td>11777</td>\n",
       "      <td>{157374}</td>\n",
       "      <td>157374</td>\n",
       "    </tr>\n",
       "    <tr>\n",
       "      <th>4</th>\n",
       "      <td>5</td>\n",
       "      <td>13988</td>\n",
       "      <td>{157374}</td>\n",
       "      <td>157374</td>\n",
       "    </tr>\n",
       "    <tr>\n",
       "      <th>5</th>\n",
       "      <td>5</td>\n",
       "      <td>16168</td>\n",
       "      <td>{157374}</td>\n",
       "      <td>157374</td>\n",
       "    </tr>\n",
       "    <tr>\n",
       "      <th>6</th>\n",
       "      <td>5</td>\n",
       "      <td>21413</td>\n",
       "      <td>{157374}</td>\n",
       "      <td>157374</td>\n",
       "    </tr>\n",
       "    <tr>\n",
       "      <th>7</th>\n",
       "      <td>5</td>\n",
       "      <td>24535</td>\n",
       "      <td>{157374}</td>\n",
       "      <td>157374</td>\n",
       "    </tr>\n",
       "    <tr>\n",
       "      <th>8</th>\n",
       "      <td>5</td>\n",
       "      <td>26604</td>\n",
       "      <td>{157374}</td>\n",
       "      <td>157374</td>\n",
       "    </tr>\n",
       "    <tr>\n",
       "      <th>9</th>\n",
       "      <td>5</td>\n",
       "      <td>27344</td>\n",
       "      <td>{157374}</td>\n",
       "      <td>157374</td>\n",
       "    </tr>\n",
       "    <tr>\n",
       "      <th>10</th>\n",
       "      <td>5</td>\n",
       "      <td>40706</td>\n",
       "      <td>{157374}</td>\n",
       "      <td>157374</td>\n",
       "    </tr>\n",
       "    <tr>\n",
       "      <th>11</th>\n",
       "      <td>5</td>\n",
       "      <td>43693</td>\n",
       "      <td>{157374}</td>\n",
       "      <td>157374</td>\n",
       "    </tr>\n",
       "    <tr>\n",
       "      <th>12</th>\n",
       "      <td>7</td>\n",
       "      <td>519</td>\n",
       "      <td>{121053}</td>\n",
       "      <td>121053</td>\n",
       "    </tr>\n",
       "    <tr>\n",
       "      <th>13</th>\n",
       "      <td>7</td>\n",
       "      <td>6361</td>\n",
       "      <td>{121053}</td>\n",
       "      <td>121053</td>\n",
       "    </tr>\n",
       "    <tr>\n",
       "      <th>14</th>\n",
       "      <td>7</td>\n",
       "      <td>9598</td>\n",
       "      <td>{121053}</td>\n",
       "      <td>121053</td>\n",
       "    </tr>\n",
       "    <tr>\n",
       "      <th>15</th>\n",
       "      <td>7</td>\n",
       "      <td>10895</td>\n",
       "      <td>{121053}</td>\n",
       "      <td>121053</td>\n",
       "    </tr>\n",
       "    <tr>\n",
       "      <th>16</th>\n",
       "      <td>7</td>\n",
       "      <td>13198</td>\n",
       "      <td>{121053}</td>\n",
       "      <td>121053</td>\n",
       "    </tr>\n",
       "    <tr>\n",
       "      <th>17</th>\n",
       "      <td>7</td>\n",
       "      <td>14267</td>\n",
       "      <td>{121053}</td>\n",
       "      <td>121053</td>\n",
       "    </tr>\n",
       "    <tr>\n",
       "      <th>18</th>\n",
       "      <td>7</td>\n",
       "      <td>15581</td>\n",
       "      <td>{121053}</td>\n",
       "      <td>121053</td>\n",
       "    </tr>\n",
       "    <tr>\n",
       "      <th>19</th>\n",
       "      <td>7</td>\n",
       "      <td>17638</td>\n",
       "      <td>{121053}</td>\n",
       "      <td>121053</td>\n",
       "    </tr>\n",
       "    <tr>\n",
       "      <th>20</th>\n",
       "      <td>7</td>\n",
       "      <td>19019</td>\n",
       "      <td>{121053}</td>\n",
       "      <td>121053</td>\n",
       "    </tr>\n",
       "    <tr>\n",
       "      <th>21</th>\n",
       "      <td>7</td>\n",
       "      <td>22963</td>\n",
       "      <td>{121053}</td>\n",
       "      <td>121053</td>\n",
       "    </tr>\n",
       "    <tr>\n",
       "      <th>22</th>\n",
       "      <td>7</td>\n",
       "      <td>27690</td>\n",
       "      <td>{121053}</td>\n",
       "      <td>121053</td>\n",
       "    </tr>\n",
       "    <tr>\n",
       "      <th>23</th>\n",
       "      <td>7</td>\n",
       "      <td>29871</td>\n",
       "      <td>{121053}</td>\n",
       "      <td>121053</td>\n",
       "    </tr>\n",
       "    <tr>\n",
       "      <th>24</th>\n",
       "      <td>7</td>\n",
       "      <td>30391</td>\n",
       "      <td>{121053}</td>\n",
       "      <td>121053</td>\n",
       "    </tr>\n",
       "    <tr>\n",
       "      <th>25</th>\n",
       "      <td>7</td>\n",
       "      <td>31683</td>\n",
       "      <td>{121053}</td>\n",
       "      <td>121053</td>\n",
       "    </tr>\n",
       "    <tr>\n",
       "      <th>26</th>\n",
       "      <td>7</td>\n",
       "      <td>37602</td>\n",
       "      <td>{121053}</td>\n",
       "      <td>121053</td>\n",
       "    </tr>\n",
       "    <tr>\n",
       "      <th>27</th>\n",
       "      <td>7</td>\n",
       "      <td>37999</td>\n",
       "      <td>{121053}</td>\n",
       "      <td>121053</td>\n",
       "    </tr>\n",
       "    <tr>\n",
       "      <th>28</th>\n",
       "      <td>7</td>\n",
       "      <td>39121</td>\n",
       "      <td>{121053}</td>\n",
       "      <td>121053</td>\n",
       "    </tr>\n",
       "    <tr>\n",
       "      <th>29</th>\n",
       "      <td>7</td>\n",
       "      <td>40852</td>\n",
       "      <td>{121053}</td>\n",
       "      <td>121053</td>\n",
       "    </tr>\n",
       "  </tbody>\n",
       "</table>\n",
       "</div>"
      ],
      "text/plain": [
       "    user_id  product_id list_orders  user_most_recent_orderno_withprod\n",
       "0         5        3376    {157374}                             157374\n",
       "1         5        5999    {157374}                             157374\n",
       "2         5        8518    {157374}                             157374\n",
       "3         5       11777    {157374}                             157374\n",
       "4         5       13988    {157374}                             157374\n",
       "5         5       16168    {157374}                             157374\n",
       "6         5       21413    {157374}                             157374\n",
       "7         5       24535    {157374}                             157374\n",
       "8         5       26604    {157374}                             157374\n",
       "9         5       27344    {157374}                             157374\n",
       "10        5       40706    {157374}                             157374\n",
       "11        5       43693    {157374}                             157374\n",
       "12        7         519    {121053}                             121053\n",
       "13        7        6361    {121053}                             121053\n",
       "14        7        9598    {121053}                             121053\n",
       "15        7       10895    {121053}                             121053\n",
       "16        7       13198    {121053}                             121053\n",
       "17        7       14267    {121053}                             121053\n",
       "18        7       15581    {121053}                             121053\n",
       "19        7       17638    {121053}                             121053\n",
       "20        7       19019    {121053}                             121053\n",
       "21        7       22963    {121053}                             121053\n",
       "22        7       27690    {121053}                             121053\n",
       "23        7       29871    {121053}                             121053\n",
       "24        7       30391    {121053}                             121053\n",
       "25        7       31683    {121053}                             121053\n",
       "26        7       37602    {121053}                             121053\n",
       "27        7       37999    {121053}                             121053\n",
       "28        7       39121    {121053}                             121053\n",
       "29        7       40852    {121053}                             121053"
      ]
     },
     "execution_count": 82,
     "metadata": {},
     "output_type": "execute_result"
    }
   ],
   "source": [
    "order_group.head(30)"
   ]
  },
  {
   "cell_type": "code",
   "execution_count": 83,
   "metadata": {},
   "outputs": [],
   "source": [
    "order_group_all_orders = (df_orderproductsprior.groupby(['user_id'],as_index=False) #more recent set of orders \n",
    "                                      .agg({'order_id':(lambda x: set(x))})#product of items, set so no dups\n",
    "                                      .rename(columns={'order_id':'all_users_orders'}))\n",
    "\n",
    "                                           "
   ]
  },
  {
   "cell_type": "code",
   "execution_count": 84,
   "metadata": {},
   "outputs": [],
   "source": [
    "order_group_all_orders['all_users_orders'] = order_group_all_orders['all_users_orders'].map(lambda x: list(sorted(x)))"
   ]
  },
  {
   "cell_type": "code",
   "execution_count": 85,
   "metadata": {},
   "outputs": [
    {
     "data": {
      "text/html": [
       "<div>\n",
       "<style scoped>\n",
       "    .dataframe tbody tr th:only-of-type {\n",
       "        vertical-align: middle;\n",
       "    }\n",
       "\n",
       "    .dataframe tbody tr th {\n",
       "        vertical-align: top;\n",
       "    }\n",
       "\n",
       "    .dataframe thead th {\n",
       "        text-align: right;\n",
       "    }\n",
       "</style>\n",
       "<table border=\"1\" class=\"dataframe\">\n",
       "  <thead>\n",
       "    <tr style=\"text-align: right;\">\n",
       "      <th></th>\n",
       "      <th>user_id</th>\n",
       "      <th>all_users_orders</th>\n",
       "    </tr>\n",
       "  </thead>\n",
       "  <tbody>\n",
       "    <tr>\n",
       "      <th>0</th>\n",
       "      <td>5</td>\n",
       "      <td>[157374]</td>\n",
       "    </tr>\n",
       "    <tr>\n",
       "      <th>1</th>\n",
       "      <td>7</td>\n",
       "      <td>[121053]</td>\n",
       "    </tr>\n",
       "    <tr>\n",
       "      <th>2</th>\n",
       "      <td>15</td>\n",
       "      <td>[113728]</td>\n",
       "    </tr>\n",
       "    <tr>\n",
       "      <th>3</th>\n",
       "      <td>20</td>\n",
       "      <td>[157550]</td>\n",
       "    </tr>\n",
       "    <tr>\n",
       "      <th>4</th>\n",
       "      <td>21</td>\n",
       "      <td>[129152]</td>\n",
       "    </tr>\n",
       "    <tr>\n",
       "      <th>5</th>\n",
       "      <td>22</td>\n",
       "      <td>[144358, 194741]</td>\n",
       "    </tr>\n",
       "    <tr>\n",
       "      <th>6</th>\n",
       "      <td>24</td>\n",
       "      <td>[118133, 173172, 196008]</td>\n",
       "    </tr>\n",
       "    <tr>\n",
       "      <th>7</th>\n",
       "      <td>26</td>\n",
       "      <td>[135696]</td>\n",
       "    </tr>\n",
       "    <tr>\n",
       "      <th>8</th>\n",
       "      <td>27</td>\n",
       "      <td>[129025]</td>\n",
       "    </tr>\n",
       "    <tr>\n",
       "      <th>9</th>\n",
       "      <td>28</td>\n",
       "      <td>[181977]</td>\n",
       "    </tr>\n",
       "    <tr>\n",
       "      <th>10</th>\n",
       "      <td>30</td>\n",
       "      <td>[137318]</td>\n",
       "    </tr>\n",
       "    <tr>\n",
       "      <th>11</th>\n",
       "      <td>32</td>\n",
       "      <td>[134879]</td>\n",
       "    </tr>\n",
       "    <tr>\n",
       "      <th>12</th>\n",
       "      <td>36</td>\n",
       "      <td>[182125]</td>\n",
       "    </tr>\n",
       "    <tr>\n",
       "      <th>13</th>\n",
       "      <td>39</td>\n",
       "      <td>[127769]</td>\n",
       "    </tr>\n",
       "    <tr>\n",
       "      <th>14</th>\n",
       "      <td>50</td>\n",
       "      <td>[131991, 182020, 218647]</td>\n",
       "    </tr>\n",
       "    <tr>\n",
       "      <th>15</th>\n",
       "      <td>52</td>\n",
       "      <td>[180919]</td>\n",
       "    </tr>\n",
       "    <tr>\n",
       "      <th>16</th>\n",
       "      <td>54</td>\n",
       "      <td>[142873, 159678]</td>\n",
       "    </tr>\n",
       "    <tr>\n",
       "      <th>17</th>\n",
       "      <td>58</td>\n",
       "      <td>[139882, 164627]</td>\n",
       "    </tr>\n",
       "    <tr>\n",
       "      <th>18</th>\n",
       "      <td>67</td>\n",
       "      <td>[150528]</td>\n",
       "    </tr>\n",
       "    <tr>\n",
       "      <th>19</th>\n",
       "      <td>75</td>\n",
       "      <td>[122274, 207152]</td>\n",
       "    </tr>\n",
       "    <tr>\n",
       "      <th>20</th>\n",
       "      <td>82</td>\n",
       "      <td>[147262]</td>\n",
       "    </tr>\n",
       "    <tr>\n",
       "      <th>21</th>\n",
       "      <td>87</td>\n",
       "      <td>[122960, 161814]</td>\n",
       "    </tr>\n",
       "    <tr>\n",
       "      <th>22</th>\n",
       "      <td>89</td>\n",
       "      <td>[148717]</td>\n",
       "    </tr>\n",
       "    <tr>\n",
       "      <th>23</th>\n",
       "      <td>90</td>\n",
       "      <td>[125610]</td>\n",
       "    </tr>\n",
       "    <tr>\n",
       "      <th>24</th>\n",
       "      <td>95</td>\n",
       "      <td>[153527]</td>\n",
       "    </tr>\n",
       "  </tbody>\n",
       "</table>\n",
       "</div>"
      ],
      "text/plain": [
       "    user_id          all_users_orders\n",
       "0         5                  [157374]\n",
       "1         7                  [121053]\n",
       "2        15                  [113728]\n",
       "3        20                  [157550]\n",
       "4        21                  [129152]\n",
       "5        22          [144358, 194741]\n",
       "6        24  [118133, 173172, 196008]\n",
       "7        26                  [135696]\n",
       "8        27                  [129025]\n",
       "9        28                  [181977]\n",
       "10       30                  [137318]\n",
       "11       32                  [134879]\n",
       "12       36                  [182125]\n",
       "13       39                  [127769]\n",
       "14       50  [131991, 182020, 218647]\n",
       "15       52                  [180919]\n",
       "16       54          [142873, 159678]\n",
       "17       58          [139882, 164627]\n",
       "18       67                  [150528]\n",
       "19       75          [122274, 207152]\n",
       "20       82                  [147262]\n",
       "21       87          [122960, 161814]\n",
       "22       89                  [148717]\n",
       "23       90                  [125610]\n",
       "24       95                  [153527]"
      ]
     },
     "execution_count": 85,
     "metadata": {},
     "output_type": "execute_result"
    }
   ],
   "source": [
    "order_group_all_orders.head(25)"
   ]
  },
  {
   "cell_type": "code",
   "execution_count": 86,
   "metadata": {},
   "outputs": [],
   "source": [
    "order_group2 = pd.merge(order_group, order_group_all_orders,on=['user_id'], how='left')"
   ]
  },
  {
   "cell_type": "code",
   "execution_count": 87,
   "metadata": {},
   "outputs": [
    {
     "data": {
      "text/html": [
       "<div>\n",
       "<style scoped>\n",
       "    .dataframe tbody tr th:only-of-type {\n",
       "        vertical-align: middle;\n",
       "    }\n",
       "\n",
       "    .dataframe tbody tr th {\n",
       "        vertical-align: top;\n",
       "    }\n",
       "\n",
       "    .dataframe thead th {\n",
       "        text-align: right;\n",
       "    }\n",
       "</style>\n",
       "<table border=\"1\" class=\"dataframe\">\n",
       "  <thead>\n",
       "    <tr style=\"text-align: right;\">\n",
       "      <th></th>\n",
       "      <th>user_id</th>\n",
       "      <th>product_id</th>\n",
       "      <th>list_orders</th>\n",
       "      <th>user_most_recent_orderno_withprod</th>\n",
       "      <th>all_users_orders</th>\n",
       "    </tr>\n",
       "  </thead>\n",
       "  <tbody>\n",
       "    <tr>\n",
       "      <th>956268</th>\n",
       "      <td>206208</td>\n",
       "      <td>39966</td>\n",
       "      <td>{183408}</td>\n",
       "      <td>183408</td>\n",
       "      <td>[126826, 167903, 183408]</td>\n",
       "    </tr>\n",
       "    <tr>\n",
       "      <th>956269</th>\n",
       "      <td>206208</td>\n",
       "      <td>42110</td>\n",
       "      <td>{183408}</td>\n",
       "      <td>183408</td>\n",
       "      <td>[126826, 167903, 183408]</td>\n",
       "    </tr>\n",
       "    <tr>\n",
       "      <th>956270</th>\n",
       "      <td>206208</td>\n",
       "      <td>43295</td>\n",
       "      <td>{126826}</td>\n",
       "      <td>126826</td>\n",
       "      <td>[126826, 167903, 183408]</td>\n",
       "    </tr>\n",
       "    <tr>\n",
       "      <th>956271</th>\n",
       "      <td>206208</td>\n",
       "      <td>44359</td>\n",
       "      <td>{183408}</td>\n",
       "      <td>183408</td>\n",
       "      <td>[126826, 167903, 183408]</td>\n",
       "    </tr>\n",
       "    <tr>\n",
       "      <th>956272</th>\n",
       "      <td>206208</td>\n",
       "      <td>44532</td>\n",
       "      <td>{167903}</td>\n",
       "      <td>167903</td>\n",
       "      <td>[126826, 167903, 183408]</td>\n",
       "    </tr>\n",
       "    <tr>\n",
       "      <th>956273</th>\n",
       "      <td>206208</td>\n",
       "      <td>44750</td>\n",
       "      <td>{167903}</td>\n",
       "      <td>167903</td>\n",
       "      <td>[126826, 167903, 183408]</td>\n",
       "    </tr>\n",
       "    <tr>\n",
       "      <th>956274</th>\n",
       "      <td>206208</td>\n",
       "      <td>45264</td>\n",
       "      <td>{183408}</td>\n",
       "      <td>183408</td>\n",
       "      <td>[126826, 167903, 183408]</td>\n",
       "    </tr>\n",
       "    <tr>\n",
       "      <th>956275</th>\n",
       "      <td>206208</td>\n",
       "      <td>47008</td>\n",
       "      <td>{167903}</td>\n",
       "      <td>167903</td>\n",
       "      <td>[126826, 167903, 183408]</td>\n",
       "    </tr>\n",
       "    <tr>\n",
       "      <th>956276</th>\n",
       "      <td>206208</td>\n",
       "      <td>48017</td>\n",
       "      <td>{167903}</td>\n",
       "      <td>167903</td>\n",
       "      <td>[126826, 167903, 183408]</td>\n",
       "    </tr>\n",
       "    <tr>\n",
       "      <th>956277</th>\n",
       "      <td>206208</td>\n",
       "      <td>49385</td>\n",
       "      <td>{183408}</td>\n",
       "      <td>183408</td>\n",
       "      <td>[126826, 167903, 183408]</td>\n",
       "    </tr>\n",
       "  </tbody>\n",
       "</table>\n",
       "</div>"
      ],
      "text/plain": [
       "        user_id  product_id list_orders  user_most_recent_orderno_withprod  \\\n",
       "956268   206208       39966    {183408}                             183408   \n",
       "956269   206208       42110    {183408}                             183408   \n",
       "956270   206208       43295    {126826}                             126826   \n",
       "956271   206208       44359    {183408}                             183408   \n",
       "956272   206208       44532    {167903}                             167903   \n",
       "956273   206208       44750    {167903}                             167903   \n",
       "956274   206208       45264    {183408}                             183408   \n",
       "956275   206208       47008    {167903}                             167903   \n",
       "956276   206208       48017    {167903}                             167903   \n",
       "956277   206208       49385    {183408}                             183408   \n",
       "\n",
       "                all_users_orders  \n",
       "956268  [126826, 167903, 183408]  \n",
       "956269  [126826, 167903, 183408]  \n",
       "956270  [126826, 167903, 183408]  \n",
       "956271  [126826, 167903, 183408]  \n",
       "956272  [126826, 167903, 183408]  \n",
       "956273  [126826, 167903, 183408]  \n",
       "956274  [126826, 167903, 183408]  \n",
       "956275  [126826, 167903, 183408]  \n",
       "956276  [126826, 167903, 183408]  \n",
       "956277  [126826, 167903, 183408]  "
      ]
     },
     "execution_count": 87,
     "metadata": {},
     "output_type": "execute_result"
    }
   ],
   "source": [
    "order_group2.tail(10)"
   ]
  },
  {
   "cell_type": "code",
   "execution_count": 88,
   "metadata": {},
   "outputs": [],
   "source": [
    "order_group2.drop(columns=['list_orders'],inplace=True)"
   ]
  },
  {
   "cell_type": "code",
   "execution_count": 89,
   "metadata": {},
   "outputs": [
    {
     "data": {
      "text/html": [
       "<div>\n",
       "<style scoped>\n",
       "    .dataframe tbody tr th:only-of-type {\n",
       "        vertical-align: middle;\n",
       "    }\n",
       "\n",
       "    .dataframe tbody tr th {\n",
       "        vertical-align: top;\n",
       "    }\n",
       "\n",
       "    .dataframe thead th {\n",
       "        text-align: right;\n",
       "    }\n",
       "</style>\n",
       "<table border=\"1\" class=\"dataframe\">\n",
       "  <thead>\n",
       "    <tr style=\"text-align: right;\">\n",
       "      <th></th>\n",
       "      <th>user_id</th>\n",
       "      <th>product_id</th>\n",
       "      <th>user_most_recent_orderno_withprod</th>\n",
       "      <th>all_users_orders</th>\n",
       "    </tr>\n",
       "  </thead>\n",
       "  <tbody>\n",
       "    <tr>\n",
       "      <th>0</th>\n",
       "      <td>5</td>\n",
       "      <td>3376</td>\n",
       "      <td>157374</td>\n",
       "      <td>[157374]</td>\n",
       "    </tr>\n",
       "    <tr>\n",
       "      <th>1</th>\n",
       "      <td>5</td>\n",
       "      <td>5999</td>\n",
       "      <td>157374</td>\n",
       "      <td>[157374]</td>\n",
       "    </tr>\n",
       "    <tr>\n",
       "      <th>2</th>\n",
       "      <td>5</td>\n",
       "      <td>8518</td>\n",
       "      <td>157374</td>\n",
       "      <td>[157374]</td>\n",
       "    </tr>\n",
       "    <tr>\n",
       "      <th>3</th>\n",
       "      <td>5</td>\n",
       "      <td>11777</td>\n",
       "      <td>157374</td>\n",
       "      <td>[157374]</td>\n",
       "    </tr>\n",
       "    <tr>\n",
       "      <th>4</th>\n",
       "      <td>5</td>\n",
       "      <td>13988</td>\n",
       "      <td>157374</td>\n",
       "      <td>[157374]</td>\n",
       "    </tr>\n",
       "  </tbody>\n",
       "</table>\n",
       "</div>"
      ],
      "text/plain": [
       "   user_id  product_id  user_most_recent_orderno_withprod all_users_orders\n",
       "0        5        3376                             157374         [157374]\n",
       "1        5        5999                             157374         [157374]\n",
       "2        5        8518                             157374         [157374]\n",
       "3        5       11777                             157374         [157374]\n",
       "4        5       13988                             157374         [157374]"
      ]
     },
     "execution_count": 89,
     "metadata": {},
     "output_type": "execute_result"
    }
   ],
   "source": [
    "order_group2.head()"
   ]
  },
  {
   "cell_type": "code",
   "execution_count": null,
   "metadata": {},
   "outputs": [],
   "source": [
    "#order_group_all_orders['all_users_orders'] = order_group_all_orders['all_users_orders'].map(lambda x: list(sorted(x)))"
   ]
  },
  {
   "cell_type": "code",
   "execution_count": null,
   "metadata": {},
   "outputs": [],
   "source": [
    "#order_group2['index']=order_group2['all_users_orders'].map(lambda x: x.index(order_group2['user_most_recent_orderno_withprod']))"
   ]
  },
  {
   "cell_type": "code",
   "execution_count": 90,
   "metadata": {},
   "outputs": [],
   "source": [
    "order_group2['position_of_most_recent_order_cont_prod'] = order_group2.loc[:, ('user_most_recent_orderno_withprod', 'all_users_orders')].apply(lambda x: x[1].index(x[0]), axis=1)"
   ]
  },
  {
   "cell_type": "code",
   "execution_count": 91,
   "metadata": {},
   "outputs": [],
   "source": [
    "order_group2['position_of_most_recent_order_cont_prod']=order_group2['position_of_most_recent_order_cont_prod']+1"
   ]
  },
  {
   "cell_type": "code",
   "execution_count": 92,
   "metadata": {},
   "outputs": [
    {
     "data": {
      "text/html": [
       "<div>\n",
       "<style scoped>\n",
       "    .dataframe tbody tr th:only-of-type {\n",
       "        vertical-align: middle;\n",
       "    }\n",
       "\n",
       "    .dataframe tbody tr th {\n",
       "        vertical-align: top;\n",
       "    }\n",
       "\n",
       "    .dataframe thead th {\n",
       "        text-align: right;\n",
       "    }\n",
       "</style>\n",
       "<table border=\"1\" class=\"dataframe\">\n",
       "  <thead>\n",
       "    <tr style=\"text-align: right;\">\n",
       "      <th></th>\n",
       "      <th>user_id</th>\n",
       "      <th>product_id</th>\n",
       "      <th>user_most_recent_orderno_withprod</th>\n",
       "      <th>all_users_orders</th>\n",
       "      <th>position_of_most_recent_order_cont_prod</th>\n",
       "    </tr>\n",
       "  </thead>\n",
       "  <tbody>\n",
       "    <tr>\n",
       "      <th>0</th>\n",
       "      <td>5</td>\n",
       "      <td>3376</td>\n",
       "      <td>157374</td>\n",
       "      <td>[157374]</td>\n",
       "      <td>1</td>\n",
       "    </tr>\n",
       "    <tr>\n",
       "      <th>1</th>\n",
       "      <td>5</td>\n",
       "      <td>5999</td>\n",
       "      <td>157374</td>\n",
       "      <td>[157374]</td>\n",
       "      <td>1</td>\n",
       "    </tr>\n",
       "    <tr>\n",
       "      <th>2</th>\n",
       "      <td>5</td>\n",
       "      <td>8518</td>\n",
       "      <td>157374</td>\n",
       "      <td>[157374]</td>\n",
       "      <td>1</td>\n",
       "    </tr>\n",
       "    <tr>\n",
       "      <th>3</th>\n",
       "      <td>5</td>\n",
       "      <td>11777</td>\n",
       "      <td>157374</td>\n",
       "      <td>[157374]</td>\n",
       "      <td>1</td>\n",
       "    </tr>\n",
       "    <tr>\n",
       "      <th>4</th>\n",
       "      <td>5</td>\n",
       "      <td>13988</td>\n",
       "      <td>157374</td>\n",
       "      <td>[157374]</td>\n",
       "      <td>1</td>\n",
       "    </tr>\n",
       "    <tr>\n",
       "      <th>5</th>\n",
       "      <td>5</td>\n",
       "      <td>16168</td>\n",
       "      <td>157374</td>\n",
       "      <td>[157374]</td>\n",
       "      <td>1</td>\n",
       "    </tr>\n",
       "    <tr>\n",
       "      <th>6</th>\n",
       "      <td>5</td>\n",
       "      <td>21413</td>\n",
       "      <td>157374</td>\n",
       "      <td>[157374]</td>\n",
       "      <td>1</td>\n",
       "    </tr>\n",
       "    <tr>\n",
       "      <th>7</th>\n",
       "      <td>5</td>\n",
       "      <td>24535</td>\n",
       "      <td>157374</td>\n",
       "      <td>[157374]</td>\n",
       "      <td>1</td>\n",
       "    </tr>\n",
       "    <tr>\n",
       "      <th>8</th>\n",
       "      <td>5</td>\n",
       "      <td>26604</td>\n",
       "      <td>157374</td>\n",
       "      <td>[157374]</td>\n",
       "      <td>1</td>\n",
       "    </tr>\n",
       "    <tr>\n",
       "      <th>9</th>\n",
       "      <td>5</td>\n",
       "      <td>27344</td>\n",
       "      <td>157374</td>\n",
       "      <td>[157374]</td>\n",
       "      <td>1</td>\n",
       "    </tr>\n",
       "    <tr>\n",
       "      <th>10</th>\n",
       "      <td>5</td>\n",
       "      <td>40706</td>\n",
       "      <td>157374</td>\n",
       "      <td>[157374]</td>\n",
       "      <td>1</td>\n",
       "    </tr>\n",
       "    <tr>\n",
       "      <th>11</th>\n",
       "      <td>5</td>\n",
       "      <td>43693</td>\n",
       "      <td>157374</td>\n",
       "      <td>[157374]</td>\n",
       "      <td>1</td>\n",
       "    </tr>\n",
       "    <tr>\n",
       "      <th>12</th>\n",
       "      <td>7</td>\n",
       "      <td>519</td>\n",
       "      <td>121053</td>\n",
       "      <td>[121053]</td>\n",
       "      <td>1</td>\n",
       "    </tr>\n",
       "    <tr>\n",
       "      <th>13</th>\n",
       "      <td>7</td>\n",
       "      <td>6361</td>\n",
       "      <td>121053</td>\n",
       "      <td>[121053]</td>\n",
       "      <td>1</td>\n",
       "    </tr>\n",
       "    <tr>\n",
       "      <th>14</th>\n",
       "      <td>7</td>\n",
       "      <td>9598</td>\n",
       "      <td>121053</td>\n",
       "      <td>[121053]</td>\n",
       "      <td>1</td>\n",
       "    </tr>\n",
       "    <tr>\n",
       "      <th>15</th>\n",
       "      <td>7</td>\n",
       "      <td>10895</td>\n",
       "      <td>121053</td>\n",
       "      <td>[121053]</td>\n",
       "      <td>1</td>\n",
       "    </tr>\n",
       "    <tr>\n",
       "      <th>16</th>\n",
       "      <td>7</td>\n",
       "      <td>13198</td>\n",
       "      <td>121053</td>\n",
       "      <td>[121053]</td>\n",
       "      <td>1</td>\n",
       "    </tr>\n",
       "    <tr>\n",
       "      <th>17</th>\n",
       "      <td>7</td>\n",
       "      <td>14267</td>\n",
       "      <td>121053</td>\n",
       "      <td>[121053]</td>\n",
       "      <td>1</td>\n",
       "    </tr>\n",
       "    <tr>\n",
       "      <th>18</th>\n",
       "      <td>7</td>\n",
       "      <td>15581</td>\n",
       "      <td>121053</td>\n",
       "      <td>[121053]</td>\n",
       "      <td>1</td>\n",
       "    </tr>\n",
       "    <tr>\n",
       "      <th>19</th>\n",
       "      <td>7</td>\n",
       "      <td>17638</td>\n",
       "      <td>121053</td>\n",
       "      <td>[121053]</td>\n",
       "      <td>1</td>\n",
       "    </tr>\n",
       "    <tr>\n",
       "      <th>20</th>\n",
       "      <td>7</td>\n",
       "      <td>19019</td>\n",
       "      <td>121053</td>\n",
       "      <td>[121053]</td>\n",
       "      <td>1</td>\n",
       "    </tr>\n",
       "    <tr>\n",
       "      <th>21</th>\n",
       "      <td>7</td>\n",
       "      <td>22963</td>\n",
       "      <td>121053</td>\n",
       "      <td>[121053]</td>\n",
       "      <td>1</td>\n",
       "    </tr>\n",
       "    <tr>\n",
       "      <th>22</th>\n",
       "      <td>7</td>\n",
       "      <td>27690</td>\n",
       "      <td>121053</td>\n",
       "      <td>[121053]</td>\n",
       "      <td>1</td>\n",
       "    </tr>\n",
       "    <tr>\n",
       "      <th>23</th>\n",
       "      <td>7</td>\n",
       "      <td>29871</td>\n",
       "      <td>121053</td>\n",
       "      <td>[121053]</td>\n",
       "      <td>1</td>\n",
       "    </tr>\n",
       "    <tr>\n",
       "      <th>24</th>\n",
       "      <td>7</td>\n",
       "      <td>30391</td>\n",
       "      <td>121053</td>\n",
       "      <td>[121053]</td>\n",
       "      <td>1</td>\n",
       "    </tr>\n",
       "    <tr>\n",
       "      <th>25</th>\n",
       "      <td>7</td>\n",
       "      <td>31683</td>\n",
       "      <td>121053</td>\n",
       "      <td>[121053]</td>\n",
       "      <td>1</td>\n",
       "    </tr>\n",
       "    <tr>\n",
       "      <th>26</th>\n",
       "      <td>7</td>\n",
       "      <td>37602</td>\n",
       "      <td>121053</td>\n",
       "      <td>[121053]</td>\n",
       "      <td>1</td>\n",
       "    </tr>\n",
       "    <tr>\n",
       "      <th>27</th>\n",
       "      <td>7</td>\n",
       "      <td>37999</td>\n",
       "      <td>121053</td>\n",
       "      <td>[121053]</td>\n",
       "      <td>1</td>\n",
       "    </tr>\n",
       "    <tr>\n",
       "      <th>28</th>\n",
       "      <td>7</td>\n",
       "      <td>39121</td>\n",
       "      <td>121053</td>\n",
       "      <td>[121053]</td>\n",
       "      <td>1</td>\n",
       "    </tr>\n",
       "    <tr>\n",
       "      <th>29</th>\n",
       "      <td>7</td>\n",
       "      <td>40852</td>\n",
       "      <td>121053</td>\n",
       "      <td>[121053]</td>\n",
       "      <td>1</td>\n",
       "    </tr>\n",
       "    <tr>\n",
       "      <th>30</th>\n",
       "      <td>7</td>\n",
       "      <td>42828</td>\n",
       "      <td>121053</td>\n",
       "      <td>[121053]</td>\n",
       "      <td>1</td>\n",
       "    </tr>\n",
       "    <tr>\n",
       "      <th>31</th>\n",
       "      <td>7</td>\n",
       "      <td>43967</td>\n",
       "      <td>121053</td>\n",
       "      <td>[121053]</td>\n",
       "      <td>1</td>\n",
       "    </tr>\n",
       "    <tr>\n",
       "      <th>32</th>\n",
       "      <td>7</td>\n",
       "      <td>45066</td>\n",
       "      <td>121053</td>\n",
       "      <td>[121053]</td>\n",
       "      <td>1</td>\n",
       "    </tr>\n",
       "    <tr>\n",
       "      <th>33</th>\n",
       "      <td>7</td>\n",
       "      <td>45537</td>\n",
       "      <td>121053</td>\n",
       "      <td>[121053]</td>\n",
       "      <td>1</td>\n",
       "    </tr>\n",
       "    <tr>\n",
       "      <th>34</th>\n",
       "      <td>7</td>\n",
       "      <td>45628</td>\n",
       "      <td>121053</td>\n",
       "      <td>[121053]</td>\n",
       "      <td>1</td>\n",
       "    </tr>\n",
       "    <tr>\n",
       "      <th>35</th>\n",
       "      <td>7</td>\n",
       "      <td>49508</td>\n",
       "      <td>121053</td>\n",
       "      <td>[121053]</td>\n",
       "      <td>1</td>\n",
       "    </tr>\n",
       "    <tr>\n",
       "      <th>36</th>\n",
       "      <td>15</td>\n",
       "      <td>1747</td>\n",
       "      <td>113728</td>\n",
       "      <td>[113728]</td>\n",
       "      <td>1</td>\n",
       "    </tr>\n",
       "    <tr>\n",
       "      <th>37</th>\n",
       "      <td>15</td>\n",
       "      <td>10441</td>\n",
       "      <td>113728</td>\n",
       "      <td>[113728]</td>\n",
       "      <td>1</td>\n",
       "    </tr>\n",
       "    <tr>\n",
       "      <th>38</th>\n",
       "      <td>15</td>\n",
       "      <td>12427</td>\n",
       "      <td>113728</td>\n",
       "      <td>[113728]</td>\n",
       "      <td>1</td>\n",
       "    </tr>\n",
       "    <tr>\n",
       "      <th>39</th>\n",
       "      <td>15</td>\n",
       "      <td>27839</td>\n",
       "      <td>113728</td>\n",
       "      <td>[113728]</td>\n",
       "      <td>1</td>\n",
       "    </tr>\n",
       "  </tbody>\n",
       "</table>\n",
       "</div>"
      ],
      "text/plain": [
       "    user_id  product_id  user_most_recent_orderno_withprod all_users_orders  \\\n",
       "0         5        3376                             157374         [157374]   \n",
       "1         5        5999                             157374         [157374]   \n",
       "2         5        8518                             157374         [157374]   \n",
       "3         5       11777                             157374         [157374]   \n",
       "4         5       13988                             157374         [157374]   \n",
       "5         5       16168                             157374         [157374]   \n",
       "6         5       21413                             157374         [157374]   \n",
       "7         5       24535                             157374         [157374]   \n",
       "8         5       26604                             157374         [157374]   \n",
       "9         5       27344                             157374         [157374]   \n",
       "10        5       40706                             157374         [157374]   \n",
       "11        5       43693                             157374         [157374]   \n",
       "12        7         519                             121053         [121053]   \n",
       "13        7        6361                             121053         [121053]   \n",
       "14        7        9598                             121053         [121053]   \n",
       "15        7       10895                             121053         [121053]   \n",
       "16        7       13198                             121053         [121053]   \n",
       "17        7       14267                             121053         [121053]   \n",
       "18        7       15581                             121053         [121053]   \n",
       "19        7       17638                             121053         [121053]   \n",
       "20        7       19019                             121053         [121053]   \n",
       "21        7       22963                             121053         [121053]   \n",
       "22        7       27690                             121053         [121053]   \n",
       "23        7       29871                             121053         [121053]   \n",
       "24        7       30391                             121053         [121053]   \n",
       "25        7       31683                             121053         [121053]   \n",
       "26        7       37602                             121053         [121053]   \n",
       "27        7       37999                             121053         [121053]   \n",
       "28        7       39121                             121053         [121053]   \n",
       "29        7       40852                             121053         [121053]   \n",
       "30        7       42828                             121053         [121053]   \n",
       "31        7       43967                             121053         [121053]   \n",
       "32        7       45066                             121053         [121053]   \n",
       "33        7       45537                             121053         [121053]   \n",
       "34        7       45628                             121053         [121053]   \n",
       "35        7       49508                             121053         [121053]   \n",
       "36       15        1747                             113728         [113728]   \n",
       "37       15       10441                             113728         [113728]   \n",
       "38       15       12427                             113728         [113728]   \n",
       "39       15       27839                             113728         [113728]   \n",
       "\n",
       "    position_of_most_recent_order_cont_prod  \n",
       "0                                         1  \n",
       "1                                         1  \n",
       "2                                         1  \n",
       "3                                         1  \n",
       "4                                         1  \n",
       "5                                         1  \n",
       "6                                         1  \n",
       "7                                         1  \n",
       "8                                         1  \n",
       "9                                         1  \n",
       "10                                        1  \n",
       "11                                        1  \n",
       "12                                        1  \n",
       "13                                        1  \n",
       "14                                        1  \n",
       "15                                        1  \n",
       "16                                        1  \n",
       "17                                        1  \n",
       "18                                        1  \n",
       "19                                        1  \n",
       "20                                        1  \n",
       "21                                        1  \n",
       "22                                        1  \n",
       "23                                        1  \n",
       "24                                        1  \n",
       "25                                        1  \n",
       "26                                        1  \n",
       "27                                        1  \n",
       "28                                        1  \n",
       "29                                        1  \n",
       "30                                        1  \n",
       "31                                        1  \n",
       "32                                        1  \n",
       "33                                        1  \n",
       "34                                        1  \n",
       "35                                        1  \n",
       "36                                        1  \n",
       "37                                        1  \n",
       "38                                        1  \n",
       "39                                        1  "
      ]
     },
     "execution_count": 92,
     "metadata": {},
     "output_type": "execute_result"
    }
   ],
   "source": [
    "order_group2.head(40)"
   ]
  },
  {
   "cell_type": "code",
   "execution_count": 93,
   "metadata": {},
   "outputs": [
    {
     "name": "stdout",
     "output_type": "stream",
     "text": [
      "<class 'pandas.core.frame.DataFrame'>\n",
      "Int64Index: 956278 entries, 0 to 956277\n",
      "Data columns (total 5 columns):\n",
      "user_id                                    956278 non-null int64\n",
      "product_id                                 956278 non-null int64\n",
      "user_most_recent_orderno_withprod          956278 non-null int64\n",
      "all_users_orders                           956278 non-null object\n",
      "position_of_most_recent_order_cont_prod    956278 non-null int64\n",
      "dtypes: int64(4), object(1)\n",
      "memory usage: 43.8+ MB\n"
     ]
    }
   ],
   "source": [
    "order_group2.info()"
   ]
  },
  {
   "cell_type": "code",
   "execution_count": 94,
   "metadata": {},
   "outputs": [],
   "source": [
    "df_X = pd.merge(df_X,order_group2, on=['user_id','product_id'], how='left')"
   ]
  },
  {
   "cell_type": "code",
   "execution_count": 95,
   "metadata": {},
   "outputs": [
    {
     "data": {
      "text/html": [
       "<div>\n",
       "<style scoped>\n",
       "    .dataframe tbody tr th:only-of-type {\n",
       "        vertical-align: middle;\n",
       "    }\n",
       "\n",
       "    .dataframe tbody tr th {\n",
       "        vertical-align: top;\n",
       "    }\n",
       "\n",
       "    .dataframe thead th {\n",
       "        text-align: right;\n",
       "    }\n",
       "</style>\n",
       "<table border=\"1\" class=\"dataframe\">\n",
       "  <thead>\n",
       "    <tr style=\"text-align: right;\">\n",
       "      <th></th>\n",
       "      <th>product_id</th>\n",
       "      <th>user_id</th>\n",
       "      <th>user_product_total_orders</th>\n",
       "      <th>latest_cart</th>\n",
       "      <th>in_cart</th>\n",
       "      <th>product_total_orders</th>\n",
       "      <th>product_avg_add_to_cart_order</th>\n",
       "      <th>user_total_orders</th>\n",
       "      <th>user_avg_cartsize</th>\n",
       "      <th>user_total_products</th>\n",
       "      <th>...</th>\n",
       "      <th>20</th>\n",
       "      <th>21</th>\n",
       "      <th>user_product_avg_hour_of_day</th>\n",
       "      <th>user_product_avg_dow</th>\n",
       "      <th>most_recent_order_dow</th>\n",
       "      <th>most_recent_order_hour_of_day</th>\n",
       "      <th>user_product_avg_hod_delta</th>\n",
       "      <th>user_most_recent_orderno_withprod</th>\n",
       "      <th>all_users_orders</th>\n",
       "      <th>position_of_most_recent_order_cont_prod</th>\n",
       "    </tr>\n",
       "  </thead>\n",
       "  <tbody>\n",
       "    <tr>\n",
       "      <th>0</th>\n",
       "      <td>1</td>\n",
       "      <td>1494</td>\n",
       "      <td>1</td>\n",
       "      <td>{44560}</td>\n",
       "      <td>0</td>\n",
       "      <td>47</td>\n",
       "      <td>6.255319</td>\n",
       "      <td>1</td>\n",
       "      <td>21.0</td>\n",
       "      <td>21</td>\n",
       "      <td>...</td>\n",
       "      <td>0</td>\n",
       "      <td>0</td>\n",
       "      <td>8.0</td>\n",
       "      <td>2.0</td>\n",
       "      <td>-9999.0</td>\n",
       "      <td>-9999.0</td>\n",
       "      <td>10007.0</td>\n",
       "      <td>186761</td>\n",
       "      <td>[186761]</td>\n",
       "      <td>1</td>\n",
       "    </tr>\n",
       "    <tr>\n",
       "      <th>1</th>\n",
       "      <td>1</td>\n",
       "      <td>1540</td>\n",
       "      <td>1</td>\n",
       "      <td>{37600, 1, 11266, 3298, 130, 30720, 10310, 401...</td>\n",
       "      <td>1</td>\n",
       "      <td>47</td>\n",
       "      <td>6.255319</td>\n",
       "      <td>2</td>\n",
       "      <td>10.0</td>\n",
       "      <td>13</td>\n",
       "      <td>...</td>\n",
       "      <td>0</td>\n",
       "      <td>0</td>\n",
       "      <td>0.0</td>\n",
       "      <td>2.0</td>\n",
       "      <td>1.0</td>\n",
       "      <td>1.0</td>\n",
       "      <td>1.0</td>\n",
       "      <td>200390</td>\n",
       "      <td>[133972, 200390]</td>\n",
       "      <td>2</td>\n",
       "    </tr>\n",
       "    <tr>\n",
       "      <th>2</th>\n",
       "      <td>1</td>\n",
       "      <td>3904</td>\n",
       "      <td>1</td>\n",
       "      <td>{6184, 20818, 21572, 32478}</td>\n",
       "      <td>0</td>\n",
       "      <td>47</td>\n",
       "      <td>6.255319</td>\n",
       "      <td>1</td>\n",
       "      <td>3.0</td>\n",
       "      <td>3</td>\n",
       "      <td>...</td>\n",
       "      <td>0</td>\n",
       "      <td>0</td>\n",
       "      <td>14.0</td>\n",
       "      <td>1.0</td>\n",
       "      <td>-9999.0</td>\n",
       "      <td>-9999.0</td>\n",
       "      <td>10013.0</td>\n",
       "      <td>207661</td>\n",
       "      <td>[207661]</td>\n",
       "      <td>1</td>\n",
       "    </tr>\n",
       "    <tr>\n",
       "      <th>3</th>\n",
       "      <td>1</td>\n",
       "      <td>15182</td>\n",
       "      <td>1</td>\n",
       "      <td>{1, 4210, 30731, 19511}</td>\n",
       "      <td>1</td>\n",
       "      <td>47</td>\n",
       "      <td>6.255319</td>\n",
       "      <td>2</td>\n",
       "      <td>2.5</td>\n",
       "      <td>3</td>\n",
       "      <td>...</td>\n",
       "      <td>0</td>\n",
       "      <td>0</td>\n",
       "      <td>19.0</td>\n",
       "      <td>1.0</td>\n",
       "      <td>0.0</td>\n",
       "      <td>17.0</td>\n",
       "      <td>2.0</td>\n",
       "      <td>153011</td>\n",
       "      <td>[153011, 173785]</td>\n",
       "      <td>1</td>\n",
       "    </tr>\n",
       "    <tr>\n",
       "      <th>4</th>\n",
       "      <td>1</td>\n",
       "      <td>26613</td>\n",
       "      <td>1</td>\n",
       "      <td>{21288, 3265, 11759}</td>\n",
       "      <td>0</td>\n",
       "      <td>47</td>\n",
       "      <td>6.255319</td>\n",
       "      <td>2</td>\n",
       "      <td>3.5</td>\n",
       "      <td>7</td>\n",
       "      <td>...</td>\n",
       "      <td>0</td>\n",
       "      <td>0</td>\n",
       "      <td>12.0</td>\n",
       "      <td>6.0</td>\n",
       "      <td>-9999.0</td>\n",
       "      <td>-9999.0</td>\n",
       "      <td>10011.0</td>\n",
       "      <td>130646</td>\n",
       "      <td>[130646, 182724]</td>\n",
       "      <td>1</td>\n",
       "    </tr>\n",
       "  </tbody>\n",
       "</table>\n",
       "<p>5 rows × 44 columns</p>\n",
       "</div>"
      ],
      "text/plain": [
       "   product_id  user_id  user_product_total_orders  \\\n",
       "0           1     1494                          1   \n",
       "1           1     1540                          1   \n",
       "2           1     3904                          1   \n",
       "3           1    15182                          1   \n",
       "4           1    26613                          1   \n",
       "\n",
       "                                         latest_cart  in_cart  \\\n",
       "0                                            {44560}        0   \n",
       "1  {37600, 1, 11266, 3298, 130, 30720, 10310, 401...        1   \n",
       "2                        {6184, 20818, 21572, 32478}        0   \n",
       "3                            {1, 4210, 30731, 19511}        1   \n",
       "4                               {21288, 3265, 11759}        0   \n",
       "\n",
       "   product_total_orders  product_avg_add_to_cart_order  user_total_orders  \\\n",
       "0                    47                       6.255319                  1   \n",
       "1                    47                       6.255319                  2   \n",
       "2                    47                       6.255319                  1   \n",
       "3                    47                       6.255319                  2   \n",
       "4                    47                       6.255319                  2   \n",
       "\n",
       "   user_avg_cartsize  user_total_products  \\\n",
       "0               21.0                   21   \n",
       "1               10.0                   13   \n",
       "2                3.0                    3   \n",
       "3                2.5                    3   \n",
       "4                3.5                    7   \n",
       "\n",
       "                    ...                     20  21  \\\n",
       "0                   ...                      0   0   \n",
       "1                   ...                      0   0   \n",
       "2                   ...                      0   0   \n",
       "3                   ...                      0   0   \n",
       "4                   ...                      0   0   \n",
       "\n",
       "   user_product_avg_hour_of_day  user_product_avg_dow  most_recent_order_dow  \\\n",
       "0                           8.0                   2.0                -9999.0   \n",
       "1                           0.0                   2.0                    1.0   \n",
       "2                          14.0                   1.0                -9999.0   \n",
       "3                          19.0                   1.0                    0.0   \n",
       "4                          12.0                   6.0                -9999.0   \n",
       "\n",
       "   most_recent_order_hour_of_day  user_product_avg_hod_delta  \\\n",
       "0                        -9999.0                     10007.0   \n",
       "1                            1.0                         1.0   \n",
       "2                        -9999.0                     10013.0   \n",
       "3                           17.0                         2.0   \n",
       "4                        -9999.0                     10011.0   \n",
       "\n",
       "   user_most_recent_orderno_withprod  all_users_orders  \\\n",
       "0                             186761          [186761]   \n",
       "1                             200390  [133972, 200390]   \n",
       "2                             207661          [207661]   \n",
       "3                             153011  [153011, 173785]   \n",
       "4                             130646  [130646, 182724]   \n",
       "\n",
       "   position_of_most_recent_order_cont_prod  \n",
       "0                                        1  \n",
       "1                                        2  \n",
       "2                                        1  \n",
       "3                                        1  \n",
       "4                                        1  \n",
       "\n",
       "[5 rows x 44 columns]"
      ]
     },
     "execution_count": 95,
     "metadata": {},
     "output_type": "execute_result"
    }
   ],
   "source": [
    "df_X.head()"
   ]
  },
  {
   "cell_type": "code",
   "execution_count": 96,
   "metadata": {},
   "outputs": [],
   "source": [
    "df_X['pct_total_orders_contain_prod']=df_X['position_of_most_recent_order_cont_prod']/df_X['user_total_orders']"
   ]
  },
  {
   "cell_type": "code",
   "execution_count": 97,
   "metadata": {},
   "outputs": [
    {
     "name": "stdout",
     "output_type": "stream",
     "text": [
      "<class 'pandas.core.frame.DataFrame'>\n",
      "Int64Index: 606292 entries, 0 to 606291\n",
      "Data columns (total 45 columns):\n",
      "product_id                                 606292 non-null int64\n",
      "user_id                                    606292 non-null int64\n",
      "user_product_total_orders                  606292 non-null int64\n",
      "latest_cart                                606292 non-null object\n",
      "in_cart                                    606292 non-null int64\n",
      "product_total_orders                       606292 non-null int64\n",
      "product_avg_add_to_cart_order              606292 non-null float64\n",
      "user_total_orders                          606292 non-null int64\n",
      "user_avg_cartsize                          606292 non-null float64\n",
      "user_total_products                        606292 non-null int64\n",
      "user_avg_days_since_prior_order            606292 non-null float64\n",
      "user_product_avg_add_to_cart_order         606292 non-null float64\n",
      "user_product_order_freq                    606292 non-null float64\n",
      "aisle_id                                   606292 non-null int64\n",
      "department_id                              606292 non-null int64\n",
      "1                                          606292 non-null uint8\n",
      "2                                          606292 non-null uint8\n",
      "3                                          606292 non-null uint8\n",
      "4                                          606292 non-null uint8\n",
      "5                                          606292 non-null uint8\n",
      "6                                          606292 non-null uint8\n",
      "7                                          606292 non-null uint8\n",
      "8                                          606292 non-null uint8\n",
      "9                                          606292 non-null uint8\n",
      "10                                         606292 non-null uint8\n",
      "11                                         606292 non-null uint8\n",
      "12                                         606292 non-null uint8\n",
      "13                                         606292 non-null uint8\n",
      "14                                         606292 non-null uint8\n",
      "15                                         606292 non-null uint8\n",
      "16                                         606292 non-null uint8\n",
      "17                                         606292 non-null uint8\n",
      "18                                         606292 non-null uint8\n",
      "19                                         606292 non-null uint8\n",
      "20                                         606292 non-null uint8\n",
      "21                                         606292 non-null uint8\n",
      "user_product_avg_hour_of_day               606292 non-null float64\n",
      "user_product_avg_dow                       606292 non-null float64\n",
      "most_recent_order_dow                      606292 non-null float64\n",
      "most_recent_order_hour_of_day              606292 non-null float64\n",
      "user_product_avg_hod_delta                 606292 non-null float64\n",
      "user_most_recent_orderno_withprod          606292 non-null int64\n",
      "all_users_orders                           606292 non-null object\n",
      "position_of_most_recent_order_cont_prod    606292 non-null int64\n",
      "pct_total_orders_contain_prod              606292 non-null float64\n",
      "dtypes: float64(11), int64(11), object(2), uint8(21)\n",
      "memory usage: 127.8+ MB\n"
     ]
    }
   ],
   "source": [
    "df_X.info()"
   ]
  },
  {
   "cell_type": "code",
   "execution_count": null,
   "metadata": {},
   "outputs": [],
   "source": [
    "#df_X.drop(columns=['all_users_orders'],inplace=True)"
   ]
  },
  {
   "cell_type": "code",
   "execution_count": null,
   "metadata": {},
   "outputs": [],
   "source": [
    "#df_X.drop(columns=['user_most_recent_orderno_withprod'],inplace=True)"
   ]
  },
  {
   "cell_type": "code",
   "execution_count": 98,
   "metadata": {},
   "outputs": [
    {
     "data": {
      "text/html": [
       "<div>\n",
       "<style scoped>\n",
       "    .dataframe tbody tr th:only-of-type {\n",
       "        vertical-align: middle;\n",
       "    }\n",
       "\n",
       "    .dataframe tbody tr th {\n",
       "        vertical-align: top;\n",
       "    }\n",
       "\n",
       "    .dataframe thead th {\n",
       "        text-align: right;\n",
       "    }\n",
       "</style>\n",
       "<table border=\"1\" class=\"dataframe\">\n",
       "  <thead>\n",
       "    <tr style=\"text-align: right;\">\n",
       "      <th></th>\n",
       "      <th>product_id</th>\n",
       "      <th>user_id</th>\n",
       "      <th>user_product_total_orders</th>\n",
       "      <th>latest_cart</th>\n",
       "      <th>in_cart</th>\n",
       "      <th>product_total_orders</th>\n",
       "      <th>product_avg_add_to_cart_order</th>\n",
       "      <th>user_total_orders</th>\n",
       "      <th>user_avg_cartsize</th>\n",
       "      <th>user_total_products</th>\n",
       "      <th>...</th>\n",
       "      <th>21</th>\n",
       "      <th>user_product_avg_hour_of_day</th>\n",
       "      <th>user_product_avg_dow</th>\n",
       "      <th>most_recent_order_dow</th>\n",
       "      <th>most_recent_order_hour_of_day</th>\n",
       "      <th>user_product_avg_hod_delta</th>\n",
       "      <th>user_most_recent_orderno_withprod</th>\n",
       "      <th>all_users_orders</th>\n",
       "      <th>position_of_most_recent_order_cont_prod</th>\n",
       "      <th>pct_total_orders_contain_prod</th>\n",
       "    </tr>\n",
       "  </thead>\n",
       "  <tbody>\n",
       "    <tr>\n",
       "      <th>0</th>\n",
       "      <td>1</td>\n",
       "      <td>1494</td>\n",
       "      <td>1</td>\n",
       "      <td>{44560}</td>\n",
       "      <td>0</td>\n",
       "      <td>47</td>\n",
       "      <td>6.255319</td>\n",
       "      <td>1</td>\n",
       "      <td>21.0</td>\n",
       "      <td>21</td>\n",
       "      <td>...</td>\n",
       "      <td>0</td>\n",
       "      <td>8.0</td>\n",
       "      <td>2.0</td>\n",
       "      <td>-9999.0</td>\n",
       "      <td>-9999.0</td>\n",
       "      <td>10007.0</td>\n",
       "      <td>186761</td>\n",
       "      <td>[186761]</td>\n",
       "      <td>1</td>\n",
       "      <td>1.0</td>\n",
       "    </tr>\n",
       "    <tr>\n",
       "      <th>1</th>\n",
       "      <td>1</td>\n",
       "      <td>1540</td>\n",
       "      <td>1</td>\n",
       "      <td>{37600, 1, 11266, 3298, 130, 30720, 10310, 401...</td>\n",
       "      <td>1</td>\n",
       "      <td>47</td>\n",
       "      <td>6.255319</td>\n",
       "      <td>2</td>\n",
       "      <td>10.0</td>\n",
       "      <td>13</td>\n",
       "      <td>...</td>\n",
       "      <td>0</td>\n",
       "      <td>0.0</td>\n",
       "      <td>2.0</td>\n",
       "      <td>1.0</td>\n",
       "      <td>1.0</td>\n",
       "      <td>1.0</td>\n",
       "      <td>200390</td>\n",
       "      <td>[133972, 200390]</td>\n",
       "      <td>2</td>\n",
       "      <td>1.0</td>\n",
       "    </tr>\n",
       "    <tr>\n",
       "      <th>2</th>\n",
       "      <td>1</td>\n",
       "      <td>3904</td>\n",
       "      <td>1</td>\n",
       "      <td>{6184, 20818, 21572, 32478}</td>\n",
       "      <td>0</td>\n",
       "      <td>47</td>\n",
       "      <td>6.255319</td>\n",
       "      <td>1</td>\n",
       "      <td>3.0</td>\n",
       "      <td>3</td>\n",
       "      <td>...</td>\n",
       "      <td>0</td>\n",
       "      <td>14.0</td>\n",
       "      <td>1.0</td>\n",
       "      <td>-9999.0</td>\n",
       "      <td>-9999.0</td>\n",
       "      <td>10013.0</td>\n",
       "      <td>207661</td>\n",
       "      <td>[207661]</td>\n",
       "      <td>1</td>\n",
       "      <td>1.0</td>\n",
       "    </tr>\n",
       "    <tr>\n",
       "      <th>3</th>\n",
       "      <td>1</td>\n",
       "      <td>15182</td>\n",
       "      <td>1</td>\n",
       "      <td>{1, 4210, 30731, 19511}</td>\n",
       "      <td>1</td>\n",
       "      <td>47</td>\n",
       "      <td>6.255319</td>\n",
       "      <td>2</td>\n",
       "      <td>2.5</td>\n",
       "      <td>3</td>\n",
       "      <td>...</td>\n",
       "      <td>0</td>\n",
       "      <td>19.0</td>\n",
       "      <td>1.0</td>\n",
       "      <td>0.0</td>\n",
       "      <td>17.0</td>\n",
       "      <td>2.0</td>\n",
       "      <td>153011</td>\n",
       "      <td>[153011, 173785]</td>\n",
       "      <td>1</td>\n",
       "      <td>0.5</td>\n",
       "    </tr>\n",
       "    <tr>\n",
       "      <th>4</th>\n",
       "      <td>1</td>\n",
       "      <td>26613</td>\n",
       "      <td>1</td>\n",
       "      <td>{21288, 3265, 11759}</td>\n",
       "      <td>0</td>\n",
       "      <td>47</td>\n",
       "      <td>6.255319</td>\n",
       "      <td>2</td>\n",
       "      <td>3.5</td>\n",
       "      <td>7</td>\n",
       "      <td>...</td>\n",
       "      <td>0</td>\n",
       "      <td>12.0</td>\n",
       "      <td>6.0</td>\n",
       "      <td>-9999.0</td>\n",
       "      <td>-9999.0</td>\n",
       "      <td>10011.0</td>\n",
       "      <td>130646</td>\n",
       "      <td>[130646, 182724]</td>\n",
       "      <td>1</td>\n",
       "      <td>0.5</td>\n",
       "    </tr>\n",
       "  </tbody>\n",
       "</table>\n",
       "<p>5 rows × 45 columns</p>\n",
       "</div>"
      ],
      "text/plain": [
       "   product_id  user_id  user_product_total_orders  \\\n",
       "0           1     1494                          1   \n",
       "1           1     1540                          1   \n",
       "2           1     3904                          1   \n",
       "3           1    15182                          1   \n",
       "4           1    26613                          1   \n",
       "\n",
       "                                         latest_cart  in_cart  \\\n",
       "0                                            {44560}        0   \n",
       "1  {37600, 1, 11266, 3298, 130, 30720, 10310, 401...        1   \n",
       "2                        {6184, 20818, 21572, 32478}        0   \n",
       "3                            {1, 4210, 30731, 19511}        1   \n",
       "4                               {21288, 3265, 11759}        0   \n",
       "\n",
       "   product_total_orders  product_avg_add_to_cart_order  user_total_orders  \\\n",
       "0                    47                       6.255319                  1   \n",
       "1                    47                       6.255319                  2   \n",
       "2                    47                       6.255319                  1   \n",
       "3                    47                       6.255319                  2   \n",
       "4                    47                       6.255319                  2   \n",
       "\n",
       "   user_avg_cartsize  user_total_products              ...                21  \\\n",
       "0               21.0                   21              ...                 0   \n",
       "1               10.0                   13              ...                 0   \n",
       "2                3.0                    3              ...                 0   \n",
       "3                2.5                    3              ...                 0   \n",
       "4                3.5                    7              ...                 0   \n",
       "\n",
       "   user_product_avg_hour_of_day  user_product_avg_dow  most_recent_order_dow  \\\n",
       "0                           8.0                   2.0                -9999.0   \n",
       "1                           0.0                   2.0                    1.0   \n",
       "2                          14.0                   1.0                -9999.0   \n",
       "3                          19.0                   1.0                    0.0   \n",
       "4                          12.0                   6.0                -9999.0   \n",
       "\n",
       "   most_recent_order_hour_of_day  user_product_avg_hod_delta  \\\n",
       "0                        -9999.0                     10007.0   \n",
       "1                            1.0                         1.0   \n",
       "2                        -9999.0                     10013.0   \n",
       "3                           17.0                         2.0   \n",
       "4                        -9999.0                     10011.0   \n",
       "\n",
       "   user_most_recent_orderno_withprod  all_users_orders  \\\n",
       "0                             186761          [186761]   \n",
       "1                             200390  [133972, 200390]   \n",
       "2                             207661          [207661]   \n",
       "3                             153011  [153011, 173785]   \n",
       "4                             130646  [130646, 182724]   \n",
       "\n",
       "   position_of_most_recent_order_cont_prod  pct_total_orders_contain_prod  \n",
       "0                                        1                            1.0  \n",
       "1                                        2                            1.0  \n",
       "2                                        1                            1.0  \n",
       "3                                        1                            0.5  \n",
       "4                                        1                            0.5  \n",
       "\n",
       "[5 rows x 45 columns]"
      ]
     },
     "execution_count": 98,
     "metadata": {},
     "output_type": "execute_result"
    }
   ],
   "source": [
    "df_X.head()"
   ]
  },
  {
   "cell_type": "code",
   "execution_count": 99,
   "metadata": {},
   "outputs": [],
   "source": [
    "def get_user_split_data2(df, test_size=.2, seed=42):\n",
    "\n",
    "    rs = np.random.RandomState(seed)\n",
    "    \n",
    "    total_users = df['user_id'].unique() \n",
    "    test_users = rs.choice(total_users, \n",
    "                           size=int(total_users.shape[0] * test_size), \n",
    "                           replace=False)\n",
    "\n",
    "    df_tr = df[~df['user_id'].isin(test_users)]\n",
    "    df_te = df[df['user_id'].isin(test_users)] \n",
    "\n",
    "    y_tr, y_te = df_tr['in_cart'], df_te['in_cart']\n",
    "    X_tr = df_tr.drop(['product_id','user_id','latest_cart','in_cart','aisle_id','department_id','user_most_recent_orderno_withprod','all_users_orders'],axis=1) \n",
    "    X_te = df_te.drop(['product_id','user_id','latest_cart','in_cart','aisle_id','department_id','user_most_recent_orderno_withprod','all_users_orders'],axis=1)\n",
    "\n",
    "    return X_tr, X_te, y_tr, y_te"
   ]
  },
  {
   "cell_type": "code",
   "execution_count": 100,
   "metadata": {},
   "outputs": [
    {
     "name": "stderr",
     "output_type": "stream",
     "text": [
      "/home/ubuntu/anaconda3/lib/python3.5/site-packages/sklearn/linear_model/logistic.py:432: FutureWarning: Default solver will be changed to 'lbfgs' in 0.22. Specify a solver to silence this warning.\n",
      "  FutureWarning)\n"
     ]
    },
    {
     "data": {
      "text/plain": [
       "1.0"
      ]
     },
     "execution_count": 100,
     "metadata": {},
     "output_type": "execute_result"
    }
   ],
   "source": [
    "X_tr, X_te, y_tr, y_te = get_user_split_data2(df_X)\n",
    "\n",
    "lr = LogisticRegression(C=1)\n",
    "lr.fit(X_tr, y_tr)\n",
    "f1_score(lr.predict(X_te), y_te)"
   ]
  },
  {
   "cell_type": "code",
   "execution_count": 101,
   "metadata": {},
   "outputs": [
    {
     "data": {
      "text/plain": [
       "array([[ 1.99674963e-03,  3.28152887e-02,  1.39469282e-02,\n",
       "         2.77557555e-03,  2.02725153e-02,  2.74241360e-02,\n",
       "         2.16487437e-02,  1.01987490e-02,  1.47879983e-03,\n",
       "         1.95324314e-04,  6.02606477e-06,  9.44648186e-05,\n",
       "         7.04456180e-05,  3.26353802e-05,  2.35225922e-05,\n",
       "         2.63799858e-04,  3.90434834e-05,  5.46525153e-05,\n",
       "         2.85963461e-06,  6.33958972e-05,  3.52853426e-05,\n",
       "         9.05517216e-05,  5.87344037e-05,  5.93130458e-05,\n",
       "         2.20836910e-04,  6.44281032e-05,  3.43657120e-05,\n",
       "         2.69326759e-04,  6.99775527e-05,  1.84393693e-05,\n",
       "         2.33115374e-02,  5.00342133e-03,  1.51509515e-02,\n",
       "         3.31037874e-02, -2.83555146e-03,  2.40309196e-03,\n",
       "         1.62765200e-03]])"
      ]
     },
     "execution_count": 101,
     "metadata": {},
     "output_type": "execute_result"
    }
   ],
   "source": [
    "lr.coef_"
   ]
  },
  {
   "cell_type": "code",
   "execution_count": 102,
   "metadata": {},
   "outputs": [],
   "source": [
    "df_X.to_csv('instacart_df_X_features_fnull.csv', index=False)"
   ]
  },
  {
   "cell_type": "code",
   "execution_count": null,
   "metadata": {},
   "outputs": [],
   "source": [
    "##ANALYSIS"
   ]
  },
  {
   "cell_type": "code",
   "execution_count": null,
   "metadata": {},
   "outputs": [],
   "source": [
    "#scaling"
   ]
  },
  {
   "cell_type": "code",
   "execution_count": null,
   "metadata": {},
   "outputs": [],
   "source": [
    "X_tr, X_te, y_tr, y_te = get_user_split_data(df_X)\n",
    "scaler = StandardScaler() #scales and brings it down to between 0 and 1, a quick transformation \n",
    "X_train_scaled = scaler.fit_transform(X_tr)\n",
    "X_test_scaled = scaler.transform(X_te)"
   ]
  },
  {
   "cell_type": "code",
   "execution_count": null,
   "metadata": {},
   "outputs": [],
   "source": [
    "lr = LogisticRegression(C=1)\n",
    "lr.fit(X_train_scaled, y_tr)\n",
    "f1_score(y_te, lr.predict(X_test_scaled))"
   ]
  },
  {
   "cell_type": "code",
   "execution_count": null,
   "metadata": {},
   "outputs": [],
   "source": [
    "scores=cross_val_score(lr, X_tr, y_tr, cv=5,scoring='accuracy', n_jobs=-1)"
   ]
  },
  {
   "cell_type": "code",
   "execution_count": null,
   "metadata": {},
   "outputs": [],
   "source": [
    "scores.mean()"
   ]
  },
  {
   "cell_type": "code",
   "execution_count": null,
   "metadata": {
    "scrolled": true
   },
   "outputs": [],
   "source": [
    "from sklearn.model_selection import cross_val_score\n",
    "\n",
    "f1 = cross_val_score(lr, \n",
    "            X_tr, y_tr, scoring='f1', cv=5)"
   ]
  },
  {
   "cell_type": "code",
   "execution_count": null,
   "metadata": {},
   "outputs": [],
   "source": [
    "f1.mean()"
   ]
  },
  {
   "cell_type": "code",
   "execution_count": null,
   "metadata": {},
   "outputs": [],
   "source": [
    "y_predict = lr.predict(X_train_scaled)  # This is a hard classifier"
   ]
  },
  {
   "cell_type": "code",
   "execution_count": null,
   "metadata": {},
   "outputs": [],
   "source": [
    "lr.score(X_train_scaled,y_tr)\n",
    "#accuracy"
   ]
  },
  {
   "cell_type": "code",
   "execution_count": null,
   "metadata": {},
   "outputs": [],
   "source": [
    "#L4X (3:1 class weights)\n",
    "#lr_4x.fit(X_tr, y_tr)"
   ]
  },
  {
   "cell_type": "code",
   "execution_count": null,
   "metadata": {},
   "outputs": [],
   "source": [
    "#lr = LogisticRegression(C=1)\n",
    "lr_4x.fit(X_train_scaled, y_tr)\n",
    "f1_score(y_te, lr_4x.predict(X_test_scaled))"
   ]
  },
  {
   "cell_type": "code",
   "execution_count": null,
   "metadata": {},
   "outputs": [],
   "source": [
    "scores1=cross_val_score(lr_4x, X_tr, y_tr, cv=5,scoring='accuracy', n_jobs=-1)"
   ]
  },
  {
   "cell_type": "code",
   "execution_count": null,
   "metadata": {},
   "outputs": [],
   "source": [
    "scores1.mean()"
   ]
  },
  {
   "cell_type": "code",
   "execution_count": null,
   "metadata": {},
   "outputs": [],
   "source": [
    "from sklearn.model_selection import cross_val_score\n",
    "\n",
    "f1a = cross_val_score(lr_4x, \n",
    "            X_tr, y_tr, scoring='f1', cv=5)"
   ]
  },
  {
   "cell_type": "code",
   "execution_count": null,
   "metadata": {},
   "outputs": [],
   "source": [
    "f1a.mean()"
   ]
  },
  {
   "cell_type": "code",
   "execution_count": null,
   "metadata": {},
   "outputs": [],
   "source": [
    "#random forest"
   ]
  },
  {
   "cell_type": "code",
   "execution_count": null,
   "metadata": {},
   "outputs": [],
   "source": [
    "rfc=RandomForestClassifier(n_estimators=100,random_state=42,n_jobs=-1)"
   ]
  },
  {
   "cell_type": "code",
   "execution_count": null,
   "metadata": {},
   "outputs": [],
   "source": [
    "rfc"
   ]
  },
  {
   "cell_type": "code",
   "execution_count": null,
   "metadata": {},
   "outputs": [],
   "source": [
    "rfc.fit(X_train_scaled, y_tr)"
   ]
  },
  {
   "cell_type": "code",
   "execution_count": null,
   "metadata": {},
   "outputs": [],
   "source": [
    "rfc.score(X_test_scaled,y_te)"
   ]
  },
  {
   "cell_type": "code",
   "execution_count": null,
   "metadata": {},
   "outputs": [],
   "source": [
    "#stopping point"
   ]
  },
  {
   "cell_type": "code",
   "execution_count": null,
   "metadata": {},
   "outputs": [],
   "source": [
    "df_X = df_X.merge(df_user_prod_features2,on=['user_id','product_id'])"
   ]
  },
  {
   "cell_type": "code",
   "execution_count": null,
   "metadata": {},
   "outputs": [],
   "source": [
    "df_X.head(20)"
   ]
  },
  {
   "cell_type": "code",
   "execution_count": null,
   "metadata": {},
   "outputs": [],
   "source": [
    "df_X['user_product_avg_hod_delta'] = df_X['most_recent_order_hour_of_day'] - df_X['user_product_avg_hour_of_day'] "
   ]
  },
  {
   "cell_type": "code",
   "execution_count": null,
   "metadata": {},
   "outputs": [],
   "source": [
    "#quantify the difference\n",
    "# between the time of the latest order and these typical times to pick up new signal around ordering patterns."
   ]
  },
  {
   "cell_type": "code",
   "execution_count": null,
   "metadata": {},
   "outputs": [],
   "source": [
    "#not correct, need to get hour they bought prod, not the number of times they ordered it\n",
    "user_prod_features2 = ['user_bought_prod_at_hour_of_day']\n",
    "\n",
    "df_user_prod_features2 = df_orderproductsprior.groupby(['product_id','user_id'])['order_hour_of_day'].aggregate('count').reset_index()\n",
    "#df_user_prod_features2.sort_values('product_id', ascending=False)\n",
    "df_user_prod_features2.columns = ['product_id','user_id'] + user_prod_features2 \n",
    "df_user_prod_features2.head(10)"
   ]
  },
  {
   "cell_type": "code",
   "execution_count": null,
   "metadata": {},
   "outputs": [],
   "source": [
    "user_prod_features3 = ['user_bought_prod_at_dow']\n",
    "\n",
    "df_user_prod_features3 = df_orderproductsprior.groupby(['product_id','user_id'])['order_dow'].aggregate('count').reset_index()\n",
    "#df_user_prod_features2.sort_values('product_id', ascending=False)\n",
    "df_user_prod_features3.columns = ['product_id','user_id'] + user_prod_features3 \n",
    "df_user_prod_features3.head(10)"
   ]
  },
  {
   "cell_type": "code",
   "execution_count": null,
   "metadata": {},
   "outputs": [],
   "source": [
    "#Looking at order_products_train \n",
    "\n",
    "user_prod_features4 = ['user_bought_prod_at_dow']\n",
    "\n",
    "df_user_prod_features4 = df_orderproductstrain.groupby(['user_id','product_id','order_dow'])\n",
    "#df_user_prod_features2.sort_values('product_id', ascending=False)\n",
    "df_user_prod_features4.columns = ['product_id','user_id','order_dow','order_hour_of_day'] + user_prod_features3 \n",
    "df_user_prod_features4.head(10)"
   ]
  },
  {
   "cell_type": "code",
   "execution_count": null,
   "metadata": {},
   "outputs": [],
   "source": [
    "prod_features12 = ['latest_order_no']\n",
    "\n",
    "df_prod_features12 = (df_orderproductsprior.groupby(['product_id'],as_index=False)\n",
    "                                           .agg(OrderedDict(\n",
    "                                                   [('order_id','max'),])))\n",
    "df_prod_features12.columns = ['product_id'] + prod_features12\n",
    "df_prod_features12.head()"
   ]
  },
  {
   "cell_type": "code",
   "execution_count": null,
   "metadata": {
    "scrolled": true
   },
   "outputs": [],
   "source": [
    "user_prod_features13 = ['most_recent_order_no']\n",
    "\n",
    "df_user_prod_features13 = (df_orderproductstrain.groupby(['product_id','user_id','order_dow','order_hour_of_day'],as_index=False) \\\n",
    "                                                .agg(OrderedDict(\n",
    "                                                     [('order_id','max')])))\n",
    "\n",
    "df_user_prod_features13.columns = ['product_id','user_id','most_recent_order_dow','most_recent_order_hour_of_day'] + user_prod_features13 \n",
    "df_user_prod_features13.head(10)"
   ]
  },
  {
   "cell_type": "code",
   "execution_count": null,
   "metadata": {},
   "outputs": [],
   "source": [
    "#merge two dataframes together"
   ]
  },
  {
   "cell_type": "code",
   "execution_count": null,
   "metadata": {},
   "outputs": [],
   "source": [
    "#df_X['user_product_avg_hod_delta'] = df_X['user_order_time'] - df_X['user_avg_time'] "
   ]
  },
  {
   "cell_type": "code",
   "execution_count": null,
   "metadata": {},
   "outputs": [],
   "source": [
    "# Then add features of the form user_product_avg_hod_delta that take the dif of the current order time and the avg."
   ]
  },
  {
   "cell_type": "code",
   "execution_count": null,
   "metadata": {},
   "outputs": [],
   "source": [
    "user_prod_features15 = ['user_product_avg_hod_delta']\n",
    "\n",
    "df_user_prod_features15 = (df_orderproductstrain.groupby(['product_id','user_id','order_dow','order_hour_of_day'],as_index=False) \\\n",
    "                                                .agg(OrderedDict(\n",
    "                                                     [('order_id','max')])))\n",
    "\n",
    "df_user_prod_features15.columns = ['product_id','user_id','most_recent_order_dow','most_recent_order_hour_of_day'] + user_prod_features13 \n",
    "df_user_prod_features15.head(10)"
   ]
  },
  {
   "cell_type": "code",
   "execution_count": null,
   "metadata": {},
   "outputs": [],
   "source": [
    "#generically"
   ]
  },
  {
   "cell_type": "code",
   "execution_count": null,
   "metadata": {},
   "outputs": [],
   "source": [
    "#number orders generally ordered at a specific day of week and hour of day\n",
    "orderdf1=orderdf.groupby([\"order_dow\", \"order_hour_of_day\"])[\"order_number\"].aggregate(\"count\").reset_index()\n",
    "orderdf1.sort_values('order_number', ascending=False)"
   ]
  },
  {
   "cell_type": "code",
   "execution_count": null,
   "metadata": {},
   "outputs": [],
   "source": [
    "#per product id\n",
    "orderdf1=df_orderproductsprior.groupby([\"product_id\",\"order_dow\", \"order_hour_of_day\"])[\"order_number\"].aggregate(\"count\").reset_index()\n",
    "orderdf1.sort_values('order_number', ascending=False)"
   ]
  },
  {
   "cell_type": "code",
   "execution_count": null,
   "metadata": {
    "scrolled": true
   },
   "outputs": [],
   "source": [
    "mask = (productsdf['product_id']==24852)\n",
    "productsdf[mask].head()"
   ]
  },
  {
   "cell_type": "code",
   "execution_count": null,
   "metadata": {},
   "outputs": [],
   "source": [
    "mask = (productsdf['product_id']==13176)\n",
    "productsdf[mask].head()"
   ]
  },
  {
   "cell_type": "code",
   "execution_count": null,
   "metadata": {},
   "outputs": [],
   "source": [
    "# Add another user-product feature that computes how many orders it's been since the user ordered that product "
   ]
  },
  {
   "cell_type": "code",
   "execution_count": null,
   "metadata": {},
   "outputs": [],
   "source": [
    "df_test=df_orderproductstrain.groupby([\"order_dow\"])[\"reordered\"].aggregate(\"mean\").reset_index()"
   ]
  },
  {
   "cell_type": "code",
   "execution_count": null,
   "metadata": {},
   "outputs": [],
   "source": [
    "df_orderproductstrain.groupby(\"order_id\")[\"add_to_cart_order\"].aggregate(\"max\")"
   ]
  },
  {
   "cell_type": "code",
   "execution_count": null,
   "metadata": {},
   "outputs": [],
   "source": [
    "user_prod_features = ['user_product_no_orders_since_that_prod']\n",
    "\n",
    "df_user_prod_features1 = (df_orderproductsprior.groupby(['user_id','product_id'],as_index=False) \\\n",
    "                                                .agg('order_id','max'))\n",
    "\n",
    "df_user_prod_features1.columns = ['product_id','user_id'] + user_prod_features \n",
    "df_user_prod_features1.head()"
   ]
  }
 ],
 "metadata": {
  "anaconda-cloud": {},
  "kernelspec": {
   "display_name": "Python 3",
   "language": "python",
   "name": "python3"
  },
  "language_info": {
   "codemirror_mode": {
    "name": "ipython",
    "version": 3
   },
   "file_extension": ".py",
   "mimetype": "text/x-python",
   "name": "python",
   "nbconvert_exporter": "python",
   "pygments_lexer": "ipython3",
   "version": "3.6.8"
  }
 },
 "nbformat": 4,
 "nbformat_minor": 1
}
