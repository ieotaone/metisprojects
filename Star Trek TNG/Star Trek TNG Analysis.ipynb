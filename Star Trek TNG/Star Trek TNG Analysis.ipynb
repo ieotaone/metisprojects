{
 "cells": [
  {
   "cell_type": "code",
   "execution_count": 1,
   "metadata": {
    "ExecuteTime": {
     "end_time": "2019-04-06T22:16:26.462376Z",
     "start_time": "2019-04-06T22:16:22.529426Z"
    }
   },
   "outputs": [
    {
     "name": "stderr",
     "output_type": "stream",
     "text": [
      "/Users/ginachung/anaconda3/lib/python3.6/site-packages/corextopic/vis_topic.py:9: UserWarning: \n",
      "This call to matplotlib.use() has no effect because the backend has already\n",
      "been chosen; matplotlib.use() must be called *before* pylab, matplotlib.pyplot,\n",
      "or matplotlib.backends is imported for the first time.\n",
      "\n",
      "The backend was *originally* set to 'module://ipykernel.pylab.backend_inline' by the following code:\n",
      "  File \"/Users/ginachung/anaconda3/lib/python3.6/runpy.py\", line 193, in _run_module_as_main\n",
      "    \"__main__\", mod_spec)\n",
      "  File \"/Users/ginachung/anaconda3/lib/python3.6/runpy.py\", line 85, in _run_code\n",
      "    exec(code, run_globals)\n",
      "  File \"/Users/ginachung/anaconda3/lib/python3.6/site-packages/ipykernel_launcher.py\", line 16, in <module>\n",
      "    app.launch_new_instance()\n",
      "  File \"/Users/ginachung/anaconda3/lib/python3.6/site-packages/traitlets/config/application.py\", line 658, in launch_instance\n",
      "    app.start()\n",
      "  File \"/Users/ginachung/anaconda3/lib/python3.6/site-packages/ipykernel/kernelapp.py\", line 497, in start\n",
      "    self.io_loop.start()\n",
      "  File \"/Users/ginachung/anaconda3/lib/python3.6/site-packages/tornado/platform/asyncio.py\", line 132, in start\n",
      "    self.asyncio_loop.run_forever()\n",
      "  File \"/Users/ginachung/anaconda3/lib/python3.6/asyncio/base_events.py\", line 438, in run_forever\n",
      "    self._run_once()\n",
      "  File \"/Users/ginachung/anaconda3/lib/python3.6/asyncio/base_events.py\", line 1451, in _run_once\n",
      "    handle._run()\n",
      "  File \"/Users/ginachung/anaconda3/lib/python3.6/asyncio/events.py\", line 145, in _run\n",
      "    self._callback(*self._args)\n",
      "  File \"/Users/ginachung/anaconda3/lib/python3.6/site-packages/tornado/platform/asyncio.py\", line 122, in _handle_events\n",
      "    handler_func(fileobj, events)\n",
      "  File \"/Users/ginachung/anaconda3/lib/python3.6/site-packages/tornado/stack_context.py\", line 300, in null_wrapper\n",
      "    return fn(*args, **kwargs)\n",
      "  File \"/Users/ginachung/anaconda3/lib/python3.6/site-packages/zmq/eventloop/zmqstream.py\", line 450, in _handle_events\n",
      "    self._handle_recv()\n",
      "  File \"/Users/ginachung/anaconda3/lib/python3.6/site-packages/zmq/eventloop/zmqstream.py\", line 480, in _handle_recv\n",
      "    self._run_callback(callback, msg)\n",
      "  File \"/Users/ginachung/anaconda3/lib/python3.6/site-packages/zmq/eventloop/zmqstream.py\", line 432, in _run_callback\n",
      "    callback(*args, **kwargs)\n",
      "  File \"/Users/ginachung/anaconda3/lib/python3.6/site-packages/tornado/stack_context.py\", line 300, in null_wrapper\n",
      "    return fn(*args, **kwargs)\n",
      "  File \"/Users/ginachung/anaconda3/lib/python3.6/site-packages/ipykernel/kernelbase.py\", line 283, in dispatcher\n",
      "    return self.dispatch_shell(stream, msg)\n",
      "  File \"/Users/ginachung/anaconda3/lib/python3.6/site-packages/ipykernel/kernelbase.py\", line 233, in dispatch_shell\n",
      "    handler(stream, idents, msg)\n",
      "  File \"/Users/ginachung/anaconda3/lib/python3.6/site-packages/ipykernel/kernelbase.py\", line 399, in execute_request\n",
      "    user_expressions, allow_stdin)\n",
      "  File \"/Users/ginachung/anaconda3/lib/python3.6/site-packages/ipykernel/ipkernel.py\", line 208, in do_execute\n",
      "    res = shell.run_cell(code, store_history=store_history, silent=silent)\n",
      "  File \"/Users/ginachung/anaconda3/lib/python3.6/site-packages/ipykernel/zmqshell.py\", line 537, in run_cell\n",
      "    return super(ZMQInteractiveShell, self).run_cell(*args, **kwargs)\n",
      "  File \"/Users/ginachung/anaconda3/lib/python3.6/site-packages/IPython/core/interactiveshell.py\", line 2662, in run_cell\n",
      "    raw_cell, store_history, silent, shell_futures)\n",
      "  File \"/Users/ginachung/anaconda3/lib/python3.6/site-packages/IPython/core/interactiveshell.py\", line 2785, in _run_cell\n",
      "    interactivity=interactivity, compiler=compiler, result=result)\n",
      "  File \"/Users/ginachung/anaconda3/lib/python3.6/site-packages/IPython/core/interactiveshell.py\", line 2901, in run_ast_nodes\n",
      "    if self.run_code(code, result):\n",
      "  File \"/Users/ginachung/anaconda3/lib/python3.6/site-packages/IPython/core/interactiveshell.py\", line 2961, in run_code\n",
      "    exec(code_obj, self.user_global_ns, self.user_ns)\n",
      "  File \"<ipython-input-1-3f22cf9b9ce0>\", line 18, in <module>\n",
      "    get_ipython().run_line_magic('matplotlib', 'inline')\n",
      "  File \"/Users/ginachung/anaconda3/lib/python3.6/site-packages/IPython/core/interactiveshell.py\", line 2131, in run_line_magic\n",
      "    result = fn(*args,**kwargs)\n",
      "  File \"<decorator-gen-107>\", line 2, in matplotlib\n",
      "  File \"/Users/ginachung/anaconda3/lib/python3.6/site-packages/IPython/core/magic.py\", line 187, in <lambda>\n",
      "    call = lambda f, *a, **k: f(*a, **k)\n",
      "  File \"/Users/ginachung/anaconda3/lib/python3.6/site-packages/IPython/core/magics/pylab.py\", line 99, in matplotlib\n",
      "    gui, backend = self.shell.enable_matplotlib(args.gui)\n",
      "  File \"/Users/ginachung/anaconda3/lib/python3.6/site-packages/IPython/core/interactiveshell.py\", line 3049, in enable_matplotlib\n",
      "    pt.activate_matplotlib(backend)\n",
      "  File \"/Users/ginachung/anaconda3/lib/python3.6/site-packages/IPython/core/pylabtools.py\", line 311, in activate_matplotlib\n",
      "    matplotlib.pyplot.switch_backend(backend)\n",
      "  File \"/Users/ginachung/anaconda3/lib/python3.6/site-packages/matplotlib/pyplot.py\", line 231, in switch_backend\n",
      "    matplotlib.use(newbackend, warn=False, force=True)\n",
      "  File \"/Users/ginachung/anaconda3/lib/python3.6/site-packages/matplotlib/__init__.py\", line 1422, in use\n",
      "    reload(sys.modules['matplotlib.backends'])\n",
      "  File \"/Users/ginachung/anaconda3/lib/python3.6/importlib/__init__.py\", line 166, in reload\n",
      "    _bootstrap._exec(spec, module)\n",
      "  File \"/Users/ginachung/anaconda3/lib/python3.6/site-packages/matplotlib/backends/__init__.py\", line 16, in <module>\n",
      "    line for line in traceback.format_stack()\n",
      "\n",
      "\n",
      "  matplotlib.use('Agg') # to create visualizations on a display-less server\n"
     ]
    }
   ],
   "source": [
    "import numpy as np\n",
    "import pandas as pd\n",
    "import matplotlib.pyplot as plt\n",
    "\n",
    "from sklearn.preprocessing import scale\n",
    "from sklearn.cluster import KMeans\n",
    "from sklearn.datasets import make_blobs\n",
    "from sklearn.datasets import fetch_mldata\n",
    "from sklearn.utils import shuffle\n",
    "import spacy\n",
    "\n",
    "# sklearn\n",
    "from sklearn import datasets\n",
    "from sklearn.feature_extraction.text import CountVectorizer\n",
    "from sklearn.metrics.pairwise import cosine_similarity\n",
    "from sklearn.decomposition import NMF\n",
    "%config InlineBackend.figure_format = 'svg'\n",
    "%matplotlib inline\n",
    "\n",
    "import nltk\n",
    "from nltk.corpus import stopwords\n",
    "import re\n",
    "import string\n",
    "\n",
    "# gensim\n",
    "from gensim import corpora, models, similarities, matutils\n",
    "\n",
    "# logging for gensim (set to INFO)\n",
    "import logging\n",
    "logging.basicConfig(format='%(asctime)s : %(levelname)s : %(message)s', level=logging.INFO)\n",
    "\n",
    "from os import path\n",
    "from PIL import Image\n",
    "#from wordcloud import WordCloud, STOPWORDS, ImageColorGenerator\n",
    "\n",
    "from corextopic import corextopic as ct\n",
    "from corextopic import vis_topic as vt"
   ]
  },
  {
   "cell_type": "code",
   "execution_count": 2,
   "metadata": {
    "ExecuteTime": {
     "end_time": "2019-04-06T22:16:27.540724Z",
     "start_time": "2019-04-06T22:16:26.465244Z"
    }
   },
   "outputs": [],
   "source": [
    "tng = pd.read_csv(\"/Users/ginachung/Desktop/TNG.csv\")"
   ]
  },
  {
   "cell_type": "code",
   "execution_count": 3,
   "metadata": {
    "ExecuteTime": {
     "end_time": "2019-04-06T22:16:27.676600Z",
     "start_time": "2019-04-06T22:16:27.543334Z"
    }
   },
   "outputs": [
    {
     "data": {
      "text/html": [
       "<div>\n",
       "<style scoped>\n",
       "    .dataframe tbody tr th:only-of-type {\n",
       "        vertical-align: middle;\n",
       "    }\n",
       "\n",
       "    .dataframe tbody tr th {\n",
       "        vertical-align: top;\n",
       "    }\n",
       "\n",
       "    .dataframe thead th {\n",
       "        text-align: right;\n",
       "    }\n",
       "</style>\n",
       "<table border=\"1\" class=\"dataframe\">\n",
       "  <thead>\n",
       "    <tr style=\"text-align: right;\">\n",
       "      <th></th>\n",
       "      <th>0</th>\n",
       "      <th>episode</th>\n",
       "      <th>productionnumber</th>\n",
       "      <th>setnames</th>\n",
       "      <th>characters</th>\n",
       "      <th>act</th>\n",
       "      <th>scenenumber</th>\n",
       "      <th>scenedetails</th>\n",
       "      <th>partnumber</th>\n",
       "      <th>type</th>\n",
       "      <th>who</th>\n",
       "      <th>text</th>\n",
       "      <th>speechdescription</th>\n",
       "      <th>Released</th>\n",
       "      <th>Episode</th>\n",
       "      <th>imdbRating</th>\n",
       "      <th>imdbID</th>\n",
       "      <th>Season</th>\n",
       "    </tr>\n",
       "  </thead>\n",
       "  <tbody>\n",
       "    <tr>\n",
       "      <th>0</th>\n",
       "      <td>1</td>\n",
       "      <td>encounter at farpoint</td>\n",
       "      <td>NaN</td>\n",
       "      <td>NaN</td>\n",
       "      <td>NaN</td>\n",
       "      <td>TEASER</td>\n",
       "      <td>1</td>\n",
       "      <td>NaN</td>\n",
       "      <td>1</td>\n",
       "      <td>description</td>\n",
       "      <td>NaN</td>\n",
       "      <td>The U.S.S. Enterprise NCC 1701-D traveling at...</td>\n",
       "      <td>False</td>\n",
       "      <td>1987-09-26</td>\n",
       "      <td>1.0</td>\n",
       "      <td>6.9</td>\n",
       "      <td>tt0094030</td>\n",
       "      <td>1.0</td>\n",
       "    </tr>\n",
       "    <tr>\n",
       "      <th>1</th>\n",
       "      <td>2</td>\n",
       "      <td>encounter at farpoint</td>\n",
       "      <td>NaN</td>\n",
       "      <td>NaN</td>\n",
       "      <td>NaN</td>\n",
       "      <td>TEASER</td>\n",
       "      <td>1</td>\n",
       "      <td>NaN</td>\n",
       "      <td>2</td>\n",
       "      <td>speech</td>\n",
       "      <td>PICARD V.O.</td>\n",
       "      <td>Captain's log, stardate 42353.7. Our destinat...</td>\n",
       "      <td>False</td>\n",
       "      <td>1987-09-26</td>\n",
       "      <td>1.0</td>\n",
       "      <td>6.9</td>\n",
       "      <td>tt0094030</td>\n",
       "      <td>1.0</td>\n",
       "    </tr>\n",
       "    <tr>\n",
       "      <th>2</th>\n",
       "      <td>3</td>\n",
       "      <td>encounter at farpoint</td>\n",
       "      <td>NaN</td>\n",
       "      <td>NaN</td>\n",
       "      <td>NaN</td>\n",
       "      <td>TEASER</td>\n",
       "      <td>2</td>\n",
       "      <td>NaN</td>\n",
       "      <td>3</td>\n",
       "      <td>description</td>\n",
       "      <td>NaN</td>\n",
       "      <td>on the gigantic new Enterprise NCC 1701-D.</td>\n",
       "      <td>False</td>\n",
       "      <td>1987-09-26</td>\n",
       "      <td>1.0</td>\n",
       "      <td>6.9</td>\n",
       "      <td>tt0094030</td>\n",
       "      <td>1.0</td>\n",
       "    </tr>\n",
       "    <tr>\n",
       "      <th>3</th>\n",
       "      <td>4</td>\n",
       "      <td>encounter at farpoint</td>\n",
       "      <td>NaN</td>\n",
       "      <td>NaN</td>\n",
       "      <td>NaN</td>\n",
       "      <td>TEASER</td>\n",
       "      <td>2</td>\n",
       "      <td>NaN</td>\n",
       "      <td>4</td>\n",
       "      <td>speech</td>\n",
       "      <td>PICARD V.O.</td>\n",
       "      <td>My orders are to examine Farpoint, a starbase...</td>\n",
       "      <td>False</td>\n",
       "      <td>1987-09-26</td>\n",
       "      <td>1.0</td>\n",
       "      <td>6.9</td>\n",
       "      <td>tt0094030</td>\n",
       "      <td>1.0</td>\n",
       "    </tr>\n",
       "    <tr>\n",
       "      <th>4</th>\n",
       "      <td>5</td>\n",
       "      <td>encounter at farpoint</td>\n",
       "      <td>NaN</td>\n",
       "      <td>NaN</td>\n",
       "      <td>NaN</td>\n",
       "      <td>TEASER</td>\n",
       "      <td>3</td>\n",
       "      <td>NaN</td>\n",
       "      <td>5</td>\n",
       "      <td>description</td>\n",
       "      <td>NaN</td>\n",
       "      <td>Huge, with a giant wall diagram showing the i...</td>\n",
       "      <td>False</td>\n",
       "      <td>1987-09-26</td>\n",
       "      <td>1.0</td>\n",
       "      <td>6.9</td>\n",
       "      <td>tt0094030</td>\n",
       "      <td>1.0</td>\n",
       "    </tr>\n",
       "  </tbody>\n",
       "</table>\n",
       "</div>"
      ],
      "text/plain": [
       "   0                episode productionnumber setnames characters     act  \\\n",
       "0  1  encounter at farpoint              NaN      NaN        NaN  TEASER   \n",
       "1  2  encounter at farpoint              NaN      NaN        NaN  TEASER   \n",
       "2  3  encounter at farpoint              NaN      NaN        NaN  TEASER   \n",
       "3  4  encounter at farpoint              NaN      NaN        NaN  TEASER   \n",
       "4  5  encounter at farpoint              NaN      NaN        NaN  TEASER   \n",
       "\n",
       "  scenenumber  scenedetails  partnumber         type           who  \\\n",
       "0           1           NaN           1  description           NaN   \n",
       "1           1           NaN           2       speech   PICARD V.O.   \n",
       "2           2           NaN           3  description           NaN   \n",
       "3           2           NaN           4       speech   PICARD V.O.   \n",
       "4           3           NaN           5  description           NaN   \n",
       "\n",
       "                                                text  speechdescription  \\\n",
       "0   The U.S.S. Enterprise NCC 1701-D traveling at...              False   \n",
       "1   Captain's log, stardate 42353.7. Our destinat...              False   \n",
       "2         on the gigantic new Enterprise NCC 1701-D.              False   \n",
       "3   My orders are to examine Farpoint, a starbase...              False   \n",
       "4   Huge, with a giant wall diagram showing the i...              False   \n",
       "\n",
       "     Released  Episode  imdbRating     imdbID  Season  \n",
       "0  1987-09-26      1.0         6.9  tt0094030     1.0  \n",
       "1  1987-09-26      1.0         6.9  tt0094030     1.0  \n",
       "2  1987-09-26      1.0         6.9  tt0094030     1.0  \n",
       "3  1987-09-26      1.0         6.9  tt0094030     1.0  \n",
       "4  1987-09-26      1.0         6.9  tt0094030     1.0  "
      ]
     },
     "execution_count": 3,
     "metadata": {},
     "output_type": "execute_result"
    }
   ],
   "source": [
    "tng.head()"
   ]
  },
  {
   "cell_type": "code",
   "execution_count": null,
   "metadata": {
    "ExecuteTime": {
     "end_time": "2019-04-06T22:15:46.307415Z",
     "start_time": "2019-04-06T22:15:46.214443Z"
    }
   },
   "outputs": [],
   "source": [
    "tng.isnull().sum()"
   ]
  },
  {
   "cell_type": "code",
   "execution_count": null,
   "metadata": {
    "ExecuteTime": {
     "end_time": "2019-04-06T22:15:47.532296Z",
     "start_time": "2019-04-06T22:15:47.501653Z"
    }
   },
   "outputs": [],
   "source": [
    "tngspeech = tng[tng.type != 'description']"
   ]
  },
  {
   "cell_type": "code",
   "execution_count": null,
   "metadata": {
    "ExecuteTime": {
     "end_time": "2019-04-06T22:15:49.145557Z",
     "start_time": "2019-04-06T22:15:49.111274Z"
    }
   },
   "outputs": [],
   "source": [
    "tngspeech.head(20)"
   ]
  },
  {
   "cell_type": "code",
   "execution_count": null,
   "metadata": {
    "ExecuteTime": {
     "end_time": "2019-02-28T20:49:59.954890Z",
     "start_time": "2019-02-28T20:49:59.869756Z"
    }
   },
   "outputs": [],
   "source": [
    "tng.isnull().sum()"
   ]
  },
  {
   "cell_type": "code",
   "execution_count": null,
   "metadata": {
    "ExecuteTime": {
     "end_time": "2019-02-28T20:50:00.490402Z",
     "start_time": "2019-02-28T20:50:00.475918Z"
    }
   },
   "outputs": [],
   "source": [
    "tngspeech=tng.drop(columns=['0','productionnumber', 'setnames','characters','act','scenedetails','speechdescription','imdbID' ],inplace=True)"
   ]
  },
  {
   "cell_type": "code",
   "execution_count": null,
   "metadata": {
    "ExecuteTime": {
     "end_time": "2019-02-28T20:50:01.143060Z",
     "start_time": "2019-02-28T20:50:01.139719Z"
    }
   },
   "outputs": [],
   "source": [
    "tngspeech=tng"
   ]
  },
  {
   "cell_type": "code",
   "execution_count": null,
   "metadata": {
    "ExecuteTime": {
     "end_time": "2019-02-28T20:50:01.630240Z",
     "start_time": "2019-02-28T20:50:01.606049Z"
    }
   },
   "outputs": [],
   "source": [
    "tngspeech = tngspeech[tngspeech.type != 'description']"
   ]
  },
  {
   "cell_type": "code",
   "execution_count": null,
   "metadata": {
    "ExecuteTime": {
     "end_time": "2019-02-28T20:50:02.121970Z",
     "start_time": "2019-02-28T20:50:02.083742Z"
    }
   },
   "outputs": [],
   "source": [
    "tngspeech.isnull().sum()"
   ]
  },
  {
   "cell_type": "code",
   "execution_count": null,
   "metadata": {
    "ExecuteTime": {
     "end_time": "2019-02-28T20:50:02.684225Z",
     "start_time": "2019-02-28T20:50:02.659609Z"
    }
   },
   "outputs": [],
   "source": [
    "tngspeech.head(20)"
   ]
  },
  {
   "cell_type": "code",
   "execution_count": null,
   "metadata": {
    "ExecuteTime": {
     "end_time": "2019-02-28T20:50:03.807036Z",
     "start_time": "2019-02-28T20:50:03.305354Z"
    }
   },
   "outputs": [],
   "source": [
    "tngspeech['who']=tngspeech['who'].str.strip()"
   ]
  },
  {
   "cell_type": "code",
   "execution_count": null,
   "metadata": {
    "ExecuteTime": {
     "end_time": "2019-02-28T20:50:04.169011Z",
     "start_time": "2019-02-28T20:50:03.961425Z"
    }
   },
   "outputs": [],
   "source": [
    "tngspeech['who']=tngspeech['who'].str.replace('\\'S COM VOICE','')"
   ]
  },
  {
   "cell_type": "code",
   "execution_count": null,
   "metadata": {
    "ExecuteTime": {
     "end_time": "2019-02-28T20:50:04.788062Z",
     "start_time": "2019-02-28T20:50:04.765896Z"
    }
   },
   "outputs": [],
   "source": [
    "tngspeech['who'].value_counts()"
   ]
  },
  {
   "cell_type": "code",
   "execution_count": null,
   "metadata": {
    "ExecuteTime": {
     "end_time": "2019-02-28T20:50:07.653538Z",
     "start_time": "2019-02-28T20:50:07.366559Z"
    }
   },
   "outputs": [],
   "source": [
    "tngspeech['post']=tngspeech['text'].str.replace('[{}]'.format(string.punctuation),'')"
   ]
  },
  {
   "cell_type": "code",
   "execution_count": null,
   "metadata": {
    "ExecuteTime": {
     "end_time": "2019-02-28T20:50:08.128923Z",
     "start_time": "2019-02-28T20:50:07.775055Z"
    }
   },
   "outputs": [],
   "source": [
    "tngspeech['post']=tngspeech['post'].str.replace('\\d+'.format(string.punctuation),'')"
   ]
  },
  {
   "cell_type": "code",
   "execution_count": null,
   "metadata": {
    "ExecuteTime": {
     "end_time": "2019-02-28T20:50:08.671218Z",
     "start_time": "2019-02-28T20:50:08.289632Z"
    }
   },
   "outputs": [],
   "source": [
    "tngspeech['who']=tngspeech['who'].str.replace('PICARD (V.O.)','PICARD V.O.')\n",
    "tngspeech['who']=tngspeech['who'].str.replace('PICARD V.O.','PICARD')"
   ]
  },
  {
   "cell_type": "code",
   "execution_count": null,
   "metadata": {
    "ExecuteTime": {
     "end_time": "2019-02-28T20:50:08.941891Z",
     "start_time": "2019-02-28T20:50:08.753747Z"
    }
   },
   "outputs": [],
   "source": [
    "tngspeech['post']=tngspeech['post'].str.lower()"
   ]
  },
  {
   "cell_type": "code",
   "execution_count": null,
   "metadata": {
    "ExecuteTime": {
     "end_time": "2019-02-28T20:50:09.344871Z",
     "start_time": "2019-02-28T20:50:09.149262Z"
    }
   },
   "outputs": [],
   "source": [
    "tngspeech['who']=tngspeech['who'].str.replace('PICARD (V.O.)',\"PICARD\" )"
   ]
  },
  {
   "cell_type": "code",
   "execution_count": null,
   "metadata": {
    "ExecuteTime": {
     "end_time": "2019-02-28T20:50:09.619565Z",
     "start_time": "2019-02-28T20:50:09.460057Z"
    }
   },
   "outputs": [],
   "source": [
    "tngspeech['who']=tngspeech['who'].str.strip()"
   ]
  },
  {
   "cell_type": "code",
   "execution_count": null,
   "metadata": {
    "ExecuteTime": {
     "end_time": "2019-02-28T20:50:09.795063Z",
     "start_time": "2019-02-28T20:50:09.746552Z"
    }
   },
   "outputs": [],
   "source": [
    "tngspeech"
   ]
  },
  {
   "cell_type": "code",
   "execution_count": null,
   "metadata": {
    "ExecuteTime": {
     "end_time": "2019-02-28T20:50:10.068517Z",
     "start_time": "2019-02-28T20:50:10.047114Z"
    }
   },
   "outputs": [],
   "source": [
    "tngspeech['who'].value_counts()"
   ]
  },
  {
   "cell_type": "markdown",
   "metadata": {
    "ExecuteTime": {
     "end_time": "2019-02-25T18:09:44.901934Z",
     "start_time": "2019-02-25T18:09:44.896629Z"
    }
   },
   "source": [
    "#TOPIC Modelling"
   ]
  },
  {
   "cell_type": "code",
   "execution_count": null,
   "metadata": {
    "ExecuteTime": {
     "end_time": "2019-02-28T20:50:11.427311Z",
     "start_time": "2019-02-28T20:50:11.419047Z"
    }
   },
   "outputs": [],
   "source": [
    "my_list =['understand','trying','learn','full','great','wrong' ,'knew','old','keep','new','isnt','part','remember','things','kind','wanted','someone','mean','possible','someone','found','leave','really','cannot','happened','last','feel','every','many','always','vessel','said','wont','ago','youll','doesnt','well','thing','get','another','three','know','im','dont','us','would','get','take','back','let','give','first','nine','nothing','would','energy','like', 'us','well','system',\"worf\",'able',\"starfleet\",\"sorry\",\"eight\",\"help\",\"enterprise\",\"perhaps\",\"look\",\"made\",\"give\",\"lets\",\"let\",\"better\",\"new\",\"youve\",\"enough\",\"left\",\"try\",\"id\",\"sure\",\"four\",\"doctor\",\"years\",\"hundred\",\"didnt\",\"point\",\"much\",\"work\",'hes',\"good\",\"might\",\"please\",\"human\",\"ready\",\"still\",\"whats\",\"man\",\"weve\",\"long\",\"people\",\"even\",\"nothing\",\"ever\",\"thank\",\"ship\",\"maybe\",\"find\",\"come\",\"got\",\"anything\",\"thought\",\"would\",\"believe\",\"cant\",\"little\",\"another\",\"never\",\"theres\",\"two\",\"three\",\"five\",'think',\"back\",\"think\",\"lieutenant\",'right',\"must\",\"first\",'need',\"im\",\"la\",\"mister\",\"go\",'tell','say','something','take','could','theyre','yes','ive','ill','make','time','may','going','way','thats','dont','know','youre','get','see','want','thing','life']"
   ]
  },
  {
   "cell_type": "code",
   "execution_count": null,
   "metadata": {
    "ExecuteTime": {
     "end_time": "2019-02-28T20:50:11.772151Z",
     "start_time": "2019-02-28T20:50:11.766111Z"
    }
   },
   "outputs": [],
   "source": [
    "stop_english= stopwords.words('english')"
   ]
  },
  {
   "cell_type": "code",
   "execution_count": null,
   "metadata": {
    "ExecuteTime": {
     "end_time": "2019-02-28T20:50:12.057040Z",
     "start_time": "2019-02-28T20:50:12.053979Z"
    }
   },
   "outputs": [],
   "source": [
    "stop_english.extend(my_list)"
   ]
  },
  {
   "cell_type": "code",
   "execution_count": null,
   "metadata": {
    "ExecuteTime": {
     "end_time": "2019-02-28T20:50:13.188452Z",
     "start_time": "2019-02-28T20:50:12.284195Z"
    }
   },
   "outputs": [],
   "source": [
    "cv = CountVectorizer(stop_words=stop_english,max_df=0.02)\n",
    "\n",
    "X=cv.fit_transform(tngspeech['post'])"
   ]
  },
  {
   "cell_type": "code",
   "execution_count": null,
   "metadata": {
    "ExecuteTime": {
     "end_time": "2019-02-28T20:50:13.197594Z",
     "start_time": "2019-02-28T20:50:13.191314Z"
    }
   },
   "outputs": [],
   "source": [
    "X.shape"
   ]
  },
  {
   "cell_type": "code",
   "execution_count": null,
   "metadata": {
    "ExecuteTime": {
     "end_time": "2019-02-28T20:50:14.049956Z",
     "start_time": "2019-02-28T20:50:13.199933Z"
    }
   },
   "outputs": [],
   "source": [
    "import pandas as pd\n",
    "\n",
    "pd.DataFrame(X.toarray(), index=tngspeech['post'], columns=cv.get_feature_names()).head(10)"
   ]
  },
  {
   "cell_type": "code",
   "execution_count": null,
   "metadata": {
    "ExecuteTime": {
     "end_time": "2019-02-28T20:50:17.622195Z",
     "start_time": "2019-02-28T20:50:14.053505Z"
    }
   },
   "outputs": [],
   "source": [
    "nmf_model = NMF(10)\n",
    "doc_topic = nmf_model.fit_transform(X)"
   ]
  },
  {
   "cell_type": "code",
   "execution_count": null,
   "metadata": {
    "ExecuteTime": {
     "end_time": "2019-02-28T20:50:17.719839Z",
     "start_time": "2019-02-28T20:50:17.624577Z"
    }
   },
   "outputs": [],
   "source": [
    "topic_word = pd.DataFrame(nmf_model.components_.round(3),\n",
    "             index = [\"component_1\",\"component_2\",\"component_3\",\"component_4\",\"component_5\",'component_6','component_7','component_8','component_9','component_10'],\n",
    "             columns = cv.get_feature_names())\n",
    "topic_word"
   ]
  },
  {
   "cell_type": "code",
   "execution_count": null,
   "metadata": {
    "ExecuteTime": {
     "end_time": "2019-02-28T20:50:17.730331Z",
     "start_time": "2019-02-28T20:50:17.723141Z"
    }
   },
   "outputs": [],
   "source": [
    "def display_topics(model, feature_names, no_top_words, topic_names=None):\n",
    "  #  nlist=[]\n",
    "   # llist=[]\n",
    "    for ix, topic in enumerate(model.components_):\n",
    "        if not topic_names or not topic_names[ix]:\n",
    "            print(\"\\nTopic \", ix)\n",
    "        else:\n",
    "            print(\"\\nTopic: '\",topic_names[ix],\"'\")\n",
    "        print(\", \".join([feature_names[i]\n",
    "                        for i in topic.argsort()[:-no_top_words - 1:-1]]))"
   ]
  },
  {
   "cell_type": "code",
   "execution_count": null,
   "metadata": {
    "ExecuteTime": {
     "end_time": "2019-02-28T20:50:17.742513Z",
     "start_time": "2019-02-28T20:50:17.734276Z"
    }
   },
   "outputs": [],
   "source": [
    "nmf_model.components_"
   ]
  },
  {
   "cell_type": "code",
   "execution_count": null,
   "metadata": {
    "ExecuteTime": {
     "end_time": "2019-02-28T20:50:17.806695Z",
     "start_time": "2019-02-28T20:50:17.745630Z"
    }
   },
   "outputs": [],
   "source": [
    "#5 TOPICS FOR THE WHOLE SERIES\n",
    "display_topics(nmf_model, cv.get_feature_names(), 10)"
   ]
  },
  {
   "cell_type": "code",
   "execution_count": null,
   "metadata": {
    "ExecuteTime": {
     "end_time": "2019-02-28T20:50:17.817734Z",
     "start_time": "2019-02-28T20:50:17.810563Z"
    }
   },
   "outputs": [],
   "source": [
    "nmf_model"
   ]
  },
  {
   "cell_type": "code",
   "execution_count": null,
   "metadata": {
    "ExecuteTime": {
     "end_time": "2019-02-28T20:50:17.908823Z",
     "start_time": "2019-02-28T20:50:17.821200Z"
    }
   },
   "outputs": [],
   "source": [
    "H = pd.DataFrame(doc_topic.round(5),\n",
    "tngspeech['post'],\n",
    "             columns = [\"component_1\",\"component_2\",'component_3','component_4','component_5','component_6','component_7','component_8','component_9','component_10' ])\n",
    "H"
   ]
  },
  {
   "cell_type": "code",
   "execution_count": null,
   "metadata": {
    "ExecuteTime": {
     "end_time": "2019-02-28T20:50:17.918978Z",
     "start_time": "2019-02-28T20:50:17.912787Z"
    }
   },
   "outputs": [],
   "source": [
    "len(H)"
   ]
  },
  {
   "cell_type": "code",
   "execution_count": null,
   "metadata": {
    "ExecuteTime": {
     "end_time": "2019-02-28T20:50:18.049999Z",
     "start_time": "2019-02-28T20:50:17.936230Z"
    }
   },
   "outputs": [],
   "source": [
    "H['topic'] = H[[\"component_1\",\"component_2\",'component_3','component_4','component_5','component_6','component_7','component_8','component_9','component_10' ]].idxmax(axis=1)"
   ]
  },
  {
   "cell_type": "code",
   "execution_count": null,
   "metadata": {
    "ExecuteTime": {
     "end_time": "2019-02-28T20:50:18.221372Z",
     "start_time": "2019-02-28T20:50:18.052860Z"
    }
   },
   "outputs": [],
   "source": [
    "tngspeech['topic'] = list(H.topic)"
   ]
  },
  {
   "cell_type": "code",
   "execution_count": null,
   "metadata": {
    "ExecuteTime": {
     "end_time": "2019-02-28T20:50:18.246324Z",
     "start_time": "2019-02-28T20:50:18.225151Z"
    }
   },
   "outputs": [],
   "source": [
    "tngspeech.head()"
   ]
  },
  {
   "cell_type": "code",
   "execution_count": null,
   "metadata": {
    "ExecuteTime": {
     "end_time": "2019-02-28T20:50:19.476976Z",
     "start_time": "2019-02-28T20:50:19.456639Z"
    }
   },
   "outputs": [],
   "source": [
    "tngspeech.head()"
   ]
  },
  {
   "cell_type": "code",
   "execution_count": null,
   "metadata": {
    "ExecuteTime": {
     "end_time": "2019-02-28T20:50:20.105927Z",
     "start_time": "2019-02-28T20:50:19.904154Z"
    }
   },
   "outputs": [],
   "source": [
    "tngspeech['topic']=tngspeech['topic'].str.replace('component_10','sickbay')"
   ]
  },
  {
   "cell_type": "code",
   "execution_count": null,
   "metadata": {
    "ExecuteTime": {
     "end_time": "2019-02-28T20:50:20.509739Z",
     "start_time": "2019-02-28T20:50:20.290741Z"
    }
   },
   "outputs": [],
   "source": [
    "tngspeech['topic']=tngspeech['topic'].str.replace('component_1','logentry')"
   ]
  },
  {
   "cell_type": "code",
   "execution_count": null,
   "metadata": {
    "ExecuteTime": {
     "end_time": "2019-02-28T20:50:20.863310Z",
     "start_time": "2019-02-28T20:50:20.656210Z"
    }
   },
   "outputs": [],
   "source": [
    "tngspeech['topic']=tngspeech['topic'].str.replace('component_2','greeting')"
   ]
  },
  {
   "cell_type": "code",
   "execution_count": null,
   "metadata": {
    "ExecuteTime": {
     "end_time": "2019-02-28T20:50:21.407437Z",
     "start_time": "2019-02-28T20:50:21.200894Z"
    }
   },
   "outputs": [],
   "source": [
    "tngspeech['topic']=tngspeech['topic'].str.replace('component_3','bridge')"
   ]
  },
  {
   "cell_type": "code",
   "execution_count": null,
   "metadata": {
    "ExecuteTime": {
     "end_time": "2019-02-28T20:50:21.927714Z",
     "start_time": "2019-02-28T20:50:21.713807Z"
    }
   },
   "outputs": [],
   "source": [
    "tngspeech['topic']=tngspeech['topic'].str.replace('component_4','awayteam')"
   ]
  },
  {
   "cell_type": "code",
   "execution_count": null,
   "metadata": {
    "ExecuteTime": {
     "end_time": "2019-02-28T20:50:22.366213Z",
     "start_time": "2019-02-28T20:50:22.142017Z"
    }
   },
   "outputs": [],
   "source": [
    "tngspeech['topic']=tngspeech['topic'].str.replace('component_5','engineering')"
   ]
  },
  {
   "cell_type": "code",
   "execution_count": null,
   "metadata": {
    "ExecuteTime": {
     "end_time": "2019-02-28T20:50:22.810936Z",
     "start_time": "2019-02-28T20:50:22.591959Z"
    }
   },
   "outputs": [],
   "source": [
    "tngspeech['topic']=tngspeech['topic'].str.replace('component_6','computer')"
   ]
  },
  {
   "cell_type": "code",
   "execution_count": null,
   "metadata": {
    "ExecuteTime": {
     "end_time": "2019-02-28T20:50:23.271566Z",
     "start_time": "2019-02-28T20:50:23.065542Z"
    }
   },
   "outputs": [],
   "source": [
    "tngspeech['topic']=tngspeech['topic'].str.replace('component_7','transporterroom')"
   ]
  },
  {
   "cell_type": "code",
   "execution_count": null,
   "metadata": {
    "ExecuteTime": {
     "end_time": "2019-02-28T20:50:23.690285Z",
     "start_time": "2019-02-28T20:50:23.463690Z"
    }
   },
   "outputs": [],
   "source": [
    "tngspeech['topic']=tngspeech['topic'].str.replace('component_8','characters')"
   ]
  },
  {
   "cell_type": "code",
   "execution_count": null,
   "metadata": {
    "ExecuteTime": {
     "end_time": "2019-02-28T20:50:24.082654Z",
     "start_time": "2019-02-28T20:50:23.859940Z"
    }
   },
   "outputs": [],
   "source": [
    "tngspeech['topic']=tngspeech['topic'].str.replace('component_9','shipstatus')"
   ]
  },
  {
   "cell_type": "code",
   "execution_count": null,
   "metadata": {
    "ExecuteTime": {
     "end_time": "2019-02-28T20:50:24.866164Z",
     "start_time": "2019-02-28T20:50:24.778937Z"
    }
   },
   "outputs": [],
   "source": [
    "tngspeech.info()"
   ]
  },
  {
   "cell_type": "code",
   "execution_count": null,
   "metadata": {
    "ExecuteTime": {
     "end_time": "2019-02-28T20:50:27.041669Z",
     "start_time": "2019-02-28T20:50:27.031439Z"
    }
   },
   "outputs": [],
   "source": [
    "tngspeech['post']"
   ]
  },
  {
   "cell_type": "code",
   "execution_count": null,
   "metadata": {
    "ExecuteTime": {
     "end_time": "2019-02-28T20:50:27.598541Z",
     "start_time": "2019-02-28T20:50:27.565638Z"
    }
   },
   "outputs": [],
   "source": [
    "filter1=tngspeech.groupby(['Season','topic'])['who'].value_counts()"
   ]
  },
  {
   "cell_type": "code",
   "execution_count": null,
   "metadata": {
    "ExecuteTime": {
     "end_time": "2019-02-28T20:50:28.078276Z",
     "start_time": "2019-02-28T20:50:28.069334Z"
    }
   },
   "outputs": [],
   "source": [
    "filter1 = filter1.reset_index(name='count')"
   ]
  },
  {
   "cell_type": "code",
   "execution_count": null,
   "metadata": {
    "ExecuteTime": {
     "end_time": "2019-02-28T20:50:28.474534Z",
     "start_time": "2019-02-28T20:50:28.445325Z"
    }
   },
   "outputs": [],
   "source": [
    "filter1.sort_values(['Season','topic','count'],ascending=False).groupby(['Season','topic']).head(8)"
   ]
  },
  {
   "cell_type": "code",
   "execution_count": null,
   "metadata": {
    "ExecuteTime": {
     "end_time": "2019-02-28T20:50:28.857431Z",
     "start_time": "2019-02-28T20:50:28.835185Z"
    }
   },
   "outputs": [],
   "source": [
    "filter2=tngspeech.groupby(['Season'])['who'].value_counts()"
   ]
  },
  {
   "cell_type": "code",
   "execution_count": null,
   "metadata": {
    "ExecuteTime": {
     "end_time": "2019-02-28T20:50:29.286693Z",
     "start_time": "2019-02-28T20:50:29.253184Z"
    }
   },
   "outputs": [],
   "source": [
    "filter2 = filter2.reset_index(name='count')\n",
    "filter2.sort_values(['Season','count'],ascending=False).groupby(['Season']).head(8)"
   ]
  },
  {
   "cell_type": "code",
   "execution_count": null,
   "metadata": {
    "ExecuteTime": {
     "end_time": "2019-02-28T20:50:29.656300Z",
     "start_time": "2019-02-28T20:50:29.652241Z"
    }
   },
   "outputs": [],
   "source": [
    "from IPython.display import display\n",
    "\n",
    "def show_more(df, lines):\n",
    "    foo = 1\n",
    "    display(df)\n",
    "    foo = 2   "
   ]
  },
  {
   "cell_type": "code",
   "execution_count": null,
   "metadata": {
    "ExecuteTime": {
     "end_time": "2019-02-28T20:50:30.719265Z",
     "start_time": "2019-02-28T20:50:30.653378Z"
    }
   },
   "outputs": [],
   "source": [
    "with pd.option_context('display.max_rows', 999):\n",
    "    print (filter1)   "
   ]
  },
  {
   "cell_type": "code",
   "execution_count": null,
   "metadata": {
    "ExecuteTime": {
     "end_time": "2019-02-28T20:50:31.162064Z",
     "start_time": "2019-02-28T20:50:31.151386Z"
    }
   },
   "outputs": [],
   "source": [
    "mask=(tngspeech['who']=='PICARD')"
   ]
  },
  {
   "cell_type": "code",
   "execution_count": null,
   "metadata": {
    "ExecuteTime": {
     "end_time": "2019-02-28T20:50:31.696608Z",
     "start_time": "2019-02-28T20:50:31.685830Z"
    }
   },
   "outputs": [],
   "source": [
    "tngpicard = tngspeech[mask]"
   ]
  },
  {
   "cell_type": "code",
   "execution_count": null,
   "metadata": {
    "ExecuteTime": {
     "end_time": "2019-02-28T20:50:33.263334Z",
     "start_time": "2019-02-28T20:50:32.182111Z"
    }
   },
   "outputs": [],
   "source": [
    "#tngpicard\n",
    "import matplotlib.pyplot as plt\n",
    "plt.figure(figsize=(20,10))\n",
    "gather=tngspeech.groupby('Season')['topic'].value_counts(normalize=True)\n",
    "gather.plot(kind='bar')\n",
    "plt.show()"
   ]
  },
  {
   "cell_type": "code",
   "execution_count": null,
   "metadata": {
    "ExecuteTime": {
     "end_time": "2019-02-28T20:50:34.633525Z",
     "start_time": "2019-02-28T20:50:34.628595Z"
    }
   },
   "outputs": [],
   "source": [
    "def display_topics(model, feature_names, no_top_words, topic_names=None):\n",
    "    for ix, topic in enumerate(model.components_):\n",
    "        if not topic_names or not topic_names[ix]:\n",
    "            print(\"\\nTopic \", ix)\n",
    "        else:\n",
    "            print(\"\\nTopic: '\",topic_names[ix],\"'\")\n",
    "        print(\", \".join([feature_names[i]\n",
    "                        for i in topic.argsort()[:-no_top_words - 1:-1]]))"
   ]
  },
  {
   "cell_type": "code",
   "execution_count": null,
   "metadata": {
    "ExecuteTime": {
     "end_time": "2019-02-28T20:50:35.251749Z",
     "start_time": "2019-02-28T20:50:35.245462Z"
    }
   },
   "outputs": [],
   "source": [
    "def display_topics1(model, feature_names, no_top_words, topic_names=None):\n",
    "  #  nlist=[]\n",
    "    llist=[]\n",
    "    for ix,topic in enumerate(model.components_):\n",
    "       # if not topic_names or not topic_names[ix]:\n",
    "           #\n",
    "            #print(\"\\nTopic \")\n",
    "        #else:\n",
    "        #print(\"\\nTopic: '\",topic_names,\"'\")\n",
    "        llist.append(\" \".join([feature_names[i]\n",
    "                        for i in topic.argsort()[:-no_top_words - 1:-1]]))\n",
    "    return llist"
   ]
  },
  {
   "cell_type": "code",
   "execution_count": null,
   "metadata": {
    "ExecuteTime": {
     "end_time": "2019-02-28T20:50:35.750010Z",
     "start_time": "2019-02-28T20:50:35.713213Z"
    }
   },
   "outputs": [],
   "source": [
    "list1=display_topics1(nmf_model, cv.get_feature_names(), 10)"
   ]
  },
  {
   "cell_type": "code",
   "execution_count": null,
   "metadata": {
    "ExecuteTime": {
     "end_time": "2019-02-28T20:50:36.074580Z",
     "start_time": "2019-02-28T20:50:36.068816Z"
    }
   },
   "outputs": [],
   "source": [
    "# def display_topics1(model, feature_names, no_top_words, topic_names=None):\n",
    "#   #  nlist=[]\n",
    "#     llist=[]\n",
    "#     for ix,topic in enumerate(model.components_):\n",
    "#        # if not topic_names or not topic_names[ix]:\n",
    "#            #\n",
    "#             #print(\"\\nTopic \")\n",
    "#         #else:\n",
    "#         #print(\"\\nTopic: '\",topic_names,\"'\")\n",
    "#         print(\" \".join([feature_names[i]\n",
    "#                         for i in topic.argsort()[:-no_top_words - 1:-1]]))"
   ]
  },
  {
   "cell_type": "code",
   "execution_count": null,
   "metadata": {
    "ExecuteTime": {
     "end_time": "2019-02-28T20:50:36.406840Z",
     "start_time": "2019-02-28T20:50:36.369391Z"
    }
   },
   "outputs": [],
   "source": [
    "display_topics1(nmf_model, cv.get_feature_names(), 10)"
   ]
  },
  {
   "cell_type": "code",
   "execution_count": null,
   "metadata": {
    "ExecuteTime": {
     "end_time": "2019-02-28T22:13:42.187672Z",
     "start_time": "2019-02-28T22:13:40.218173Z"
    }
   },
   "outputs": [],
   "source": [
    "import matplotlib.pyplot as plt\n",
    "from wordcloud import WordCloud, STOPWORDS \n",
    "\n",
    "text = 'sir thank hailing frequencies us nothing beam believe sorry ferengi\\\\\n",
    "captain picard ships information sensors indicate vessel hailed systems energy\\\n",
    "one would angel meters might elements true enterprise life odin\\\\\n",
    "commander time doctor minutes go information outpost ahead riker late\\\\\n",
    "years two ago hundred ornara thousand much system seven planets'\n",
    "#text = str(display_topics1(nmf_model, cv.get_feature_names(), 10))\n",
    "def generate_wordcloud(text): # optionally add: stopwords=STOPWORDS and change the arg below\n",
    "#     wordcloud = WordCloud(font_path='/Library/Fonts/Verdana.ttf',\n",
    "#                           relative_scaling = 0.5,\n",
    "#                           stopwords = {'to', 'of'} # set or space-separated string\n",
    "#                           ).generate(text)\n",
    "#     plt.imshow(wordcloud)\n",
    "#     plt.axis(\"off\")\n",
    "#     plt.show()\n",
    "    wordcloud = WordCloud(background_color=\"black\").generate(text)\n",
    "    plt.imshow(wordcloud, interpolation='bilinear')\n",
    "    plt.axis(\"off\")\n",
    "    plt.show()\n",
    "    \n",
    "def generate_wc(ilist):\n",
    "    for i in range(0, len(ilist)):\n",
    "        generate_wordcloud(ilist[i])\n",
    "    \n",
    "generate_wc(list1)"
   ]
  },
  {
   "cell_type": "code",
   "execution_count": null,
   "metadata": {
    "ExecuteTime": {
     "end_time": "2019-02-26T20:03:27.593029Z",
     "start_time": "2019-02-26T20:03:27.589832Z"
    }
   },
   "outputs": [],
   "source": [
    "#tngspeech['who']=tngspeech['who'].str.strip()"
   ]
  },
  {
   "cell_type": "code",
   "execution_count": null,
   "metadata": {
    "ExecuteTime": {
     "end_time": "2019-02-28T20:51:25.635246Z",
     "start_time": "2019-02-28T20:51:25.614091Z"
    }
   },
   "outputs": [],
   "source": [
    "tngspeech['who'].value_counts()"
   ]
  },
  {
   "cell_type": "code",
   "execution_count": null,
   "metadata": {
    "ExecuteTime": {
     "end_time": "2019-02-28T20:51:26.894908Z",
     "start_time": "2019-02-28T20:51:26.866950Z"
    }
   },
   "outputs": [],
   "source": [
    "#tngspeech.groupby('who').value_counts()\n",
    "\n",
    "#grouped = tngspeech.groupby('who').value_counts()\n",
    "#print grouped['Points'].agg(np.mean)\n",
    "call=tngspeech.groupby(['who'])['post'].count().reset_index().sort_values(by='post',ascending=False).head(20)\n",
    "call.reset_index(drop=True)"
   ]
  },
  {
   "cell_type": "code",
   "execution_count": null,
   "metadata": {
    "ExecuteTime": {
     "end_time": "2019-02-28T20:51:27.658510Z",
     "start_time": "2019-02-28T20:51:27.294057Z"
    }
   },
   "outputs": [],
   "source": [
    "call.plot.bar(x='who',  y='post', rot=0,fontsize =10,color=(0.2, 0.4, 0.6, 0.6))\n",
    "plt.xticks(rotation='vertical',fontsize=10)\n",
    "plt.ylabel('COUNT',fontsize=10)\n",
    "plt.suptitle('Top 20 characters who speak', fontsize=35)\n",
    "plt.legend(loc='best', fontsize=10)"
   ]
  },
  {
   "cell_type": "markdown",
   "metadata": {
    "ExecuteTime": {
     "end_time": "2019-02-25T19:03:37.824369Z",
     "start_time": "2019-02-25T19:03:37.820662Z"
    },
    "heading_collapsed": true
   },
   "source": [
    "# analysis of season 1"
   ]
  },
  {
   "cell_type": "code",
   "execution_count": null,
   "metadata": {
    "ExecuteTime": {
     "end_time": "2019-02-28T20:51:29.095751Z",
     "start_time": "2019-02-28T20:51:29.039209Z"
    },
    "hidden": true
   },
   "outputs": [],
   "source": [
    "mask=(tngspeech['Season']==1.0)\n",
    "tngseason1=tngspeech[mask]\n",
    "tngseason1"
   ]
  },
  {
   "cell_type": "code",
   "execution_count": null,
   "metadata": {
    "ExecuteTime": {
     "end_time": "2019-02-28T20:51:29.797989Z",
     "start_time": "2019-02-28T20:51:29.760458Z"
    },
    "hidden": true
   },
   "outputs": [],
   "source": [
    "#tngseason1.drop(columns=[\"component_1\",\"component_2\",'component_3','component_4','component_5','component_6','component_7','component_8','component_9','component_10' ], inplace=True)\n",
    "tngseason1.drop(columns=['0','productionnumber', 'setnames','characters','act','scenenumber',\"scenedetails\",\"partnumber\",'speechdescription','imdbID' ])"
   ]
  },
  {
   "cell_type": "code",
   "execution_count": null,
   "metadata": {
    "ExecuteTime": {
     "end_time": "2019-02-28T20:51:30.982349Z",
     "start_time": "2019-02-28T20:51:30.964014Z"
    },
    "hidden": true
   },
   "outputs": [],
   "source": [
    "tngseason1.head()"
   ]
  },
  {
   "cell_type": "code",
   "execution_count": null,
   "metadata": {
    "ExecuteTime": {
     "end_time": "2019-02-28T20:51:31.433605Z",
     "start_time": "2019-02-28T20:51:31.430483Z"
    },
    "hidden": true
   },
   "outputs": [],
   "source": [
    "#tngseason1=tngspeech[mask]"
   ]
  },
  {
   "cell_type": "code",
   "execution_count": null,
   "metadata": {
    "ExecuteTime": {
     "end_time": "2019-02-28T20:51:31.840906Z",
     "start_time": "2019-02-28T20:51:31.812443Z"
    },
    "hidden": true
   },
   "outputs": [],
   "source": [
    "tngseason1.drop(columns=['0','productionnumber', 'setnames','characters','act','scenenumber',\"scenedetails\",\"partnumber\",'speechdescription','imdbRating','imdbID' ], inplace=True)"
   ]
  },
  {
   "cell_type": "code",
   "execution_count": null,
   "metadata": {
    "ExecuteTime": {
     "end_time": "2019-02-28T20:51:32.066132Z",
     "start_time": "2019-02-28T20:51:32.045590Z"
    },
    "hidden": true
   },
   "outputs": [],
   "source": [
    "tngseason1.head()"
   ]
  },
  {
   "cell_type": "code",
   "execution_count": null,
   "metadata": {
    "ExecuteTime": {
     "end_time": "2019-02-28T20:51:32.277019Z",
     "start_time": "2019-02-28T20:51:32.273590Z"
    },
    "hidden": true
   },
   "outputs": [],
   "source": [
    "# my_list =['im', 'sorry', 'going', 'sure', 'must', 'first', 'course', tell, ive, whats,thank', 'good', 'still', 'perform', 'lost', 'enterprise', 'ill', 'right','know', 'dont', 'understand', 'think', 'youre', 'even', 'time', 'much', 'cant', 'anything','us', 'would', 'get', 'take', 'well', 'want', 'back', 'need', 'life', 'see','like','yes', 'aye', 'just', 'like', 'way', 'power', 'theyre','may','could', 'something', 'open', 'point', 'show', 'ready']"
   ]
  },
  {
   "cell_type": "code",
   "execution_count": null,
   "metadata": {
    "ExecuteTime": {
     "end_time": "2019-02-28T20:51:32.483240Z",
     "start_time": "2019-02-28T20:51:32.476368Z"
    },
    "hidden": true
   },
   "outputs": [],
   "source": [
    "stop_english= stopwords.words('english')"
   ]
  },
  {
   "cell_type": "code",
   "execution_count": null,
   "metadata": {
    "ExecuteTime": {
     "end_time": "2019-02-28T20:51:32.685208Z",
     "start_time": "2019-02-28T20:51:32.681417Z"
    },
    "hidden": true
   },
   "outputs": [],
   "source": [
    "stop_english.extend(my_list)"
   ]
  },
  {
   "cell_type": "code",
   "execution_count": null,
   "metadata": {
    "ExecuteTime": {
     "end_time": "2019-02-28T20:51:33.031373Z",
     "start_time": "2019-02-28T20:51:32.895459Z"
    },
    "hidden": true
   },
   "outputs": [],
   "source": [
    "cv = CountVectorizer(stop_words=stop_english)\n",
    "\n",
    "s1=cv.fit_transform(tngseason1['post'])"
   ]
  },
  {
   "cell_type": "code",
   "execution_count": null,
   "metadata": {
    "ExecuteTime": {
     "end_time": "2019-02-28T20:51:33.234626Z",
     "start_time": "2019-02-28T20:51:33.112029Z"
    },
    "hidden": true
   },
   "outputs": [],
   "source": [
    "import pandas as pd\n",
    "\n",
    "pd.DataFrame(s1.toarray(), index=tngseason1['post'], columns=cv.get_feature_names()).head(10)"
   ]
  },
  {
   "cell_type": "code",
   "execution_count": null,
   "metadata": {
    "ExecuteTime": {
     "end_time": "2019-02-28T20:51:33.860359Z",
     "start_time": "2019-02-28T20:51:33.311462Z"
    },
    "hidden": true
   },
   "outputs": [],
   "source": [
    "nmf_model = NMF(10)\n",
    "doc_topic = nmf_model.fit_transform(s1)"
   ]
  },
  {
   "cell_type": "code",
   "execution_count": null,
   "metadata": {
    "ExecuteTime": {
     "end_time": "2019-02-28T20:51:33.926126Z",
     "start_time": "2019-02-28T20:51:33.863605Z"
    },
    "hidden": true
   },
   "outputs": [],
   "source": [
    "topic_word1 = pd.DataFrame(nmf_model.components_.round(3),\n",
    "             index = [\"component_1\",\"component_2\",'component_3','component_4','component_5','component_6','component_7','component_8','component_9','component_10' ],\n",
    "             columns = cv.get_feature_names())\n",
    "topic_word1"
   ]
  },
  {
   "cell_type": "code",
   "execution_count": null,
   "metadata": {
    "ExecuteTime": {
     "end_time": "2019-02-28T20:51:33.937003Z",
     "start_time": "2019-02-28T20:51:33.929312Z"
    },
    "hidden": true
   },
   "outputs": [],
   "source": [
    "nmf_model.components_"
   ]
  },
  {
   "cell_type": "code",
   "execution_count": null,
   "metadata": {
    "ExecuteTime": {
     "end_time": "2019-02-28T20:51:33.969050Z",
     "start_time": "2019-02-28T20:51:33.940231Z"
    },
    "hidden": true
   },
   "outputs": [],
   "source": [
    "#5 TOPICS FOR S1\n",
    "display_topics(nmf_model, cv.get_feature_names(), 10)"
   ]
  },
  {
   "cell_type": "markdown",
   "metadata": {
    "ExecuteTime": {
     "end_time": "2019-02-25T19:04:44.404722Z",
     "start_time": "2019-02-25T19:04:11.980Z"
    }
   },
   "source": [
    "# DATA ANALYSIS"
   ]
  },
  {
   "cell_type": "code",
   "execution_count": null,
   "metadata": {
    "ExecuteTime": {
     "end_time": "2019-02-28T20:51:35.091903Z",
     "start_time": "2019-02-28T20:51:34.524979Z"
    }
   },
   "outputs": [],
   "source": [
    "nlp = spacy.load('en', disable=['ner', 'parser'])"
   ]
  },
  {
   "cell_type": "code",
   "execution_count": null,
   "metadata": {
    "ExecuteTime": {
     "end_time": "2019-02-28T20:51:35.102893Z",
     "start_time": "2019-02-28T20:51:35.095428Z"
    }
   },
   "outputs": [],
   "source": [
    "def cleaning(doc):\n",
    "    # Lemmatizes and removes stopwords\n",
    "    # doc needs to be a spacy Doc object\n",
    "    txt = [token.lemma_ for token in doc if not token.is_stop]\n",
    "    # Word2Vec uses context words to learn the vector representation of a target word,\n",
    "    # if a sentence is only one or two words long,\n",
    "    # the benefit for the training is very small\n",
    "    if len(txt) > 2:\n",
    "        return ' '.join(txt)"
   ]
  },
  {
   "cell_type": "code",
   "execution_count": null,
   "metadata": {
    "ExecuteTime": {
     "end_time": "2019-02-28T20:51:35.115660Z",
     "start_time": "2019-02-28T20:51:35.107163Z"
    }
   },
   "outputs": [],
   "source": [
    "brief_cleaning = (re.sub(\"[^A-Za-z']+\", ' ', str(row)).lower() for row in tngspeech['text'])"
   ]
  },
  {
   "cell_type": "code",
   "execution_count": null,
   "metadata": {
    "ExecuteTime": {
     "end_time": "2019-02-28T20:52:44.067737Z",
     "start_time": "2019-02-28T20:51:35.203331Z"
    }
   },
   "outputs": [],
   "source": [
    "import datetime\n",
    "import time\n",
    "import re\n",
    "\n",
    "t = time.time()\n",
    "\n",
    "txt = [cleaning(doc) for doc in nlp.pipe(brief_cleaning, batch_size=5000, n_threads=-1)]\n",
    "\n",
    "print('Time to clean up everything: {} mins'.format(round((time.time() - t) / 60, 2)))"
   ]
  },
  {
   "cell_type": "code",
   "execution_count": null,
   "metadata": {
    "ExecuteTime": {
     "end_time": "2019-02-28T20:52:44.212627Z",
     "start_time": "2019-02-28T20:52:44.071690Z"
    }
   },
   "outputs": [],
   "source": [
    "df_clean = pd.DataFrame({'clean': txt})\n",
    "df_clean = df_clean.dropna().drop_duplicates()\n",
    "df_clean.shape"
   ]
  },
  {
   "cell_type": "code",
   "execution_count": null,
   "metadata": {
    "ExecuteTime": {
     "end_time": "2019-02-28T20:52:44.219646Z",
     "start_time": "2019-02-28T20:52:44.215634Z"
    }
   },
   "outputs": [],
   "source": [
    "from gensim.models.phrases import Phrases, Phraser"
   ]
  },
  {
   "cell_type": "code",
   "execution_count": null,
   "metadata": {
    "ExecuteTime": {
     "end_time": "2019-02-28T20:52:44.460354Z",
     "start_time": "2019-02-28T20:52:44.223663Z"
    }
   },
   "outputs": [],
   "source": [
    "sent = [row.split() for row in df_clean['clean']]"
   ]
  },
  {
   "cell_type": "code",
   "execution_count": null,
   "metadata": {
    "ExecuteTime": {
     "end_time": "2019-02-28T20:52:45.232039Z",
     "start_time": "2019-02-28T20:52:44.463866Z"
    }
   },
   "outputs": [],
   "source": [
    "phrases = Phrases(sent, min_count=30, progress_per=10000)"
   ]
  },
  {
   "cell_type": "code",
   "execution_count": null,
   "metadata": {
    "ExecuteTime": {
     "end_time": "2019-02-28T20:52:47.462737Z",
     "start_time": "2019-02-28T20:52:45.237441Z"
    }
   },
   "outputs": [],
   "source": [
    "bigram = Phraser(phrases)"
   ]
  },
  {
   "cell_type": "code",
   "execution_count": null,
   "metadata": {
    "ExecuteTime": {
     "end_time": "2019-02-28T20:52:47.483431Z",
     "start_time": "2019-02-28T20:52:47.466285Z"
    }
   },
   "outputs": [],
   "source": [
    "sentences = bigram[sent]"
   ]
  },
  {
   "cell_type": "code",
   "execution_count": null,
   "metadata": {
    "ExecuteTime": {
     "end_time": "2019-02-28T20:52:48.974767Z",
     "start_time": "2019-02-28T20:52:47.486360Z"
    }
   },
   "outputs": [],
   "source": [
    "import collections\n",
    "word_freq = collections.defaultdict(int)\n",
    "for sent in sentences:\n",
    "    for i in sent:\n",
    "        word_freq[i] += 1\n",
    "len(word_freq)"
   ]
  },
  {
   "cell_type": "code",
   "execution_count": null,
   "metadata": {
    "ExecuteTime": {
     "end_time": "2019-02-28T20:52:48.992011Z",
     "start_time": "2019-02-28T20:52:48.980725Z"
    }
   },
   "outputs": [],
   "source": [
    "sorted(word_freq, key=word_freq.get, reverse=True)[:10]"
   ]
  },
  {
   "cell_type": "code",
   "execution_count": null,
   "metadata": {
    "ExecuteTime": {
     "end_time": "2019-02-28T20:52:49.001140Z",
     "start_time": "2019-02-28T20:52:48.995151Z"
    }
   },
   "outputs": [],
   "source": [
    "import multiprocessing\n",
    "\n",
    "from gensim.models import Word2Vec"
   ]
  },
  {
   "cell_type": "code",
   "execution_count": null,
   "metadata": {
    "ExecuteTime": {
     "end_time": "2019-02-28T20:52:49.012831Z",
     "start_time": "2019-02-28T20:52:49.007036Z"
    }
   },
   "outputs": [],
   "source": [
    "cores = multiprocessing.cpu_count() # Count the number of cores in a computer"
   ]
  },
  {
   "cell_type": "code",
   "execution_count": null,
   "metadata": {
    "ExecuteTime": {
     "end_time": "2019-02-28T20:52:49.026361Z",
     "start_time": "2019-02-28T20:52:49.015964Z"
    }
   },
   "outputs": [],
   "source": [
    "w2v_model = Word2Vec(min_count=20,\n",
    "                     window=2,\n",
    "                     size=300,\n",
    "                     sample=6e-5, \n",
    "                     alpha=0.03, \n",
    "                     min_alpha=0.0007, \n",
    "                     negative=20,\n",
    "                     workers=cores-1)"
   ]
  },
  {
   "cell_type": "code",
   "execution_count": null,
   "metadata": {
    "ExecuteTime": {
     "end_time": "2019-02-28T20:52:51.047631Z",
     "start_time": "2019-02-28T20:52:49.029496Z"
    }
   },
   "outputs": [],
   "source": [
    "t = time.time()\n",
    "\n",
    "w2v_model.build_vocab(sentences, progress_per=10000)\n",
    "\n",
    "print('Time to build vocab: {} mins'.format(round((time.time() - t) / 60, 2)))"
   ]
  },
  {
   "cell_type": "code",
   "execution_count": null,
   "metadata": {
    "ExecuteTime": {
     "end_time": "2019-02-28T20:53:44.937923Z",
     "start_time": "2019-02-28T20:52:51.051621Z"
    }
   },
   "outputs": [],
   "source": [
    "t = time.time()\n",
    "\n",
    "w2v_model.train(sentences, total_examples=w2v_model.corpus_count, epochs=30, report_delay=1)\n",
    "\n",
    "print('Time to train the model: {} mins'.format(round((time.time() - t) / 60, 2)))"
   ]
  },
  {
   "cell_type": "code",
   "execution_count": null,
   "metadata": {
    "ExecuteTime": {
     "end_time": "2019-02-28T16:52:41.538563Z",
     "start_time": "2019-02-28T16:52:41.498850Z"
    }
   },
   "outputs": [],
   "source": [
    "w2v_model.init_sims(replace=True)"
   ]
  },
  {
   "cell_type": "code",
   "execution_count": null,
   "metadata": {
    "ExecuteTime": {
     "end_time": "2019-02-28T16:52:41.553439Z",
     "start_time": "2019-02-28T16:52:41.543409Z"
    }
   },
   "outputs": [],
   "source": [
    "w2v_model.wv.most_similar(positive=[\"picard\"])"
   ]
  },
  {
   "cell_type": "code",
   "execution_count": null,
   "metadata": {
    "ExecuteTime": {
     "end_time": "2019-02-28T16:52:41.567693Z",
     "start_time": "2019-02-28T16:52:41.556998Z"
    }
   },
   "outputs": [],
   "source": [
    "w2v_model.wv.most_similar(positive=[\"jean_luc\"])"
   ]
  },
  {
   "cell_type": "code",
   "execution_count": null,
   "metadata": {
    "ExecuteTime": {
     "end_time": "2019-02-28T16:52:41.585769Z",
     "start_time": "2019-02-28T16:52:41.571245Z"
    }
   },
   "outputs": [],
   "source": [
    "w2v_model.wv.most_similar(positive=[\"riker\"])"
   ]
  },
  {
   "cell_type": "code",
   "execution_count": null,
   "metadata": {
    "ExecuteTime": {
     "end_time": "2019-02-28T16:52:41.600720Z",
     "start_time": "2019-02-28T16:52:41.589516Z"
    }
   },
   "outputs": [],
   "source": [
    "w2v_model.wv.most_similar(positive=[\"data\"])"
   ]
  },
  {
   "cell_type": "code",
   "execution_count": null,
   "metadata": {
    "ExecuteTime": {
     "end_time": "2019-02-28T16:52:41.612618Z",
     "start_time": "2019-02-28T16:52:41.604048Z"
    }
   },
   "outputs": [],
   "source": [
    "w2v_model.wv.most_similar(positive=[\"geordi\"])"
   ]
  },
  {
   "cell_type": "code",
   "execution_count": null,
   "metadata": {
    "ExecuteTime": {
     "end_time": "2019-02-28T16:52:41.624119Z",
     "start_time": "2019-02-28T16:52:41.616031Z"
    }
   },
   "outputs": [],
   "source": [
    "w2v_model.wv.most_similar(positive=[\"crusher\"])"
   ]
  },
  {
   "cell_type": "code",
   "execution_count": null,
   "metadata": {
    "ExecuteTime": {
     "end_time": "2019-02-28T16:52:41.636417Z",
     "start_time": "2019-02-28T16:52:41.628037Z"
    }
   },
   "outputs": [],
   "source": [
    "w2v_model.wv.most_similar(positive=[\"troi\"])"
   ]
  },
  {
   "cell_type": "code",
   "execution_count": null,
   "metadata": {
    "ExecuteTime": {
     "end_time": "2019-02-28T16:52:41.649274Z",
     "start_time": "2019-02-28T16:52:41.640202Z"
    }
   },
   "outputs": [],
   "source": [
    "w2v_model.wv.most_similar(positive=[\"worf\"])"
   ]
  },
  {
   "cell_type": "code",
   "execution_count": null,
   "metadata": {
    "ExecuteTime": {
     "end_time": "2019-02-28T16:52:41.661529Z",
     "start_time": "2019-02-28T16:52:41.652505Z"
    }
   },
   "outputs": [],
   "source": [
    "w2v_model.wv.most_similar(positive=[\"tasha\"])"
   ]
  },
  {
   "cell_type": "code",
   "execution_count": null,
   "metadata": {
    "ExecuteTime": {
     "end_time": "2019-02-28T16:52:41.673121Z",
     "start_time": "2019-02-28T16:52:41.664752Z"
    }
   },
   "outputs": [],
   "source": [
    "w2v_model.wv.most_similar(positive=[\"beverly\"])"
   ]
  },
  {
   "cell_type": "code",
   "execution_count": null,
   "metadata": {
    "ExecuteTime": {
     "end_time": "2019-02-28T16:52:41.685524Z",
     "start_time": "2019-02-28T16:52:41.676924Z"
    }
   },
   "outputs": [],
   "source": [
    "w2v_model.wv.most_similar(positive=[\"wesley\"])"
   ]
  },
  {
   "cell_type": "code",
   "execution_count": null,
   "metadata": {
    "ExecuteTime": {
     "end_time": "2019-02-28T16:52:41.694800Z",
     "start_time": "2019-02-28T16:52:41.688923Z"
    }
   },
   "outputs": [],
   "source": [
    "#w2v_model.wv.most_similar(positive=[\"pulaski\"])"
   ]
  },
  {
   "cell_type": "code",
   "execution_count": null,
   "metadata": {
    "ExecuteTime": {
     "end_time": "2019-02-28T16:52:41.702865Z",
     "start_time": "2019-02-28T16:52:41.698580Z"
    }
   },
   "outputs": [],
   "source": [
    "#TSNE Visualizations"
   ]
  },
  {
   "cell_type": "code",
   "execution_count": null,
   "metadata": {
    "ExecuteTime": {
     "end_time": "2019-02-25T23:20:20.562828Z",
     "start_time": "2019-02-25T23:19:29.360Z"
    }
   },
   "outputs": [],
   "source": [
    "import numpy as np\n",
    "import matplotlib.pyplot as plt\n",
    "%matplotlib inline\n",
    " \n",
    "import seaborn as sns\n",
    "sns.set_style(\"darkgrid\")\n",
    "\n",
    "from sklearn.decomposition import PCA\n",
    "from sklearn.manifold import TSNE"
   ]
  },
  {
   "cell_type": "code",
   "execution_count": null,
   "metadata": {
    "ExecuteTime": {
     "end_time": "2019-02-25T23:20:20.564934Z",
     "start_time": "2019-02-25T23:19:29.716Z"
    }
   },
   "outputs": [],
   "source": [
    "def tsnescatterplot(model, word, list_names):\n",
    "    \"\"\" Plot in seaborn the results from the t-SNE dimensionality reduction algorithm of the vectors of a query word,\n",
    "    its list of most similar words, and a list of words.\n",
    "    \"\"\"\n",
    "    arrays = np.empty((0, 300), dtype='f')\n",
    "    word_labels = [word]\n",
    "    color_list  = ['red']\n",
    "\n",
    "    # adds the vector of the query word\n",
    "    arrays = np.append(arrays, model.wv.__getitem__([word]), axis=0)\n",
    "    \n",
    "    # gets list of most similar words\n",
    "    close_words = model.wv.most_similar([word])\n",
    "    \n",
    "    # adds the vector for each of the closest words to the array\n",
    "    for wrd_score in close_words:\n",
    "        wrd_vector = model.wv.__getitem__([wrd_score[0]])\n",
    "        word_labels.append(wrd_score[0])\n",
    "        color_list.append('blue')\n",
    "        arrays = np.append(arrays, wrd_vector, axis=0)\n",
    "    \n",
    "    # adds the vector for each of the words from list_names to the array\n",
    "    for wrd in list_names:\n",
    "        wrd_vector = model.wv.__getitem__([wrd])\n",
    "        word_labels.append(wrd)\n",
    "        color_list.append('green')\n",
    "        arrays = np.append(arrays, wrd_vector, axis=0)\n",
    "        \n",
    "    # Reduces the dimensionality from 300 to 50 dimensions with PCA\n",
    "    reduc = PCA(n_components=20).fit_transform(arrays)\n",
    "    \n",
    "    # Finds t-SNE coordinates for 2 dimensions\n",
    "    np.set_printoptions(suppress=True)\n",
    "    \n",
    "    Y = TSNE(n_components=2, random_state=0, perplexity=15).fit_transform(reduc)\n",
    "    \n",
    "    # Sets everything up to plot\n",
    "    df = pd.DataFrame({'x': [x for x in Y[:, 0]],\n",
    "                       'y': [y for y in Y[:, 1]],\n",
    "                       'words': word_labels,\n",
    "                       'color': color_list})\n",
    "    \n",
    "    fig, _ = plt.subplots()\n",
    "    fig.set_size_inches(9, 9)\n",
    "    \n",
    "    # Basic plot\n",
    "    p1 = sns.regplot(data=df,\n",
    "                     x=\"x\",\n",
    "                     y=\"y\",\n",
    "                     fit_reg=False,\n",
    "                     marker=\"o\",\n",
    "                     scatter_kws={'s': 40,\n",
    "                                  'facecolors': df['color']\n",
    "                                 }\n",
    "                    )\n",
    "    \n",
    "    # Adds annotations one by one with a loop\n",
    "    for line in range(0, df.shape[0]):\n",
    "         p1.text(df[\"x\"][line],\n",
    "                 df['y'][line],\n",
    "                 '  ' + df[\"words\"][line].title(),\n",
    "                 horizontalalignment='left',\n",
    "                 verticalalignment='bottom', size='medium',\n",
    "                 color=df['color'][line],\n",
    "                 weight='normal'\n",
    "                ).set_size(15)\n",
    "\n",
    "    \n",
    "    plt.xlim(Y[:, 0].min()-50, Y[:, 0].max()+50)\n",
    "    plt.ylim(Y[:, 1].min()-50, Y[:, 1].max()+50)\n",
    "            \n",
    "    plt.title('t-SNE visualization for {}'.format(word.title()))\n",
    "    "
   ]
  },
  {
   "cell_type": "code",
   "execution_count": null,
   "metadata": {
    "ExecuteTime": {
     "end_time": "2019-02-25T23:20:20.567975Z",
     "start_time": "2019-02-25T23:19:29.986Z"
    }
   },
   "outputs": [],
   "source": [
    "[('jean_luc', 0.9754818677902222),\n",
    " ('welcome_aboard', 0.942453145980835),\n",
    " ('riker', 0.903749406337738),\n",
    " ('uss_enterprise', 0.8965575695037842),\n",
    " ('william_riker', 0.8842464685440063),\n",
    " ('welcome', 0.8726394176483154),\n",
    " ('federation_starship', 0.868659496307373),\n",
    " ('urgent', 0.867255449295044),\n",
    " ('meet', 0.8623436689376831),\n",
    " ('admiral', 0.8589075803756714)]"
   ]
  },
  {
   "cell_type": "code",
   "execution_count": null,
   "metadata": {
    "ExecuteTime": {
     "end_time": "2019-02-25T23:20:20.569618Z",
     "start_time": "2019-02-25T23:19:30.148Z"
    }
   },
   "outputs": [],
   "source": [
    "#Let's compare where the vector representation of Picard, his 10 most similar words from the model, as well as 8 random ones, lies in a 2D graph:"
   ]
  },
  {
   "cell_type": "code",
   "execution_count": null,
   "metadata": {
    "ExecuteTime": {
     "end_time": "2019-02-25T23:20:20.571873Z",
     "start_time": "2019-02-25T23:19:30.318Z"
    }
   },
   "outputs": [],
   "source": [
    "tsnescatterplot(w2v_model, 'picard', ['data', 'phaser', 'doctor', 'geordi', 'worf', 'enterprise', 'federation', 'troi','beverly','crusher'])"
   ]
  },
  {
   "cell_type": "code",
   "execution_count": null,
   "metadata": {
    "ExecuteTime": {
     "end_time": "2019-02-25T23:20:20.574133Z",
     "start_time": "2019-02-25T23:19:30.812Z"
    }
   },
   "outputs": [],
   "source": [
    "#This time, let's compare where the vector representation of Picard and his 10 most similar words from the model lies compare to the vector representation of the 10 most dissimilar words to Picard"
   ]
  },
  {
   "cell_type": "code",
   "execution_count": null,
   "metadata": {
    "ExecuteTime": {
     "end_time": "2019-02-25T23:20:20.577176Z",
     "start_time": "2019-02-25T23:19:30.989Z"
    }
   },
   "outputs": [],
   "source": [
    "tsnescatterplot(w2v_model, 'picard', [i[0] for i in w2v_model.wv.most_similar(negative=[\"picard\"])])"
   ]
  },
  {
   "cell_type": "code",
   "execution_count": null,
   "metadata": {
    "ExecuteTime": {
     "end_time": "2019-02-25T23:20:20.579467Z",
     "start_time": "2019-02-25T23:19:31.505Z"
    }
   },
   "outputs": [],
   "source": [
    "#Finally, we are going to plot the most similar words to Picard ranked 1st to 10th versus the ones ranked 11th to 20th:"
   ]
  },
  {
   "cell_type": "code",
   "execution_count": null,
   "metadata": {
    "ExecuteTime": {
     "end_time": "2019-02-25T23:20:20.581309Z",
     "start_time": "2019-02-25T23:19:31.910Z"
    }
   },
   "outputs": [],
   "source": [
    "tsnescatterplot(w2v_model, \"picard\", [t[0] for t in w2v_model.wv.most_similar(positive=[\"picard\"], topn=20)][10:])"
   ]
  },
  {
   "cell_type": "code",
   "execution_count": null,
   "metadata": {
    "ExecuteTime": {
     "end_time": "2019-02-28T20:57:46.622869Z",
     "start_time": "2019-02-28T20:57:46.599569Z"
    }
   },
   "outputs": [],
   "source": [
    "tngspeech.head()"
   ]
  },
  {
   "cell_type": "markdown",
   "metadata": {},
   "source": [
    "# vader"
   ]
  },
  {
   "cell_type": "code",
   "execution_count": null,
   "metadata": {
    "ExecuteTime": {
     "end_time": "2019-02-28T20:55:49.459325Z",
     "start_time": "2019-02-28T20:55:49.456082Z"
    }
   },
   "outputs": [],
   "source": [
    "from vaderSentiment.vaderSentiment import SentimentIntensityAnalyzer"
   ]
  },
  {
   "cell_type": "code",
   "execution_count": null,
   "metadata": {
    "ExecuteTime": {
     "end_time": "2019-02-28T20:57:30.816591Z",
     "start_time": "2019-02-28T20:57:30.738551Z"
    }
   },
   "outputs": [],
   "source": [
    "#brief_cleaning = (re.sub(\"[^A-Za-z']+\", ' ', str(row)).lower() for row in tngspeech['text'])\n",
    "#tngspeech['sentiment'] = np.where(vs['pos']-vs['neg'] > 0, 'positive', 'negative')\n",
    "analyzer = SentimentIntensityAnalyzer()\n",
    "vs = analyzer.polarity_scores(tngspeech['post'][0])\n",
    "# tngspeech['sentiment1']= vs\n",
    "vs['compound']"
   ]
  },
  {
   "cell_type": "code",
   "execution_count": null,
   "metadata": {
    "ExecuteTime": {
     "end_time": "2019-02-28T20:59:14.846081Z",
     "start_time": "2019-02-28T20:59:00.562950Z"
    }
   },
   "outputs": [],
   "source": [
    "tngspeech['compound'] = tngspeech['text'].map(lambda x: analyzer.polarity_scores(x)['compound'])"
   ]
  },
  {
   "cell_type": "code",
   "execution_count": null,
   "metadata": {
    "ExecuteTime": {
     "end_time": "2019-02-26T20:38:48.103616Z",
     "start_time": "2019-02-26T20:38:48.099847Z"
    }
   },
   "outputs": [],
   "source": [
    "#tngspeech['negative'] = tngspeech['text'].map(lambda x: analyzer.polarity_scores(x)['neg'])"
   ]
  },
  {
   "cell_type": "code",
   "execution_count": null,
   "metadata": {
    "ExecuteTime": {
     "end_time": "2019-02-26T20:38:48.112262Z",
     "start_time": "2019-02-26T20:38:48.107928Z"
    }
   },
   "outputs": [],
   "source": [
    "#tngspeech['positive'] = tngspeech['text'].map(lambda x: analyzer.polarity_scores(x)['pos'])"
   ]
  },
  {
   "cell_type": "code",
   "execution_count": null,
   "metadata": {
    "ExecuteTime": {
     "end_time": "2019-02-26T20:38:48.121501Z",
     "start_time": "2019-02-26T20:38:48.116949Z"
    }
   },
   "outputs": [],
   "source": [
    "#tngspeech['neutral'] = tngspeech['text'].map(lambda x: analyzer.polarity_scores(x)['neu'])"
   ]
  },
  {
   "cell_type": "code",
   "execution_count": null,
   "metadata": {
    "ExecuteTime": {
     "end_time": "2019-02-28T20:59:17.944395Z",
     "start_time": "2019-02-28T20:59:17.911439Z"
    }
   },
   "outputs": [],
   "source": [
    "tngspeech.head(30)"
   ]
  },
  {
   "cell_type": "code",
   "execution_count": null,
   "metadata": {
    "ExecuteTime": {
     "end_time": "2019-02-26T20:38:48.189932Z",
     "start_time": "2019-02-26T20:38:48.185863Z"
    }
   },
   "outputs": [],
   "source": [
    "#tngspeech.drop(columns=['sentiment'],inplace=True)\n",
    "#tngspeech.drop(columns=['negative','positive' ,'neutral'], inplace=True)"
   ]
  },
  {
   "cell_type": "code",
   "execution_count": null,
   "metadata": {
    "ExecuteTime": {
     "end_time": "2019-02-28T20:59:27.316299Z",
     "start_time": "2019-02-28T20:59:27.312325Z"
    }
   },
   "outputs": [],
   "source": [
    "def sentiment_mapper(x):\n",
    "    if x >= 0.05:\n",
    "        result = 'positive'\n",
    "    elif x <= -0.05:\n",
    "        result = 'negative'\n",
    "    else:\n",
    "        result = 'neutral'\n",
    "    return result"
   ]
  },
  {
   "cell_type": "code",
   "execution_count": null,
   "metadata": {
    "ExecuteTime": {
     "end_time": "2019-02-28T20:59:28.223434Z",
     "start_time": "2019-02-28T20:59:28.216848Z"
    }
   },
   "outputs": [],
   "source": [
    "tngspeech['compound'].head().map(sentiment_mapper)"
   ]
  },
  {
   "cell_type": "code",
   "execution_count": null,
   "metadata": {
    "ExecuteTime": {
     "end_time": "2019-02-28T20:59:29.451532Z",
     "start_time": "2019-02-28T20:59:29.278844Z"
    }
   },
   "outputs": [],
   "source": [
    "tngspeech.head(30)\n",
    "tngspeech['sentiment'] = tngspeech['compound'].map(sentiment_mapper)\n",
    "#positive sentiment: compound score >= 0.05\n",
    "#neutral sentiment: (compound score > -0.05) and (compound score < 0.05)\n",
    "#negative sentiment: compound score <= -0.05"
   ]
  },
  {
   "cell_type": "code",
   "execution_count": null,
   "metadata": {
    "ExecuteTime": {
     "end_time": "2019-02-28T20:59:30.245369Z",
     "start_time": "2019-02-28T20:59:30.221217Z"
    }
   },
   "outputs": [],
   "source": [
    "tngspeech.head()"
   ]
  },
  {
   "cell_type": "code",
   "execution_count": null,
   "metadata": {
    "ExecuteTime": {
     "end_time": "2019-02-28T16:53:57.109656Z",
     "start_time": "2019-02-28T16:53:56.250809Z"
    }
   },
   "outputs": [],
   "source": [
    "tngspeech.to_csv('tngdf1.csv')"
   ]
  },
  {
   "cell_type": "code",
   "execution_count": null,
   "metadata": {
    "ExecuteTime": {
     "end_time": "2019-02-28T16:53:57.227846Z",
     "start_time": "2019-02-28T16:53:57.115135Z"
    }
   },
   "outputs": [],
   "source": [
    "filter3=tngspeech.groupby(['Season','sentiment'])['who'].value_counts()\n",
    "filter3 = filter3.reset_index(name='count')\n",
    "filter3.sort_values(['Season','sentiment','count'],ascending=False).groupby(['Season','sentiment']).head(20)\n"
   ]
  },
  {
   "cell_type": "code",
   "execution_count": null,
   "metadata": {
    "ExecuteTime": {
     "end_time": "2019-02-28T16:53:58.376639Z",
     "start_time": "2019-02-28T16:53:58.310752Z"
    }
   },
   "outputs": [],
   "source": [
    "tngspeech.info()"
   ]
  },
  {
   "cell_type": "code",
   "execution_count": null,
   "metadata": {
    "ExecuteTime": {
     "end_time": "2019-02-28T16:53:59.550921Z",
     "start_time": "2019-02-28T16:53:59.501545Z"
    }
   },
   "outputs": [],
   "source": [
    "tngspeech['Released'] =  pd.to_datetime(tngspeech['Released'], format='%Y-%m-%d')"
   ]
  },
  {
   "cell_type": "code",
   "execution_count": null,
   "metadata": {
    "ExecuteTime": {
     "end_time": "2019-02-28T16:54:00.719699Z",
     "start_time": "2019-02-28T16:54:00.696419Z"
    }
   },
   "outputs": [],
   "source": [
    "tngspeech.head()"
   ]
  },
  {
   "cell_type": "code",
   "execution_count": null,
   "metadata": {
    "ExecuteTime": {
     "end_time": "2019-02-28T16:54:01.906615Z",
     "start_time": "2019-02-28T16:54:01.866732Z"
    }
   },
   "outputs": [],
   "source": [
    "filter5=tngspeech.groupby(['Season','episode', 'Released'])['imdbRating'].mean()\n",
    "filter5 = filter5.reset_index(name='rating')\n",
    "filter5.sort_values(['Season','Released','episode'],ascending=True).groupby(['Released']).head(20)"
   ]
  },
  {
   "cell_type": "code",
   "execution_count": null,
   "metadata": {
    "ExecuteTime": {
     "end_time": "2019-02-28T16:54:03.020760Z",
     "start_time": "2019-02-28T16:54:02.984550Z"
    }
   },
   "outputs": [],
   "source": [
    "filter5"
   ]
  },
  {
   "cell_type": "code",
   "execution_count": null,
   "metadata": {
    "ExecuteTime": {
     "end_time": "2019-02-28T16:54:04.189097Z",
     "start_time": "2019-02-28T16:54:04.166317Z"
    }
   },
   "outputs": [],
   "source": [
    "filter4=tngspeech.groupby(['who'])['compound'].mean()\n",
    "filter4 = filter4.reset_index(name='count')\n",
    "newdf=filter4.sort_values(['who','count'],ascending=False).groupby(['who']).head(20)"
   ]
  },
  {
   "cell_type": "code",
   "execution_count": null,
   "metadata": {
    "ExecuteTime": {
     "end_time": "2019-02-28T16:54:05.402505Z",
     "start_time": "2019-02-28T16:54:05.377281Z"
    }
   },
   "outputs": [],
   "source": [
    "newdf"
   ]
  },
  {
   "cell_type": "code",
   "execution_count": null,
   "metadata": {
    "ExecuteTime": {
     "end_time": "2019-02-28T16:54:18.383547Z",
     "start_time": "2019-02-28T16:54:18.377934Z"
    }
   },
   "outputs": [],
   "source": [
    "mask = newdf['who']=='PULASKI'"
   ]
  },
  {
   "cell_type": "code",
   "execution_count": null,
   "metadata": {
    "ExecuteTime": {
     "end_time": "2019-02-28T16:54:19.119006Z",
     "start_time": "2019-02-28T16:54:19.103773Z"
    }
   },
   "outputs": [],
   "source": [
    "newdf[mask]"
   ]
  },
  {
   "cell_type": "code",
   "execution_count": null,
   "metadata": {
    "ExecuteTime": {
     "end_time": "2019-02-28T16:55:12.771038Z",
     "start_time": "2019-02-28T16:55:12.742389Z"
    }
   },
   "outputs": [],
   "source": [
    "import os\n",
    "import gensim\n",
    "model1 = gensim.models.KeyedVectors.load_word2vec_format(tngspeech['post'], binary=True)"
   ]
  },
  {
   "cell_type": "code",
   "execution_count": null,
   "metadata": {
    "ExecuteTime": {
     "end_time": "2019-02-28T16:55:15.948049Z",
     "start_time": "2019-02-28T16:55:15.926678Z"
    }
   },
   "outputs": [],
   "source": [
    "model1.most_similar('picard' ,topn=4)"
   ]
  },
  {
   "cell_type": "code",
   "execution_count": null,
   "metadata": {
    "ExecuteTime": {
     "end_time": "2019-02-28T21:00:13.006604Z",
     "start_time": "2019-02-28T21:00:13.003538Z"
    }
   },
   "outputs": [],
   "source": [
    "import gensim"
   ]
  },
  {
   "cell_type": "code",
   "execution_count": null,
   "metadata": {
    "ExecuteTime": {
     "end_time": "2019-02-28T21:00:14.870319Z",
     "start_time": "2019-02-28T21:00:13.503254Z"
    }
   },
   "outputs": [],
   "source": [
    "tokenized_docs = [gensim.utils.simple_preprocess(d) for d in tngspeech['post']]"
   ]
  },
  {
   "cell_type": "code",
   "execution_count": null,
   "metadata": {
    "ExecuteTime": {
     "end_time": "2019-02-28T21:00:20.065635Z",
     "start_time": "2019-02-28T21:00:14.872979Z"
    }
   },
   "outputs": [],
   "source": [
    "model = gensim.models.Word2Vec(tokenized_docs, size=10, window=2,min_count=1, sg=1)"
   ]
  },
  {
   "cell_type": "code",
   "execution_count": null,
   "metadata": {
    "ExecuteTime": {
     "end_time": "2019-02-28T21:06:24.861295Z",
     "start_time": "2019-02-28T21:06:24.850164Z"
    }
   },
   "outputs": [],
   "source": [
    "model.most_similar('bajoran' ,topn=10)"
   ]
  },
  {
   "cell_type": "code",
   "execution_count": null,
   "metadata": {
    "ExecuteTime": {
     "end_time": "2019-02-28T21:00:24.968066Z",
     "start_time": "2019-02-28T21:00:24.960205Z"
    }
   },
   "outputs": [],
   "source": [
    "model.most_similar(positive=['ferengi', 'klingon'], negative=['man'])"
   ]
  },
  {
   "cell_type": "code",
   "execution_count": null,
   "metadata": {
    "ExecuteTime": {
     "end_time": "2019-02-28T21:00:25.845157Z",
     "start_time": "2019-02-28T21:00:25.837445Z"
    }
   },
   "outputs": [],
   "source": [
    "model.most_similar(positive=['borg', 'vulcan'])"
   ]
  },
  {
   "cell_type": "code",
   "execution_count": null,
   "metadata": {
    "ExecuteTime": {
     "end_time": "2019-02-28T21:00:26.536706Z",
     "start_time": "2019-02-28T21:00:26.527314Z"
    }
   },
   "outputs": [],
   "source": [
    "model.most_similar(positive=['vulcan', 'romulan'])"
   ]
  },
  {
   "cell_type": "code",
   "execution_count": null,
   "metadata": {
    "ExecuteTime": {
     "end_time": "2019-02-28T21:01:39.542193Z",
     "start_time": "2019-02-28T21:01:39.532668Z"
    }
   },
   "outputs": [],
   "source": [
    "model.most_similar(positive=['cardassian', ])"
   ]
  },
  {
   "cell_type": "code",
   "execution_count": null,
   "metadata": {
    "ExecuteTime": {
     "end_time": "2019-02-28T21:00:27.337944Z",
     "start_time": "2019-02-28T21:00:27.334276Z"
    }
   },
   "outputs": [],
   "source": [
    "import scipy.sparse as ss"
   ]
  },
  {
   "cell_type": "code",
   "execution_count": null,
   "metadata": {
    "ExecuteTime": {
     "end_time": "2019-02-27T22:11:25.628556Z",
     "start_time": "2019-02-27T22:11:22.879045Z"
    }
   },
   "outputs": [],
   "source": [
    "# Transform 20 newsgroup data into a sparse matrix\n",
    "vectorizer = CountVectorizer(stop_words='english', max_features=20000, binary=True)\n",
    "doc_word = vectorizer.fit_transform(tngspeech['post'])\n",
    "doc_word = ss.csr_matrix(doc_word)\n",
    "\n",
    "doc_word.shape # n_docs x m_words"
   ]
  },
  {
   "cell_type": "code",
   "execution_count": null,
   "metadata": {
    "ExecuteTime": {
     "end_time": "2019-02-27T22:11:48.195660Z",
     "start_time": "2019-02-27T22:11:48.163540Z"
    }
   },
   "outputs": [],
   "source": [
    "# Get words that label the columns (needed to extract readable topics and make anchoring easier)\n",
    "words = list(np.asarray(vectorizer.get_feature_names()))"
   ]
  },
  {
   "cell_type": "code",
   "execution_count": null,
   "metadata": {
    "ExecuteTime": {
     "end_time": "2019-02-27T22:12:27.048395Z",
     "start_time": "2019-02-27T22:12:27.005201Z"
    }
   },
   "outputs": [],
   "source": [
    "not_digit_inds = [ind for ind,word in enumerate(words) if not word.isdigit()]\n",
    "doc_word = doc_word[:,not_digit_inds]\n",
    "words    = [word for ind,word in enumerate(words) if not word.isdigit()]\n",
    "\n",
    "doc_word.shape # n_docs x m_words"
   ]
  },
  {
   "cell_type": "code",
   "execution_count": null,
   "metadata": {
    "ExecuteTime": {
     "end_time": "2019-02-28T02:08:00.469402Z",
     "start_time": "2019-02-28T02:05:50.983144Z"
    }
   },
   "outputs": [],
   "source": [
    "topic_model = ct.Corex(n_hidden=10, words=words, max_iter=200, verbose=False, seed=1, docs=tngspeech['post'])\n",
    "topic_model.fit(doc_word, words=words);"
   ]
  },
  {
   "cell_type": "code",
   "execution_count": null,
   "metadata": {
    "ExecuteTime": {
     "end_time": "2019-02-28T02:08:55.693930Z",
     "start_time": "2019-02-28T02:08:55.674604Z"
    }
   },
   "outputs": [],
   "source": [
    "topic_model.get_topics(topic=1, n_words=10)"
   ]
  },
  {
   "cell_type": "code",
   "execution_count": null,
   "metadata": {
    "ExecuteTime": {
     "end_time": "2019-02-28T02:08:57.155810Z",
     "start_time": "2019-02-28T02:08:57.029439Z"
    }
   },
   "outputs": [],
   "source": [
    "# Print all topics from the CorEx topic model\n",
    "topics = topic_model.get_topics()\n",
    "for n,topic in enumerate(topics):\n",
    "    topic_words,_ = zip(*topic)\n",
    "    print('{}: '.format(n) + ','.join(topic_words))"
   ]
  },
  {
   "cell_type": "code",
   "execution_count": null,
   "metadata": {
    "ExecuteTime": {
     "end_time": "2019-02-28T02:09:36.084693Z",
     "start_time": "2019-02-28T02:09:35.802995Z"
    }
   },
   "outputs": [],
   "source": [
    "topic_model.get_top_docs(topic=0, n_docs=10)"
   ]
  },
  {
   "cell_type": "code",
   "execution_count": null,
   "metadata": {
    "ExecuteTime": {
     "end_time": "2019-02-28T02:09:47.265856Z",
     "start_time": "2019-02-28T02:09:47.254595Z"
    }
   },
   "outputs": [],
   "source": [
    "tngspeech['post'].iloc[272080]"
   ]
  },
  {
   "cell_type": "code",
   "execution_count": null,
   "metadata": {
    "ExecuteTime": {
     "end_time": "2019-02-28T14:08:28.788670Z",
     "start_time": "2019-02-28T14:08:28.759603Z"
    }
   },
   "outputs": [],
   "source": [
    "model.most_similar(positive=['riker', 'troi'])"
   ]
  },
  {
   "cell_type": "code",
   "execution_count": null,
   "metadata": {
    "ExecuteTime": {
     "end_time": "2019-02-28T14:08:58.688998Z",
     "start_time": "2019-02-28T14:08:58.680136Z"
    }
   },
   "outputs": [],
   "source": [
    "model.most_similar(positive=['ferengi', 'cardassian'])"
   ]
  },
  {
   "cell_type": "code",
   "execution_count": null,
   "metadata": {
    "ExecuteTime": {
     "end_time": "2019-02-28T14:09:19.852507Z",
     "start_time": "2019-02-28T14:09:19.843030Z"
    }
   },
   "outputs": [],
   "source": [
    "model.most_similar(positive=['borg', 'vulcan'])"
   ]
  },
  {
   "cell_type": "code",
   "execution_count": null,
   "metadata": {
    "ExecuteTime": {
     "end_time": "2019-02-28T21:38:26.501513Z",
     "start_time": "2019-02-28T21:38:26.488343Z"
    }
   },
   "outputs": [],
   "source": [
    "model.most_similar(positive=['borg', 'vulcan', 'ferengi','cardassian', 'romulan', 'klingon','bajoran'])"
   ]
  },
  {
   "cell_type": "code",
   "execution_count": null,
   "metadata": {},
   "outputs": [],
   "source": []
  }
 ],
 "metadata": {
  "kernelspec": {
   "display_name": "Python 3",
   "language": "python",
   "name": "python3"
  },
  "language_info": {
   "codemirror_mode": {
    "name": "ipython",
    "version": 3
   },
   "file_extension": ".py",
   "mimetype": "text/x-python",
   "name": "python",
   "nbconvert_exporter": "python",
   "pygments_lexer": "ipython3",
   "version": "3.6.8"
  }
 },
 "nbformat": 4,
 "nbformat_minor": 2
}
